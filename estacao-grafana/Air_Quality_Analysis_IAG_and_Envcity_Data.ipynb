{
 "cells": [
  {
   "cell_type": "code",
   "execution_count": 1,
   "metadata": {},
   "outputs": [],
   "source": [
    "#!/usr/bin/env python\n",
    "# coding: utf-8"
   ]
  },
  {
   "cell_type": "markdown",
   "metadata": {},
   "source": [
    "## Lendo os dados e Configurações do Matplotlib<br>\n"
   ]
  },
  {
   "cell_type": "markdown",
   "metadata": {},
   "source": [
    "In[11]:"
   ]
  },
  {
   "cell_type": "markdown",
   "metadata": {},
   "source": [
    "mportações e configurações"
   ]
  },
  {
   "cell_type": "code",
   "execution_count": 2,
   "metadata": {},
   "outputs": [],
   "source": [
    "import numpy as np\n",
    "import seaborn as sns\n",
    "import matplotlib.pyplot as plt\n",
    "import pandas as pd"
   ]
  },
  {
   "cell_type": "code",
   "execution_count": 3,
   "metadata": {},
   "outputs": [],
   "source": [
    "from sys import version"
   ]
  },
  {
   "cell_type": "code",
   "execution_count": 4,
   "metadata": {},
   "outputs": [],
   "source": [
    "from IPython.display import display, HTML"
   ]
  },
  {
   "cell_type": "markdown",
   "metadata": {},
   "source": [
    "onfigurações do Matplotlib"
   ]
  },
  {
   "cell_type": "code",
   "execution_count": 5,
   "metadata": {},
   "outputs": [
    {
     "name": "stdout",
     "output_type": "stream",
     "text": [
      "python version:  3.12.3 (main, Feb  4 2025, 14:48:35) [GCC 13.3.0]\n",
      "Numpy version:  2.3.0\n",
      "Pandas version:  2.2.3\n"
     ]
    }
   ],
   "source": [
    "plt.rcParams.update({\n",
    "    \"text.usetex\": False,\n",
    "    \"font.family\": \"serif\",\n",
    "    \"font.sans-serif\": \"Times\",\n",
    "    \"font.size\" : 10,\n",
    "})\n",
    "#Versões das bibliotecas\n",
    "print(\"python version: \", version)\n",
    "print(\"Numpy version: \", np.__version__)\n",
    "print(\"Pandas version: \", pd.__version__)"
   ]
  },
  {
   "cell_type": "code",
   "execution_count": 6,
   "metadata": {},
   "outputs": [],
   "source": [
    "from envcity_plot_lib import *"
   ]
  },
  {
   "cell_type": "code",
   "execution_count": 7,
   "metadata": {},
   "outputs": [],
   "source": [
    "from alphasense_b_sensors.alphasense_sensors import *"
   ]
  },
  {
   "cell_type": "markdown",
   "metadata": {},
   "source": [
    "In[12]:"
   ]
  },
  {
   "cell_type": "markdown",
   "metadata": {},
   "source": [
    "!wget https://media.githubusercontent.com/media/MateusMaruzka/aqm-dataset/main/envcity_aqm_df.csv -O aqm.csv"
   ]
  },
  {
   "cell_type": "markdown",
   "metadata": {},
   "source": [
    "In[13]:"
   ]
  },
  {
   "cell_type": "code",
   "execution_count": 8,
   "metadata": {},
   "outputs": [],
   "source": [
    "#!wget https://raw.githubusercontent.com/MateusMaruzka/aqm_envcity_sw/main/alphasense_sensors.py -O alphasense_sensors.py\n",
    "#!wget https://raw.githubusercontent.com/MateusMaruzka/aqm_envcity_sw/main/dados_correcao_temp.py -O dados_correcao_temp.py\n",
    "#!wget https://raw.githubusercontent.com/MateusMaruzka/aqm_envcity_sw/main/dados_alphasense.py -O dados_alphasense.py"
   ]
  },
  {
   "cell_type": "markdown",
   "metadata": {},
   "source": [
    "## Organizando o dataset"
   ]
  },
  {
   "cell_type": "markdown",
   "metadata": {},
   "source": [
    "In[14]:"
   ]
  },
  {
   "cell_type": "markdown",
   "metadata": {},
   "source": [
    "Leitura do dataset"
   ]
  },
  {
   "cell_type": "code",
   "execution_count": 9,
   "metadata": {},
   "outputs": [
    {
     "name": "stdout",
     "output_type": "stream",
     "text": [
      "(194485, 181)\n",
      "            e1_anem  e1_anem_volt         e1_co       e1_co_2       e1_co_3  \\\n",
      "count  43464.000000  25641.000000  43464.000000  43464.000000  43464.000000   \n",
      "mean       8.784224      0.501088   -257.343391    232.316820    186.055181   \n",
      "std        2.550723      0.018040   1619.857223    900.151430    886.591724   \n",
      "min        0.000000      0.000000 -25741.396484 -15297.602539 -15306.832031   \n",
      "25%        8.342664      0.498188   -285.960434    110.959763     46.315489   \n",
      "50%        8.472690      0.503438    232.782364    187.673752    118.113029   \n",
      "75%       10.501109      0.507937    332.472198    293.837364    227.100555   \n",
      "max       36.000000      0.619500  14709.538086  13169.983398  13040.117188   \n",
      "\n",
      "            e1_co_4      e1_co_ae      e1_co_we  e1_location        e1_no2  \\\n",
      "count  43464.000000  25641.000000  25641.000000          0.0  43464.000000   \n",
      "mean    -393.044602      0.308851      0.462073          NaN     40.933911   \n",
      "std      891.801038      0.069943      0.359609          NaN    129.713789   \n",
      "min   -15515.165039      0.036562      0.341812          NaN -10674.355469   \n",
      "25%     -836.776855      0.306750      0.385688          NaN     -2.701613   \n",
      "50%     -741.218994      0.312187      0.402375          NaN      1.532258   \n",
      "75%        0.000000      0.316875      0.431437          NaN    127.248032   \n",
      "max    11879.648438      4.849125      4.812375          NaN   6605.645508   \n",
      "\n",
      "       ...       iag_pm25   iag_pmcoarse   iag_pressure  iag_rainfalltotal  \\\n",
      "count  ...  141180.000000  141180.000000  141180.000000      141180.000000   \n",
      "mean   ...      11.424620      12.125215     925.792428           0.015795   \n",
      "std    ...       8.772193       9.303534       2.775974           0.081824   \n",
      "min    ...       0.924000       0.833000     912.000000           0.000000   \n",
      "25%    ...       5.046000       6.014000     924.000000           0.000000   \n",
      "50%    ...       9.100000      10.500000     926.000000           0.000000   \n",
      "75%    ...      15.680000      16.080000     928.000000           0.000000   \n",
      "max    ...      65.460000     213.700000     933.000000           5.300000   \n",
      "\n",
      "           iag_sigma        iag_so2  iag_solarradiation         iag_wd  \\\n",
      "count  141180.000000  141180.000000       141180.000000  141180.000000   \n",
      "mean        0.057547      29.642827          105.302989      31.683846   \n",
      "std         0.213006      58.984433          220.875903      26.297164   \n",
      "min         0.000000     -24.990000            0.000000       0.709000   \n",
      "25%         0.024000       6.792000            0.000000      18.470000   \n",
      "50%         0.034000      15.230000            0.000000      18.770000   \n",
      "75%         0.042000      30.980000          113.800000      20.560000   \n",
      "max        23.720000     428.800000         1092.000000     126.900000   \n",
      "\n",
      "              iag_ws       pin_umid  \n",
      "count  141180.000000  152581.000000  \n",
      "mean        1.107279      72.298478  \n",
      "std         0.013464      17.618968  \n",
      "min         1.100000      21.000000  \n",
      "25%         1.100000      61.000000  \n",
      "50%         1.102000      78.000000  \n",
      "75%         1.110000      86.000000  \n",
      "max         1.561000      96.000000  \n",
      "\n",
      "[8 rows x 180 columns]\n"
     ]
    }
   ],
   "source": [
    "aqm = pd.read_csv('envcity_aqm_df.csv')\n",
    "print(aqm.shape)\n",
    "print(aqm.describe())\n",
    "#%%"
   ]
  },
  {
   "cell_type": "markdown",
   "metadata": {},
   "source": [
    "impeza de colunas não utilizadas"
   ]
  },
  {
   "cell_type": "code",
   "execution_count": 10,
   "metadata": {},
   "outputs": [],
   "source": [
    "from itertools import product"
   ]
  },
  {
   "cell_type": "code",
   "execution_count": 11,
   "metadata": {},
   "outputs": [
    {
     "name": "stdout",
     "output_type": "stream",
     "text": [
      "e1_anem_volt\n",
      "e1_anem\n",
      "e2_anem_volt\n",
      "e2_anem\n",
      "e2sp_anem_volt\n",
      "e2sp_anem\n"
     ]
    }
   ],
   "source": [
    "for label, p, s in product(['anem'], ['e1_', 'e2_', 'e2sp_'], ['_volt', '']):\n",
    "    print(p + label+s)\n",
    "    try:\n",
    "        aqm.drop(labels = p + label + s, axis = 1,inplace=True)\n",
    "    except:\n",
    "        print('err')\n",
    "# aqm.set_index('time', inplace=True)"
   ]
  },
  {
   "cell_type": "markdown",
   "metadata": {},
   "source": [
    "In[34]:"
   ]
  },
  {
   "cell_type": "code",
   "execution_count": 12,
   "metadata": {},
   "outputs": [],
   "source": [
    "aqm_filtered = aqm.copy()"
   ]
  },
  {
   "cell_type": "markdown",
   "metadata": {},
   "source": [
    "emoção de linhas com valores inválidos"
   ]
  },
  {
   "cell_type": "code",
   "execution_count": 13,
   "metadata": {},
   "outputs": [],
   "source": [
    "for index, row in aqm.iterrows():\n",
    "    if (row == -3).sum() > 0:\n",
    "        aqm_filtered.drop(index, inplace=True)\n",
    "# In[36]:"
   ]
  },
  {
   "cell_type": "markdown",
   "metadata": {},
   "source": [
    "aqm_filtered.reset_index(drop=True)"
   ]
  },
  {
   "cell_type": "code",
   "execution_count": 14,
   "metadata": {},
   "outputs": [],
   "source": [
    "aqm_filtered.set_index('time', inplace=True)\n",
    "aqm = aqm_filtered"
   ]
  },
  {
   "cell_type": "markdown",
   "metadata": {},
   "source": [
    "%"
   ]
  },
  {
   "cell_type": "code",
   "execution_count": 15,
   "metadata": {},
   "outputs": [
    {
     "name": "stdout",
     "output_type": "stream",
     "text": [
      "(193809, 174)\n"
     ]
    }
   ],
   "source": [
    "print(aqm.shape)\n",
    "#%%\n",
    "# ## Filtro por limites físicos dos sensores\n",
    "labels =  ['co', 'so2', 'ox', 'no2']\n",
    "prefix = ['e1_', 'e2_', 'e2sp_']\n",
    "suffix = ['_ae', '_we']"
   ]
  },
  {
   "cell_type": "code",
   "execution_count": 16,
   "metadata": {},
   "outputs": [],
   "source": [
    "for label, p, s in product(labels, prefix, suffix):\n",
    "  data = aqm[p+label+s]\n",
    "  idx = (data > 6.14) | (data < 0.05)\n",
    "  data.loc[idx] = np.nan"
   ]
  },
  {
   "cell_type": "code",
   "execution_count": 17,
   "metadata": {},
   "outputs": [
    {
     "name": "stdout",
     "output_type": "stream",
     "text": [
      "(193809, 174)\n"
     ]
    }
   ],
   "source": [
    "for p in prefix:\n",
    "  data = aqm[p + 'temp']\n",
    "  idx = (data > 50) | (data <= 1)\n",
    "  data.loc[idx] = np.nan\n",
    "  \n",
    "#%%\n",
    "# ## Verificando colunas faltantes\n",
    "print(aqm.shape)\n",
    "# In[37]:"
   ]
  },
  {
   "cell_type": "markdown",
   "metadata": {},
   "source": [
    "aqm.describe()"
   ]
  },
  {
   "cell_type": "markdown",
   "metadata": {},
   "source": [
    "## Métricas de Avaliação<br>\n",
    "<br>\n",
    "* Métricas de avaliação [https://amt.copernicus.org/articles/11/291/2018/amt-11-291-2018.pdf]<br>\n",
    "1. $R^2$<br>\n",
    "<br>\n",
    "2. **Pearson r**<br>\n",
    "<br>\n",
    "3. $\\mathrm{RMSE} = \\sqrt{\\frac{\\sum_{i=1}^{N}(y_{ref} - \\hat{y})^{2})}{N}}$<br>\n",
    "<br>\n",
    "4. $\\mathrm{CvMAE} = \\frac{\\overbrace{MAE}^{\\textrm{Mean absolute error}}}{\\mu_{ref}} = \\frac{1}{\\mu_{ref}} \\frac{\\sum_{i=1}^{N}{|y_{ref} - \\hat{y}}|}{N}$<br>\n"
   ]
  },
  {
   "cell_type": "markdown",
   "metadata": {},
   "source": [
    "In[38]:"
   ]
  },
  {
   "cell_type": "code",
   "execution_count": 18,
   "metadata": {},
   "outputs": [],
   "source": [
    "def pearson_r(y, yref):\n",
    "    my = np.mean(y)\n",
    "    myref = np.mean(yref)\n",
    "    _y = y - my\n",
    "    _yref = yref - myref\n",
    "    num = np.sum(np.dot(_y, _yref))\n",
    "    den = np.sum(_y**2) * np.sum(_yref**2)\n",
    "    den = np.sqrt(den)\n",
    "    return num/den"
   ]
  },
  {
   "cell_type": "code",
   "execution_count": 19,
   "metadata": {},
   "outputs": [],
   "source": [
    "def mse(y, yref):\n",
    "    return np.mean(np.square(np.subtract(yref, y)))"
   ]
  },
  {
   "cell_type": "code",
   "execution_count": 20,
   "metadata": {},
   "outputs": [],
   "source": [
    "def rmse(y, yref):\n",
    "    return np.sqrt(mse(y, yref))"
   ]
  },
  {
   "cell_type": "code",
   "execution_count": 21,
   "metadata": {},
   "outputs": [],
   "source": [
    "def mae(y, yref):\n",
    "    return np.mean(np.abs(np.subtract(yref, y)))"
   ]
  },
  {
   "cell_type": "code",
   "execution_count": 22,
   "metadata": {},
   "outputs": [],
   "source": [
    "def cvmae(y, yref):\n",
    "    yref_mean = np.mean(yref)\n",
    "    return mae(y, yref) / yref_mean"
   ]
  },
  {
   "cell_type": "markdown",
   "metadata": {},
   "source": [
    "In[39]:"
   ]
  },
  {
   "cell_type": "code",
   "execution_count": 23,
   "metadata": {},
   "outputs": [],
   "source": [
    "def exploratory_analysis(dict_data_e1, dict_data_e2, labels, latex_labels, start, end):\n",
    "    table_exploratory_analysis = {}\n",
    "    for idx, l in enumerate(labels):\n",
    "        e1 = dict_data_e1[l]\n",
    "        e2 = dict_data_e2[l]\n",
    "        concatenated = pd.concat([e1, e2], axis=1, keys=['Station 1', 'Station 2'])\n",
    "        table_exploratory_analysis[l] = describe(concatenated, ['median'], ['25%', '50%', '75%'])\n",
    "    return table_exploratory_analysis"
   ]
  },
  {
   "cell_type": "markdown",
   "metadata": {},
   "source": [
    "### Funções Gráficos<br>\n",
    "<br>\n",
    "**plot_data_by_time_and_regr_plot** gera dois gráficos, um do lado do outro. O primeiro é os dados em função do tempo e o segundo é um gráfico de dispersão entre os dois sensores"
   ]
  },
  {
   "cell_type": "markdown",
   "metadata": {},
   "source": [
    "In[40]:"
   ]
  },
  {
   "cell_type": "markdown",
   "metadata": {},
   "source": [
    "### Análise"
   ]
  },
  {
   "cell_type": "markdown",
   "metadata": {},
   "source": [
    "#### Resultados complementas:<br>\n",
    "1. Comunicação degrada a partir de 30 graus<br>\n",
    "2. Pode estar relacionada ao CI SX1276<br>\n",
    "<br>\n",
    "Ações:<br>\n",
    "Dropar toda as linhas com erro"
   ]
  },
  {
   "cell_type": "markdown",
   "metadata": {},
   "source": [
    "In[41]:"
   ]
  },
  {
   "cell_type": "markdown",
   "metadata": {},
   "source": [
    "atex_labels it is only for printing<br>\n",
    "latex_labels = ['CO', 'NO_2', 'O_X', 'SO_2', 'PM1.0', 'PM2.5', 'PM10']"
   ]
  },
  {
   "cell_type": "markdown",
   "metadata": {},
   "source": [
    "for label in labels:<br>\n",
    "  for p in preffix:<br>\n",
    "    plt.figure()"
   ]
  },
  {
   "cell_type": "code",
   "execution_count": 24,
   "metadata": {},
   "outputs": [],
   "source": [
    "    \n",
    "#     data_filtered = aqm[p+label]\n",
    "        \n",
    "#     data_temp = aqm[p+'temp']\n",
    "    \n",
    "#     data_filtered = data_filtered.dropna()\n",
    "#     data_temp = data_temp.dropna()\n",
    "    \n",
    "#     teste = pd.concat([data_filtered, data_temp], axis =1)\n",
    "    \n",
    "#     plt.gca().scatter(y = teste[p+label], x=teste[p+'temp'], marker = '.')\n",
    "#     plt.gca().set_xlabel('Temperatura')\n",
    "#     plt.gca().set_ylabel('Tensão')\n",
    "#     plt.title(label)"
   ]
  },
  {
   "cell_type": "markdown",
   "metadata": {},
   "source": [
    "    plt.show()<br>\n",
    "    print(aqm[p+label].min(), aqm[p+label].max())<br>\n",
    "%<br>\n",
    "## Checando ausência de umidade relativa"
   ]
  },
  {
   "cell_type": "code",
   "execution_count": 25,
   "metadata": {},
   "outputs": [
    {
     "name": "stdout",
     "output_type": "stream",
     "text": [
      "41828\n"
     ]
    }
   ],
   "source": [
    "pin_ur = aqm['pin_umid'].isna().sum()\n",
    "print(pin_ur)"
   ]
  },
  {
   "cell_type": "markdown",
   "metadata": {},
   "source": [
    "%<br>\n",
    "['2023-03-18 10:00:00':'2023-03-22 10:00:00']."
   ]
  },
  {
   "cell_type": "markdown",
   "metadata": {},
   "source": [
    "## Plot dos dados brutos: sensor vs. umidade relativa"
   ]
  },
  {
   "cell_type": "code",
   "execution_count": 26,
   "metadata": {},
   "outputs": [
    {
     "data": {
      "image/png": "[encoded data removed]",
      "text/plain": [
       "<Figure size 640x480 with 2 Axes>"
      ]
     },
     "metadata": {},
     "output_type": "display_data"
    }
   ],
   "source": [
    "plt.figure()\n",
    "aqm['e2sp_co_we'].plot(marker = '.', linewidth = 0.1, color = 'b')\n",
    "plt.gca().set_ylim([-0.5, 1])\n",
    "ax = plt.gca().twinx()\n",
    "aqm['pin_umid'].plot(marker = '.', linewidth = 0.1, ax = ax, color = 'r')\n",
    "ax.set_ylim([0, 99])\n",
    "# plt.gcf().autofmt_xdate()\n",
    "plt.show()"
   ]
  },
  {
   "cell_type": "markdown",
   "metadata": {},
   "source": [
    "%<br>\n",
    "mportação de modelos e métricas do scikit-learn"
   ]
  },
  {
   "cell_type": "code",
   "execution_count": 27,
   "metadata": {},
   "outputs": [],
   "source": [
    "from sklearn.linear_model import LinearRegression"
   ]
  },
  {
   "cell_type": "code",
   "execution_count": 28,
   "metadata": {},
   "outputs": [],
   "source": [
    "from sklearn.preprocessing import StandardScaler, MinMaxScaler, KernelCenterer,Normalizer"
   ]
  },
  {
   "cell_type": "code",
   "execution_count": 29,
   "metadata": {},
   "outputs": [],
   "source": [
    "from sklearn.pipeline import make_pipeline"
   ]
  },
  {
   "cell_type": "code",
   "execution_count": 30,
   "metadata": {},
   "outputs": [],
   "source": [
    "from sklearn.ensemble import RandomForestRegressor, AdaBoostRegressor"
   ]
  },
  {
   "cell_type": "code",
   "execution_count": 31,
   "metadata": {},
   "outputs": [],
   "source": [
    "from sklearn.neural_network import MLPRegressor"
   ]
  },
  {
   "cell_type": "code",
   "execution_count": 32,
   "metadata": {},
   "outputs": [],
   "source": [
    "from sklearn.metrics import r2_score"
   ]
  },
  {
   "cell_type": "code",
   "execution_count": 33,
   "metadata": {},
   "outputs": [],
   "source": [
    "from sklearn.model_selection import train_test_split, GridSearchCV, RandomizedSearchCV,\\\n",
    "                                    validation_curve, cross_val_score, \\\n",
    "                                    cross_validate, \\\n",
    "                                    RepeatedKFold, cross_val_predict, StratifiedKFold\n",
    "from sys import version"
   ]
  },
  {
   "cell_type": "markdown",
   "metadata": {},
   "source": [
    "%"
   ]
  },
  {
   "cell_type": "code",
   "execution_count": 97,
   "metadata": {},
   "outputs": [],
   "source": [
    " ## Preparo do dataset para regressão\n",
    "labels =  ['co_we', 'co_ae']\n",
    "preffix = ['e2sp_']\n",
    "label_ref= 'iag_co'"
   ]
  },
  {
   "cell_type": "code",
   "execution_count": 98,
   "metadata": {},
   "outputs": [],
   "source": [
    "df = aqm"
   ]
  },
  {
   "cell_type": "code",
   "execution_count": 99,
   "metadata": {},
   "outputs": [
    {
     "data": {
      "text/html": [
       "<div>\n",
       "<style scoped>\n",
       "    .dataframe tbody tr th:only-of-type {\n",
       "        vertical-align: middle;\n",
       "    }\n",
       "\n",
       "    .dataframe tbody tr th {\n",
       "        vertical-align: top;\n",
       "    }\n",
       "\n",
       "    .dataframe thead th {\n",
       "        text-align: right;\n",
       "    }\n",
       "</style>\n",
       "<table border=\"1\" class=\"dataframe\">\n",
       "  <thead>\n",
       "    <tr style=\"text-align: right;\">\n",
       "      <th></th>\n",
       "      <th>e2sp_co_we</th>\n",
       "      <th>e2sp_co_ae</th>\n",
       "      <th>pin_umid</th>\n",
       "      <th>iag_co</th>\n",
       "    </tr>\n",
       "    <tr>\n",
       "      <th>time</th>\n",
       "      <th></th>\n",
       "      <th></th>\n",
       "      <th></th>\n",
       "      <th></th>\n",
       "    </tr>\n",
       "  </thead>\n",
       "  <tbody>\n",
       "    <tr>\n",
       "      <th>2023-02-15 13:41:00</th>\n",
       "      <td>NaN</td>\n",
       "      <td>NaN</td>\n",
       "      <td>NaN</td>\n",
       "      <td>NaN</td>\n",
       "    </tr>\n",
       "    <tr>\n",
       "      <th>2023-02-15 13:42:00</th>\n",
       "      <td>NaN</td>\n",
       "      <td>NaN</td>\n",
       "      <td>NaN</td>\n",
       "      <td>NaN</td>\n",
       "    </tr>\n",
       "    <tr>\n",
       "      <th>2023-02-15 13:43:00</th>\n",
       "      <td>NaN</td>\n",
       "      <td>NaN</td>\n",
       "      <td>NaN</td>\n",
       "      <td>NaN</td>\n",
       "    </tr>\n",
       "    <tr>\n",
       "      <th>2023-02-15 13:44:00</th>\n",
       "      <td>NaN</td>\n",
       "      <td>NaN</td>\n",
       "      <td>NaN</td>\n",
       "      <td>NaN</td>\n",
       "    </tr>\n",
       "    <tr>\n",
       "      <th>2023-02-15 13:45:00</th>\n",
       "      <td>NaN</td>\n",
       "      <td>NaN</td>\n",
       "      <td>NaN</td>\n",
       "      <td>NaN</td>\n",
       "    </tr>\n",
       "    <tr>\n",
       "      <th>...</th>\n",
       "      <td>...</td>\n",
       "      <td>...</td>\n",
       "      <td>...</td>\n",
       "      <td>...</td>\n",
       "    </tr>\n",
       "    <tr>\n",
       "      <th>2023-06-30 15:01:00</th>\n",
       "      <td>NaN</td>\n",
       "      <td>NaN</td>\n",
       "      <td>NaN</td>\n",
       "      <td>NaN</td>\n",
       "    </tr>\n",
       "    <tr>\n",
       "      <th>2023-06-30 15:02:00</th>\n",
       "      <td>NaN</td>\n",
       "      <td>NaN</td>\n",
       "      <td>NaN</td>\n",
       "      <td>NaN</td>\n",
       "    </tr>\n",
       "    <tr>\n",
       "      <th>2023-06-30 15:03:00</th>\n",
       "      <td>NaN</td>\n",
       "      <td>NaN</td>\n",
       "      <td>NaN</td>\n",
       "      <td>NaN</td>\n",
       "    </tr>\n",
       "    <tr>\n",
       "      <th>2023-06-30 15:04:00</th>\n",
       "      <td>NaN</td>\n",
       "      <td>NaN</td>\n",
       "      <td>NaN</td>\n",
       "      <td>NaN</td>\n",
       "    </tr>\n",
       "    <tr>\n",
       "      <th>2023-06-30 15:05:00</th>\n",
       "      <td>0.438808</td>\n",
       "      <td>0.259049</td>\n",
       "      <td>NaN</td>\n",
       "      <td>NaN</td>\n",
       "    </tr>\n",
       "  </tbody>\n",
       "</table>\n",
       "<p>193809 rows × 4 columns</p>\n",
       "</div>"
      ],
      "text/plain": [
       "                     e2sp_co_we  e2sp_co_ae  pin_umid  iag_co\n",
       "time                                                         \n",
       "2023-02-15 13:41:00         NaN         NaN       NaN     NaN\n",
       "2023-02-15 13:42:00         NaN         NaN       NaN     NaN\n",
       "2023-02-15 13:43:00         NaN         NaN       NaN     NaN\n",
       "2023-02-15 13:44:00         NaN         NaN       NaN     NaN\n",
       "2023-02-15 13:45:00         NaN         NaN       NaN     NaN\n",
       "...                         ...         ...       ...     ...\n",
       "2023-06-30 15:01:00         NaN         NaN       NaN     NaN\n",
       "2023-06-30 15:02:00         NaN         NaN       NaN     NaN\n",
       "2023-06-30 15:03:00         NaN         NaN       NaN     NaN\n",
       "2023-06-30 15:04:00         NaN         NaN       NaN     NaN\n",
       "2023-06-30 15:05:00    0.438808    0.259049       NaN     NaN\n",
       "\n",
       "[193809 rows x 4 columns]"
      ]
     },
     "execution_count": 99,
     "metadata": {},
     "output_type": "execute_result"
    }
   ],
   "source": [
    "df = aqm[[preffix[0] + labels[0], preffix[0] + labels[1], 'pin_umid', label_ref]]\n",
    "df"
   ]
  },
  {
   "cell_type": "code",
   "execution_count": 100,
   "metadata": {},
   "outputs": [
    {
     "name": "stdout",
     "output_type": "stream",
     "text": [
      "(3606, 4)\n"
     ]
    },
    {
     "data": {
      "text/html": [
       "<div>\n",
       "<style scoped>\n",
       "    .dataframe tbody tr th:only-of-type {\n",
       "        vertical-align: middle;\n",
       "    }\n",
       "\n",
       "    .dataframe tbody tr th {\n",
       "        vertical-align: top;\n",
       "    }\n",
       "\n",
       "    .dataframe thead th {\n",
       "        text-align: right;\n",
       "    }\n",
       "</style>\n",
       "<table border=\"1\" class=\"dataframe\">\n",
       "  <thead>\n",
       "    <tr style=\"text-align: right;\">\n",
       "      <th></th>\n",
       "      <th>e2sp_co_we</th>\n",
       "      <th>e2sp_co_ae</th>\n",
       "      <th>pin_umid</th>\n",
       "      <th>iag_co</th>\n",
       "    </tr>\n",
       "    <tr>\n",
       "      <th>time</th>\n",
       "      <th></th>\n",
       "      <th></th>\n",
       "      <th></th>\n",
       "      <th></th>\n",
       "    </tr>\n",
       "  </thead>\n",
       "  <tbody>\n",
       "    <tr>\n",
       "      <th>2023-03-16 21:00:00</th>\n",
       "      <td>0.517687</td>\n",
       "      <td>0.527812</td>\n",
       "      <td>75.0</td>\n",
       "      <td>1.405933</td>\n",
       "    </tr>\n",
       "    <tr>\n",
       "      <th>2023-03-16 21:15:00</th>\n",
       "      <td>0.517687</td>\n",
       "      <td>0.527812</td>\n",
       "      <td>75.0</td>\n",
       "      <td>1.410133</td>\n",
       "    </tr>\n",
       "    <tr>\n",
       "      <th>2023-03-19 15:15:00</th>\n",
       "      <td>3.000000</td>\n",
       "      <td>4.000000</td>\n",
       "      <td>83.0</td>\n",
       "      <td>1.340000</td>\n",
       "    </tr>\n",
       "    <tr>\n",
       "      <th>2023-03-20 05:00:00</th>\n",
       "      <td>0.411938</td>\n",
       "      <td>0.287250</td>\n",
       "      <td>90.0</td>\n",
       "      <td>1.412533</td>\n",
       "    </tr>\n",
       "    <tr>\n",
       "      <th>2023-03-20 06:45:00</th>\n",
       "      <td>0.540187</td>\n",
       "      <td>0.288375</td>\n",
       "      <td>91.0</td>\n",
       "      <td>1.485333</td>\n",
       "    </tr>\n",
       "    <tr>\n",
       "      <th>...</th>\n",
       "      <td>...</td>\n",
       "      <td>...</td>\n",
       "      <td>...</td>\n",
       "      <td>...</td>\n",
       "    </tr>\n",
       "    <tr>\n",
       "      <th>2023-06-23 10:45:00</th>\n",
       "      <td>0.574346</td>\n",
       "      <td>0.256217</td>\n",
       "      <td>55.0</td>\n",
       "      <td>2.296733</td>\n",
       "    </tr>\n",
       "    <tr>\n",
       "      <th>2023-06-23 11:00:00</th>\n",
       "      <td>0.505305</td>\n",
       "      <td>0.253775</td>\n",
       "      <td>47.0</td>\n",
       "      <td>2.178067</td>\n",
       "    </tr>\n",
       "    <tr>\n",
       "      <th>2023-06-23 11:15:00</th>\n",
       "      <td>0.449196</td>\n",
       "      <td>0.231416</td>\n",
       "      <td>47.0</td>\n",
       "      <td>2.085533</td>\n",
       "    </tr>\n",
       "    <tr>\n",
       "      <th>2023-06-23 11:30:00</th>\n",
       "      <td>0.367782</td>\n",
       "      <td>0.238490</td>\n",
       "      <td>47.0</td>\n",
       "      <td>1.856333</td>\n",
       "    </tr>\n",
       "    <tr>\n",
       "      <th>2023-06-23 11:45:00</th>\n",
       "      <td>0.374429</td>\n",
       "      <td>0.228086</td>\n",
       "      <td>47.0</td>\n",
       "      <td>1.798200</td>\n",
       "    </tr>\n",
       "  </tbody>\n",
       "</table>\n",
       "<p>3606 rows × 4 columns</p>\n",
       "</div>"
      ],
      "text/plain": [
       "                     e2sp_co_we  e2sp_co_ae  pin_umid    iag_co\n",
       "time                                                           \n",
       "2023-03-16 21:00:00    0.517687    0.527812      75.0  1.405933\n",
       "2023-03-16 21:15:00    0.517687    0.527812      75.0  1.410133\n",
       "2023-03-19 15:15:00    3.000000    4.000000      83.0  1.340000\n",
       "2023-03-20 05:00:00    0.411938    0.287250      90.0  1.412533\n",
       "2023-03-20 06:45:00    0.540187    0.288375      91.0  1.485333\n",
       "...                         ...         ...       ...       ...\n",
       "2023-06-23 10:45:00    0.574346    0.256217      55.0  2.296733\n",
       "2023-06-23 11:00:00    0.505305    0.253775      47.0  2.178067\n",
       "2023-06-23 11:15:00    0.449196    0.231416      47.0  2.085533\n",
       "2023-06-23 11:30:00    0.367782    0.238490      47.0  1.856333\n",
       "2023-06-23 11:45:00    0.374429    0.228086      47.0  1.798200\n",
       "\n",
       "[3606 rows x 4 columns]"
      ]
     },
     "execution_count": 100,
     "metadata": {},
     "output_type": "execute_result"
    }
   ],
   "source": [
    "df.index = pd.to_datetime(df.index)\n",
    "df = df.resample('15min').mean()\n",
    "# df = df.interpolate(method = 'time', limit=5)\n",
    "df = df.dropna()\n",
    "#\n",
    "print(df.shape)\n",
    "df\n",
    "#%%"
   ]
  },
  {
   "cell_type": "markdown",
   "metadata": {},
   "source": [
    "## Cálculo da concentração em ppm com coeficientes da Alphasense"
   ]
  },
  {
   "cell_type": "code",
   "execution_count": 101,
   "metadata": {},
   "outputs": [
    {
     "data": {
      "text/html": [
       "<div>\n",
       "<style scoped>\n",
       "    .dataframe tbody tr th:only-of-type {\n",
       "        vertical-align: middle;\n",
       "    }\n",
       "\n",
       "    .dataframe tbody tr th {\n",
       "        vertical-align: top;\n",
       "    }\n",
       "\n",
       "    .dataframe thead th {\n",
       "        text-align: right;\n",
       "    }\n",
       "</style>\n",
       "<table border=\"1\" class=\"dataframe\">\n",
       "  <thead>\n",
       "    <tr style=\"text-align: right;\">\n",
       "      <th></th>\n",
       "      <th>e2sp_co_we</th>\n",
       "      <th>e2sp_co_ae</th>\n",
       "      <th>pin_umid</th>\n",
       "      <th>iag_co</th>\n",
       "    </tr>\n",
       "    <tr>\n",
       "      <th>time</th>\n",
       "      <th></th>\n",
       "      <th></th>\n",
       "      <th></th>\n",
       "      <th></th>\n",
       "    </tr>\n",
       "  </thead>\n",
       "  <tbody>\n",
       "    <tr>\n",
       "      <th>2023-03-16 21:00:00</th>\n",
       "      <td>0.517687</td>\n",
       "      <td>0.527812</td>\n",
       "      <td>75.0</td>\n",
       "      <td>1.405933</td>\n",
       "    </tr>\n",
       "    <tr>\n",
       "      <th>2023-03-16 21:15:00</th>\n",
       "      <td>0.517687</td>\n",
       "      <td>0.527812</td>\n",
       "      <td>75.0</td>\n",
       "      <td>1.410133</td>\n",
       "    </tr>\n",
       "    <tr>\n",
       "      <th>2023-03-19 15:15:00</th>\n",
       "      <td>3.000000</td>\n",
       "      <td>4.000000</td>\n",
       "      <td>83.0</td>\n",
       "      <td>1.340000</td>\n",
       "    </tr>\n",
       "    <tr>\n",
       "      <th>2023-03-20 05:00:00</th>\n",
       "      <td>0.411938</td>\n",
       "      <td>0.287250</td>\n",
       "      <td>90.0</td>\n",
       "      <td>1.412533</td>\n",
       "    </tr>\n",
       "    <tr>\n",
       "      <th>2023-03-20 06:45:00</th>\n",
       "      <td>0.540187</td>\n",
       "      <td>0.288375</td>\n",
       "      <td>91.0</td>\n",
       "      <td>1.485333</td>\n",
       "    </tr>\n",
       "    <tr>\n",
       "      <th>...</th>\n",
       "      <td>...</td>\n",
       "      <td>...</td>\n",
       "      <td>...</td>\n",
       "      <td>...</td>\n",
       "    </tr>\n",
       "    <tr>\n",
       "      <th>2023-06-23 10:45:00</th>\n",
       "      <td>0.574346</td>\n",
       "      <td>0.256217</td>\n",
       "      <td>55.0</td>\n",
       "      <td>2.296733</td>\n",
       "    </tr>\n",
       "    <tr>\n",
       "      <th>2023-06-23 11:00:00</th>\n",
       "      <td>0.505305</td>\n",
       "      <td>0.253775</td>\n",
       "      <td>47.0</td>\n",
       "      <td>2.178067</td>\n",
       "    </tr>\n",
       "    <tr>\n",
       "      <th>2023-06-23 11:15:00</th>\n",
       "      <td>0.449196</td>\n",
       "      <td>0.231416</td>\n",
       "      <td>47.0</td>\n",
       "      <td>2.085533</td>\n",
       "    </tr>\n",
       "    <tr>\n",
       "      <th>2023-06-23 11:30:00</th>\n",
       "      <td>0.367782</td>\n",
       "      <td>0.238490</td>\n",
       "      <td>47.0</td>\n",
       "      <td>1.856333</td>\n",
       "    </tr>\n",
       "    <tr>\n",
       "      <th>2023-06-23 11:45:00</th>\n",
       "      <td>0.374429</td>\n",
       "      <td>0.228086</td>\n",
       "      <td>47.0</td>\n",
       "      <td>1.798200</td>\n",
       "    </tr>\n",
       "  </tbody>\n",
       "</table>\n",
       "<p>3606 rows × 4 columns</p>\n",
       "</div>"
      ],
      "text/plain": [
       "                     e2sp_co_we  e2sp_co_ae  pin_umid    iag_co\n",
       "time                                                           \n",
       "2023-03-16 21:00:00    0.517687    0.527812      75.0  1.405933\n",
       "2023-03-16 21:15:00    0.517687    0.527812      75.0  1.410133\n",
       "2023-03-19 15:15:00    3.000000    4.000000      83.0  1.340000\n",
       "2023-03-20 05:00:00    0.411938    0.287250      90.0  1.412533\n",
       "2023-03-20 06:45:00    0.540187    0.288375      91.0  1.485333\n",
       "...                         ...         ...       ...       ...\n",
       "2023-06-23 10:45:00    0.574346    0.256217      55.0  2.296733\n",
       "2023-06-23 11:00:00    0.505305    0.253775      47.0  2.178067\n",
       "2023-06-23 11:15:00    0.449196    0.231416      47.0  2.085533\n",
       "2023-06-23 11:30:00    0.367782    0.238490      47.0  1.856333\n",
       "2023-06-23 11:45:00    0.374429    0.228086      47.0  1.798200\n",
       "\n",
       "[3606 rows x 4 columns]"
      ]
     },
     "execution_count": 101,
     "metadata": {},
     "output_type": "execute_result"
    }
   ],
   "source": [
    "co = Alphasense_Sensors(\"CO-B4\", \"162741354\")\n",
    "no2 = Alphasense_Sensors(\"NO2-B43F\", \"202742056\")\n",
    "so2 = Alphasense_Sensors(\"SO2-B4\", \"164240348\")\n",
    "ox = Alphasense_Sensors(\"OX-B431\", \"204240461\")\n",
    "df"
   ]
  },
  {
   "cell_type": "markdown",
   "metadata": {},
   "source": [
    "to mV"
   ]
  },
  {
   "cell_type": "code",
   "execution_count": 102,
   "metadata": {},
   "outputs": [
    {
     "data": {
      "text/plain": [
       "time\n",
       "2023-03-16 21:00:00     517.687500\n",
       "2023-03-16 21:15:00     517.687500\n",
       "2023-03-19 15:15:00    3000.000000\n",
       "2023-03-20 05:00:00     411.937505\n",
       "2023-03-20 06:45:00     540.187478\n",
       "                          ...     \n",
       "2023-06-23 10:45:00     574.345976\n",
       "2023-06-23 11:00:00     505.304635\n",
       "2023-06-23 11:15:00     449.196428\n",
       "2023-06-23 11:30:00     367.782325\n",
       "2023-06-23 11:45:00     374.429435\n",
       "Name: e2sp_co_we, Length: 3606, dtype: float64"
      ]
     },
     "execution_count": 102,
     "metadata": {},
     "output_type": "execute_result"
    }
   ],
   "source": [
    "we = df[preffix[0] + labels[0]]*1000\n",
    "ae = df[preffix[0] + labels[1]]*1000\n",
    "# temp = df[preffix[0] + 'temp']\n",
    "# ppb, _ , _ , _ = co.all_algorithms(we, ae, temp.to_numpy())\n",
    "we"
   ]
  },
  {
   "cell_type": "code",
   "execution_count": 103,
   "metadata": {},
   "outputs": [],
   "source": [
    "ppb = ((we - co.electronic_we) - (ae - co.electronic_ae))/co.sensitivity"
   ]
  },
  {
   "cell_type": "code",
   "execution_count": 104,
   "metadata": {},
   "outputs": [
    {
     "data": {
      "text/html": [
       "<div>\n",
       "<style scoped>\n",
       "    .dataframe tbody tr th:only-of-type {\n",
       "        vertical-align: middle;\n",
       "    }\n",
       "\n",
       "    .dataframe tbody tr th {\n",
       "        vertical-align: top;\n",
       "    }\n",
       "\n",
       "    .dataframe thead th {\n",
       "        text-align: right;\n",
       "    }\n",
       "</style>\n",
       "<table border=\"1\" class=\"dataframe\">\n",
       "  <thead>\n",
       "    <tr style=\"text-align: right;\">\n",
       "      <th></th>\n",
       "      <th>e2sp_co_we</th>\n",
       "      <th>e2sp_co_ae</th>\n",
       "      <th>pin_umid</th>\n",
       "      <th>iag_co</th>\n",
       "      <th>e2sp_co</th>\n",
       "    </tr>\n",
       "    <tr>\n",
       "      <th>time</th>\n",
       "      <th></th>\n",
       "      <th></th>\n",
       "      <th></th>\n",
       "      <th></th>\n",
       "      <th></th>\n",
       "    </tr>\n",
       "  </thead>\n",
       "  <tbody>\n",
       "    <tr>\n",
       "      <th>2023-03-16 21:00:00</th>\n",
       "      <td>0.517687</td>\n",
       "      <td>0.527812</td>\n",
       "      <td>75.0</td>\n",
       "      <td>1.405933</td>\n",
       "      <td>-0.061581</td>\n",
       "    </tr>\n",
       "    <tr>\n",
       "      <th>2023-03-16 21:15:00</th>\n",
       "      <td>0.517687</td>\n",
       "      <td>0.527812</td>\n",
       "      <td>75.0</td>\n",
       "      <td>1.410133</td>\n",
       "      <td>-0.061581</td>\n",
       "    </tr>\n",
       "    <tr>\n",
       "      <th>2023-03-19 15:15:00</th>\n",
       "      <td>3.000000</td>\n",
       "      <td>4.000000</td>\n",
       "      <td>83.0</td>\n",
       "      <td>1.340000</td>\n",
       "      <td>-2.487745</td>\n",
       "    </tr>\n",
       "    <tr>\n",
       "      <th>2023-03-20 05:00:00</th>\n",
       "      <td>0.411938</td>\n",
       "      <td>0.287250</td>\n",
       "      <td>90.0</td>\n",
       "      <td>1.412533</td>\n",
       "      <td>0.268842</td>\n",
       "    </tr>\n",
       "    <tr>\n",
       "      <th>2023-03-20 06:45:00</th>\n",
       "      <td>0.540187</td>\n",
       "      <td>0.288375</td>\n",
       "      <td>91.0</td>\n",
       "      <td>1.485333</td>\n",
       "      <td>0.580423</td>\n",
       "    </tr>\n",
       "    <tr>\n",
       "      <th>...</th>\n",
       "      <td>...</td>\n",
       "      <td>...</td>\n",
       "      <td>...</td>\n",
       "      <td>...</td>\n",
       "      <td>...</td>\n",
       "    </tr>\n",
       "    <tr>\n",
       "      <th>2023-06-23 10:45:00</th>\n",
       "      <td>0.574346</td>\n",
       "      <td>0.256217</td>\n",
       "      <td>55.0</td>\n",
       "      <td>2.296733</td>\n",
       "      <td>0.742963</td>\n",
       "    </tr>\n",
       "    <tr>\n",
       "      <th>2023-06-23 11:00:00</th>\n",
       "      <td>0.505305</td>\n",
       "      <td>0.253775</td>\n",
       "      <td>47.0</td>\n",
       "      <td>2.178067</td>\n",
       "      <td>0.579730</td>\n",
       "    </tr>\n",
       "    <tr>\n",
       "      <th>2023-06-23 11:15:00</th>\n",
       "      <td>0.449196</td>\n",
       "      <td>0.231416</td>\n",
       "      <td>47.0</td>\n",
       "      <td>2.085533</td>\n",
       "      <td>0.497010</td>\n",
       "    </tr>\n",
       "    <tr>\n",
       "      <th>2023-06-23 11:30:00</th>\n",
       "      <td>0.367782</td>\n",
       "      <td>0.238490</td>\n",
       "      <td>47.0</td>\n",
       "      <td>1.856333</td>\n",
       "      <td>0.280129</td>\n",
       "    </tr>\n",
       "    <tr>\n",
       "      <th>2023-06-23 11:45:00</th>\n",
       "      <td>0.374429</td>\n",
       "      <td>0.228086</td>\n",
       "      <td>47.0</td>\n",
       "      <td>1.798200</td>\n",
       "      <td>0.321921</td>\n",
       "    </tr>\n",
       "  </tbody>\n",
       "</table>\n",
       "<p>3606 rows × 5 columns</p>\n",
       "</div>"
      ],
      "text/plain": [
       "                     e2sp_co_we  e2sp_co_ae  pin_umid    iag_co   e2sp_co\n",
       "time                                                                     \n",
       "2023-03-16 21:00:00    0.517687    0.527812      75.0  1.405933 -0.061581\n",
       "2023-03-16 21:15:00    0.517687    0.527812      75.0  1.410133 -0.061581\n",
       "2023-03-19 15:15:00    3.000000    4.000000      83.0  1.340000 -2.487745\n",
       "2023-03-20 05:00:00    0.411938    0.287250      90.0  1.412533  0.268842\n",
       "2023-03-20 06:45:00    0.540187    0.288375      91.0  1.485333  0.580423\n",
       "...                         ...         ...       ...       ...       ...\n",
       "2023-06-23 10:45:00    0.574346    0.256217      55.0  2.296733  0.742963\n",
       "2023-06-23 11:00:00    0.505305    0.253775      47.0  2.178067  0.579730\n",
       "2023-06-23 11:15:00    0.449196    0.231416      47.0  2.085533  0.497010\n",
       "2023-06-23 11:30:00    0.367782    0.238490      47.0  1.856333  0.280129\n",
       "2023-06-23 11:45:00    0.374429    0.228086      47.0  1.798200  0.321921\n",
       "\n",
       "[3606 rows x 5 columns]"
      ]
     },
     "execution_count": 104,
     "metadata": {},
     "output_type": "execute_result"
    }
   ],
   "source": [
    "df[preffix[0] + 'co'] = ppb / 1000\n",
    "df[preffix[0] + 'co']\n",
    "df\n"
   ]
  },
  {
   "cell_type": "markdown",
   "metadata": {},
   "source": [
    "plt.plot(ppb)<br>\n",
    "print(df.iloc[0])<br>\n",
    "print(co.all_algorithms(0.46, 0.3, np.array(29.2)))"
   ]
  },
  {
   "cell_type": "markdown",
   "metadata": {},
   "source": [
    "%<br>\n",
    "## Preparação de features (X) e target (Y)"
   ]
  },
  {
   "cell_type": "code",
   "execution_count": 105,
   "metadata": {},
   "outputs": [
    {
     "data": {
      "text/plain": [
       "time\n",
       "2023-03-16 21:00:00    1.405933\n",
       "2023-03-16 21:15:00    1.410133\n",
       "2023-03-19 15:15:00    1.340000\n",
       "2023-03-20 05:00:00    1.412533\n",
       "2023-03-20 06:45:00    1.485333\n",
       "                         ...   \n",
       "2023-06-23 10:45:00    2.296733\n",
       "2023-06-23 11:00:00    2.178067\n",
       "2023-06-23 11:15:00    2.085533\n",
       "2023-06-23 11:30:00    1.856333\n",
       "2023-06-23 11:45:00    1.798200\n",
       "Name: iag_co, Length: 3606, dtype: float64"
      ]
     },
     "execution_count": 105,
     "metadata": {},
     "output_type": "execute_result"
    }
   ],
   "source": [
    "Yco = df[label_ref]\n",
    "Yco\n"
   ]
  },
  {
   "cell_type": "code",
   "execution_count": 106,
   "metadata": {},
   "outputs": [
    {
     "data": {
      "text/html": [
       "<div>\n",
       "<style scoped>\n",
       "    .dataframe tbody tr th:only-of-type {\n",
       "        vertical-align: middle;\n",
       "    }\n",
       "\n",
       "    .dataframe tbody tr th {\n",
       "        vertical-align: top;\n",
       "    }\n",
       "\n",
       "    .dataframe thead th {\n",
       "        text-align: right;\n",
       "    }\n",
       "</style>\n",
       "<table border=\"1\" class=\"dataframe\">\n",
       "  <thead>\n",
       "    <tr style=\"text-align: right;\">\n",
       "      <th></th>\n",
       "      <th>e2sp_co</th>\n",
       "      <th>e2sp_co_we</th>\n",
       "      <th>e2sp_co_ae</th>\n",
       "      <th>pin_umid</th>\n",
       "    </tr>\n",
       "    <tr>\n",
       "      <th>time</th>\n",
       "      <th></th>\n",
       "      <th></th>\n",
       "      <th></th>\n",
       "      <th></th>\n",
       "    </tr>\n",
       "  </thead>\n",
       "  <tbody>\n",
       "    <tr>\n",
       "      <th>2023-03-16 21:00:00</th>\n",
       "      <td>-0.061581</td>\n",
       "      <td>0.517687</td>\n",
       "      <td>0.527812</td>\n",
       "      <td>75.0</td>\n",
       "    </tr>\n",
       "    <tr>\n",
       "      <th>2023-03-16 21:15:00</th>\n",
       "      <td>-0.061581</td>\n",
       "      <td>0.517687</td>\n",
       "      <td>0.527812</td>\n",
       "      <td>75.0</td>\n",
       "    </tr>\n",
       "    <tr>\n",
       "      <th>2023-03-19 15:15:00</th>\n",
       "      <td>-2.487745</td>\n",
       "      <td>3.000000</td>\n",
       "      <td>4.000000</td>\n",
       "      <td>83.0</td>\n",
       "    </tr>\n",
       "    <tr>\n",
       "      <th>2023-03-20 05:00:00</th>\n",
       "      <td>0.268842</td>\n",
       "      <td>0.411938</td>\n",
       "      <td>0.287250</td>\n",
       "      <td>90.0</td>\n",
       "    </tr>\n",
       "    <tr>\n",
       "      <th>2023-03-20 06:45:00</th>\n",
       "      <td>0.580423</td>\n",
       "      <td>0.540187</td>\n",
       "      <td>0.288375</td>\n",
       "      <td>91.0</td>\n",
       "    </tr>\n",
       "    <tr>\n",
       "      <th>...</th>\n",
       "      <td>...</td>\n",
       "      <td>...</td>\n",
       "      <td>...</td>\n",
       "      <td>...</td>\n",
       "    </tr>\n",
       "    <tr>\n",
       "      <th>2023-06-23 10:45:00</th>\n",
       "      <td>0.742963</td>\n",
       "      <td>0.574346</td>\n",
       "      <td>0.256217</td>\n",
       "      <td>55.0</td>\n",
       "    </tr>\n",
       "    <tr>\n",
       "      <th>2023-06-23 11:00:00</th>\n",
       "      <td>0.579730</td>\n",
       "      <td>0.505305</td>\n",
       "      <td>0.253775</td>\n",
       "      <td>47.0</td>\n",
       "    </tr>\n",
       "    <tr>\n",
       "      <th>2023-06-23 11:15:00</th>\n",
       "      <td>0.497010</td>\n",
       "      <td>0.449196</td>\n",
       "      <td>0.231416</td>\n",
       "      <td>47.0</td>\n",
       "    </tr>\n",
       "    <tr>\n",
       "      <th>2023-06-23 11:30:00</th>\n",
       "      <td>0.280129</td>\n",
       "      <td>0.367782</td>\n",
       "      <td>0.238490</td>\n",
       "      <td>47.0</td>\n",
       "    </tr>\n",
       "    <tr>\n",
       "      <th>2023-06-23 11:45:00</th>\n",
       "      <td>0.321921</td>\n",
       "      <td>0.374429</td>\n",
       "      <td>0.228086</td>\n",
       "      <td>47.0</td>\n",
       "    </tr>\n",
       "  </tbody>\n",
       "</table>\n",
       "<p>3606 rows × 4 columns</p>\n",
       "</div>"
      ],
      "text/plain": [
       "                      e2sp_co  e2sp_co_we  e2sp_co_ae  pin_umid\n",
       "time                                                           \n",
       "2023-03-16 21:00:00 -0.061581    0.517687    0.527812      75.0\n",
       "2023-03-16 21:15:00 -0.061581    0.517687    0.527812      75.0\n",
       "2023-03-19 15:15:00 -2.487745    3.000000    4.000000      83.0\n",
       "2023-03-20 05:00:00  0.268842    0.411938    0.287250      90.0\n",
       "2023-03-20 06:45:00  0.580423    0.540187    0.288375      91.0\n",
       "...                       ...         ...         ...       ...\n",
       "2023-06-23 10:45:00  0.742963    0.574346    0.256217      55.0\n",
       "2023-06-23 11:00:00  0.579730    0.505305    0.253775      47.0\n",
       "2023-06-23 11:15:00  0.497010    0.449196    0.231416      47.0\n",
       "2023-06-23 11:30:00  0.280129    0.367782    0.238490      47.0\n",
       "2023-06-23 11:45:00  0.321921    0.374429    0.228086      47.0\n",
       "\n",
       "[3606 rows x 4 columns]"
      ]
     },
     "execution_count": 106,
     "metadata": {},
     "output_type": "execute_result"
    }
   ],
   "source": [
    "Xco = df.loc[Yco.index][[preffix[0] + 'co', preffix[0] + 'co_we',preffix[0] + 'co_ae', 'pin_umid']]\n",
    "Xco"
   ]
  },
  {
   "cell_type": "markdown",
   "metadata": {},
   "source": [
    "Split dos dados"
   ]
  },
  {
   "cell_type": "code",
   "execution_count": 44,
   "metadata": {},
   "outputs": [],
   "source": [
    "X_train, X_valid, y_train, y_valid = train_test_split(Xco, Yco, train_size=0.8)\n",
    "X_train, X_test, y_train, y_test = train_test_split(X_train, y_train)"
   ]
  },
  {
   "cell_type": "markdown",
   "metadata": {},
   "source": [
    "Validação cruzada repetida"
   ]
  },
  {
   "cell_type": "code",
   "execution_count": 45,
   "metadata": {},
   "outputs": [],
   "source": [
    "kfold = RepeatedKFold(n_splits = 5, n_repeats = 1)\n",
    "# kfold = StratifiedKFold(n_splits = 5)"
   ]
  },
  {
   "cell_type": "code",
   "execution_count": 46,
   "metadata": {},
   "outputs": [
    {
     "name": "stdout",
     "output_type": "stream",
     "text": [
      "(2163, 4)\n",
      "(721, 4)\n",
      "(722, 4)\n"
     ]
    }
   ],
   "source": [
    "print(X_train.shape)\n",
    "print(X_test.shape)\n",
    "print(X_valid.shape)"
   ]
  },
  {
   "cell_type": "markdown",
   "metadata": {},
   "source": [
    "%"
   ]
  },
  {
   "cell_type": "markdown",
   "metadata": {},
   "source": [
    "param_grid = {\"randomforestregressor__n_estimators\": [15, 50],<br>\n",
    "              \"randomforestregressor__max_depth\": [64, 512, 1024],<br>\n",
    "              # \"randomforestregressor__oob_score\" : [True],<br>\n",
    "              # \"randomforestregressor__bootstrap\" : [True],<br>\n",
    "              'randomforestregressor__max_features': [\"sqrt\", \"log2\", 0.3, 0.1],<br>\n",
    "              'randomforestregressor__criterion': ['squared_error']}"
   ]
  },
  {
   "cell_type": "markdown",
   "metadata": {},
   "source": [
    "## Otimização de hiperparâmetros (Random Forest)"
   ]
  },
  {
   "cell_type": "code",
   "execution_count": 47,
   "metadata": {},
   "outputs": [],
   "source": [
    "from scipy.stats import uniform, randint"
   ]
  },
  {
   "cell_type": "markdown",
   "metadata": {},
   "source": [
    "param_grid = {\"randomforestregressor__n_estimators\": randint(1, 512),<br>\n",
    "              \"randomforestregressor__max_depth\": randint(1, 512),<br>\n",
    "              #  \"randomforestregressor__oob_score\" : [True],<br>\n",
    "              \"randomforestregressor__bootstrap\" : [False, True],<br>\n",
    "              'randomforestregressor__max_features': [\"sqrt\", \"log2\", None],<br>\n",
    "              'randomforestregressor__criterion': ['squared_error', 'absolute_error', 'friedman_mse']}<br>\n",
    "# "
   ]
  },
  {
   "cell_type": "markdown",
   "metadata": {},
   "source": [
    "np.geomspace(2, 1024, 10)"
   ]
  },
  {
   "cell_type": "code",
   "execution_count": 48,
   "metadata": {},
   "outputs": [],
   "source": [
    "param_grid = {\"randomforestregressor__n_estimators\": np.array([32, 128, 512, 1024]),\n",
    "              # \"randomforestregressor__max_depth\": None,\n",
    "              #  \"randomforestregressor__oob_score\" : [True],\n",
    "              # \"randomforestregressor__bootstrap\" : [False, True],\n",
    "              # 'randomforestregressor__max_features': [\"sqrt\", \"log2\", None],\n",
    "              'randomforestregressor__criterion': ['squared_error' ]}# 'absolute_error', 'friedman_mse']}"
   ]
  },
  {
   "cell_type": "markdown",
   "metadata": {},
   "source": [
    "Pipeline com RandomForest"
   ]
  },
  {
   "cell_type": "code",
   "execution_count": null,
   "metadata": {},
   "outputs": [],
   "source": [
    "regressor = make_pipeline(RandomForestRegressor())\n",
    "\n",
    "linReg = LinearRegression().fit(X_train, y_train)\n",
    "\n",
    "\n",
    "gs = GridSearchCV(regressor, param_grid=param_grid, n_jobs=-1, verbose = 3,\\\n",
    "                  return_train_score=True, cv = kfold, error_score = 'raise')\n",
    "\n",
    "    \n",
    "res = gs.fit(X_train,y_train)"
   ]
  },
  {
   "cell_type": "code",
   "execution_count": null,
   "metadata": {},
   "outputs": [],
   "source": [
    "\n"
   ]
  },
  {
   "cell_type": "code",
   "execution_count": null,
   "metadata": {},
   "outputs": [],
   "source": []
  },
  {
   "cell_type": "markdown",
   "metadata": {},
   "source": [
    "GridSearch com validação cruzada"
   ]
  },
  {
   "cell_type": "code",
   "execution_count": 51,
   "metadata": {},
   "outputs": [
    {
     "name": "stdout",
     "output_type": "stream",
     "text": [
      "Fitting 5 folds for each of 4 candidates, totalling 20 fits\n"
     ]
    },
    {
     "name": "stdout",
     "output_type": "stream",
     "text": [
      "[CV 4/5] END randomforestregressor__criterion=squared_error, randomforestregressor__n_estimators=32;, score=(train=0.963, test=0.731) total time=   0.4s\n",
      "[CV 2/5] END randomforestregressor__criterion=squared_error, randomforestregressor__n_estimators=32;, score=(train=0.967, test=0.668) total time=   0.5s\n",
      "[CV 1/5] END randomforestregressor__criterion=squared_error, randomforestregressor__n_estimators=32;, score=(train=0.961, test=0.800) total time=   0.6s\n",
      "[CV 3/5] END randomforestregressor__criterion=squared_error, randomforestregressor__n_estimators=32;, score=(train=0.962, test=0.756) total time=   0.6s\n",
      "[CV 5/5] END randomforestregressor__criterion=squared_error, randomforestregressor__n_estimators=32;, score=(train=0.960, test=0.783) total time=   0.6s\n",
      "[CV 5/5] END randomforestregressor__criterion=squared_error, randomforestregressor__n_estimators=128;, score=(train=0.965, test=0.783) total time=   1.4s\n",
      "[CV 3/5] END randomforestregressor__criterion=squared_error, randomforestregressor__n_estimators=128;, score=(train=0.965, test=0.770) total time=   1.4s\n",
      "[CV 4/5] END randomforestregressor__criterion=squared_error, randomforestregressor__n_estimators=128;, score=(train=0.967, test=0.734) total time=   1.5s\n",
      "[CV 1/5] END randomforestregressor__criterion=squared_error, randomforestregressor__n_estimators=128;, score=(train=0.964, test=0.803) total time=   1.5s\n",
      "[CV 2/5] END randomforestregressor__criterion=squared_error, randomforestregressor__n_estimators=128;, score=(train=0.969, test=0.674) total time=   1.6s\n",
      "[CV 5/5] END randomforestregressor__criterion=squared_error, randomforestregressor__n_estimators=512;, score=(train=0.966, test=0.787) total time=   4.6s\n",
      "[CV 1/5] END randomforestregressor__criterion=squared_error, randomforestregressor__n_estimators=512;, score=(train=0.966, test=0.800) total time=   4.6s\n",
      "[CV 2/5] END randomforestregressor__criterion=squared_error, randomforestregressor__n_estimators=512;, score=(train=0.970, test=0.673) total time=   4.7s\n",
      "[CV 4/5] END randomforestregressor__criterion=squared_error, randomforestregressor__n_estimators=512;, score=(train=0.967, test=0.731) total time=   5.1s\n",
      "[CV 3/5] END randomforestregressor__criterion=squared_error, randomforestregressor__n_estimators=512;, score=(train=0.966, test=0.772) total time=   5.1s\n",
      "[CV 2/5] END randomforestregressor__criterion=squared_error, randomforestregressor__n_estimators=1024;, score=(train=0.970, test=0.672) total time=   7.8s\n",
      "[CV 4/5] END randomforestregressor__criterion=squared_error, randomforestregressor__n_estimators=1024;, score=(train=0.968, test=0.731) total time=   7.9s\n",
      "[CV 3/5] END randomforestregressor__criterion=squared_error, randomforestregressor__n_estimators=1024;, score=(train=0.966, test=0.771) total time=   8.0s\n",
      "[CV 5/5] END randomforestregressor__criterion=squared_error, randomforestregressor__n_estimators=1024;, score=(train=0.966, test=0.786) total time=   7.9s\n",
      "[CV 1/5] END randomforestregressor__criterion=squared_error, randomforestregressor__n_estimators=1024;, score=(train=0.965, test=0.803) total time=   8.7s\n"
     ]
    }
   ],
   "source": [
    "gs = GridSearchCV(regressor, param_grid=param_grid, n_jobs=-1, verbose = 3,\\\n",
    "                  return_train_score=True, cv = kfold, error_score = 'raise')\n",
    "    \n",
    "res = gs.fit(X_train,y_train)"
   ]
  },
  {
   "cell_type": "markdown",
   "metadata": {},
   "source": [
    "%% Resultado da otimização"
   ]
  },
  {
   "cell_type": "code",
   "execution_count": 52,
   "metadata": {},
   "outputs": [
    {
     "name": "stdout",
     "output_type": "stream",
     "text": [
      "   mean_fit_time  std_fit_time  mean_score_time  std_score_time  \\\n",
      "0       0.525829      0.091057         0.014600        0.006621   \n",
      "1       1.455793      0.074110         0.030934        0.004092   \n",
      "2       4.689145      0.208255         0.131481        0.009414   \n",
      "3       7.931874      0.351690         0.135704        0.012022   \n",
      "\n",
      "  param_randomforestregressor__criterion  \\\n",
      "0                          squared_error   \n",
      "1                          squared_error   \n",
      "2                          squared_error   \n",
      "3                          squared_error   \n",
      "\n",
      "   param_randomforestregressor__n_estimators  \\\n",
      "0                                         32   \n",
      "1                                        128   \n",
      "2                                        512   \n",
      "3                                       1024   \n",
      "\n",
      "                                              params  split0_test_score  \\\n",
      "0  {'randomforestregressor__criterion': 'squared_...           0.799993   \n",
      "1  {'randomforestregressor__criterion': 'squared_...           0.802551   \n",
      "2  {'randomforestregressor__criterion': 'squared_...           0.800179   \n",
      "3  {'randomforestregressor__criterion': 'squared_...           0.803208   \n",
      "\n",
      "   split1_test_score  split2_test_score  ...  mean_test_score  std_test_score  \\\n",
      "0           0.667983           0.755797  ...         0.747503        0.046214   \n",
      "1           0.674291           0.770446  ...         0.752778        0.045167   \n",
      "2           0.672525           0.771971  ...         0.752516        0.046252   \n",
      "3           0.671849           0.771213  ...         0.752620        0.046834   \n",
      "\n",
      "   rank_test_score  split0_train_score  split1_train_score  \\\n",
      "0                4            0.961403            0.966702   \n",
      "1                1            0.964148            0.969316   \n",
      "2                3            0.965569            0.970065   \n",
      "3                2            0.965430            0.969864   \n",
      "\n",
      "   split2_train_score  split3_train_score  split4_train_score  \\\n",
      "0            0.962009            0.963266            0.959843   \n",
      "1            0.965078            0.966898            0.964928   \n",
      "2            0.965799            0.967365            0.966303   \n",
      "3            0.966221            0.967862            0.965801   \n",
      "\n",
      "   mean_train_score  std_train_score  \n",
      "0          0.962645         0.002308  \n",
      "1          0.966073         0.001855  \n",
      "2          0.967020         0.001643  \n",
      "3          0.967036         0.001640  \n",
      "\n",
      "[4 rows x 22 columns]\n"
     ]
    }
   ],
   "source": [
    "print(train_data := pd.DataFrame(res.cv_results_))"
   ]
  },
  {
   "cell_type": "code",
   "execution_count": 53,
   "metadata": {},
   "outputs": [],
   "source": [
    "with open('tabela_treino.tex', 'w') as f:\n",
    "    f.write(train_data.style.to_latex())\n",
    "    \n",
    "    \n",
    "var = 'squared_error'\n",
    "var2 = 'sqrt'\n",
    "# Plot da métrica em função do número de estimadores\n",
    "# mse = train_data.query(\"param_randomforestregressor__criterion == @var and param_randomforestregressor__max_features == @var2\")\n",
    "mse_df = train_data.query(\"param_randomforestregressor__criterion == @var\")"
   ]
  },
  {
   "cell_type": "code",
   "execution_count": 54,
   "metadata": {},
   "outputs": [],
   "source": [
    "with open('tabela_treino_mse.tex', 'w') as f:\n",
    "    f.write(mse_df.style.to_latex())\n",
    "    \n",
    "mse_df = mse_df.sort_values('param_randomforestregressor__n_estimators', axis = 0)"
   ]
  },
  {
   "cell_type": "markdown",
   "metadata": {},
   "source": [
    "Plot the responses for different events and regions"
   ]
  },
  {
   "cell_type": "code",
   "execution_count": 55,
   "metadata": {},
   "outputs": [
    {
     "data": {
      "image/png": "[encoded data removed]",
      "text/plain": [
       "<Figure size 640x480 with 1 Axes>"
      ]
     },
     "metadata": {},
     "output_type": "display_data"
    }
   ],
   "source": [
    "sns.lineplot(x=\"param_randomforestregressor__n_estimators\", y=\"mean_test_score\",\n",
    "             #hue=\"param_randomforestregressor__max_features\", # style=\"event\",\n",
    "             data=train_data)\n",
    "plt.show()"
   ]
  },
  {
   "cell_type": "markdown",
   "metadata": {},
   "source": [
    "%<br>\n",
    "## Avaliação do modelo linear"
   ]
  },
  {
   "cell_type": "code",
   "execution_count": 56,
   "metadata": {},
   "outputs": [
    {
     "name": "stdout",
     "output_type": "stream",
     "text": [
      "Linear Regression Model\n",
      "Train Score:  0.7054145281659951\n",
      "Test Score:  0.7351689744149283\n",
      "Validation Score:  0.5169142313193857\n",
      "RMSE Score:  18.473503914760315\n"
     ]
    }
   ],
   "source": [
    "print(\"Linear Regression Model\")\n",
    "print(\"Train Score: \", linReg.score(X_train, y_train))\n",
    "print(\"Test Score: \", linReg.score(X_test, y_test))\n",
    "print(\"Validation Score: \", r2_score(y_valid, linReg.predict(X_valid)))\n",
    "print(\"RMSE Score: \", 100*rmse(y_train, linReg.predict(X_train)))"
   ]
  },
  {
   "cell_type": "code",
   "execution_count": 57,
   "metadata": {},
   "outputs": [
    {
     "name": "stdout",
     "output_type": "stream",
     "text": [
      "[ 8.04840642e-01 -8.75483723e-02 -4.15923354e-01  2.60294129e-04]\n"
     ]
    },
    {
     "data": {
      "image/png": "[encoded data removed]",
      "text/plain": [
       "<Figure size 640x480 with 1 Axes>"
      ]
     },
     "metadata": {},
     "output_type": "display_data"
    }
   ],
   "source": [
    "print(linReg.coef_)\n",
    "# Visualização dos resultados do modelo linear\n",
    "sns.regplot(x = y_valid, y = linReg.predict(X_valid))\n",
    "sns.regplot(x = y_test, y = linReg.predict(X_test))\n",
    "plt.gca().axline((0,0), slope=1)\n",
    "plt.show()"
   ]
  },
  {
   "cell_type": "markdown",
   "metadata": {},
   "source": [
    "%"
   ]
  },
  {
   "cell_type": "markdown",
   "metadata": {},
   "source": [
    "r2_score(y_true, y_pred)<br>\n",
    "x = X_train[:, 0]<br>\n",
    "print(\"Sem regr\", r2_score(x, y_train))<br>\n",
    "print(\"w/o  ML model Score: \", r2_score(X_train['e2sp_co'], y_train))<br>\n",
    "## Avaliação do modelo Random Forest"
   ]
  },
  {
   "cell_type": "code",
   "execution_count": 58,
   "metadata": {},
   "outputs": [
    {
     "name": "stdout",
     "output_type": "stream",
     "text": [
      "Random Forest Model\n",
      "Train Score:  0.9670225151283498\n",
      "Test Score:  0.7979730740269663\n",
      "Validation Score:  0.8043649092175391\n",
      "RMSE Score:  6.180909424346058\n"
     ]
    }
   ],
   "source": [
    "print(\"Random Forest Model\")\n",
    "print(\"Train Score: \", gs.score(X_train, y_train))\n",
    "print(\"Test Score: \", gs.score(X_test, y_test))\n",
    "print(\"Validation Score: \", r2_score(y_valid, gs.predict(X_valid)))\n",
    "print(\"RMSE Score: \", 100*rmse(y_train, gs.predict(X_train)))"
   ]
  },
  {
   "cell_type": "code",
   "execution_count": 59,
   "metadata": {},
   "outputs": [
    {
     "data": {
      "text/plain": [
       "<matplotlib.lines.AxLine at 0x7fb5a04cf380>"
      ]
     },
     "execution_count": 59,
     "metadata": {},
     "output_type": "execute_result"
    },
    {
     "data": {
      "image/png": "[encoded data removed]",
      "text/plain": [
       "<Figure size 640x480 with 1 Axes>"
      ]
     },
     "metadata": {},
     "output_type": "display_data"
    }
   ],
   "source": [
    "sns.regplot(x = y_valid, y = gs.predict(X_valid))\n",
    "sns.regplot(x = y_test, y = gs.predict(X_test))\n",
    "plt.gca().axline((0,0), slope=1)"
   ]
  },
  {
   "cell_type": "code",
   "execution_count": 60,
   "metadata": {},
   "outputs": [],
   "source": [
    "plt.show()"
   ]
  },
  {
   "cell_type": "markdown",
   "metadata": {},
   "source": [
    "% Antes de tudo<br>\n",
    "## Visualização do modelo calibrado vs referência"
   ]
  },
  {
   "cell_type": "code",
   "execution_count": 61,
   "metadata": {},
   "outputs": [],
   "source": [
    "e1_rf = {'co' : pd.DataFrame(data=gs.predict(Xco), index=Xco.index)}\n",
    "# e1 = {'co' : df['e2sp_co']}\n",
    "e2_ref = {'co' : df['iag_co']}"
   ]
  },
  {
   "cell_type": "code",
   "execution_count": 62,
   "metadata": {},
   "outputs": [
    {
     "name": "stderr",
     "output_type": "stream",
     "text": [
      "/home/pedro-mujica/projects/IC/aqm-dataset-LoraWan/estacao-grafana/envcity_plot_lib.py:49: SyntaxWarning: invalid escape sequence '\\m'\n",
      "  ax1.set_title(f\"$\\mathrm{{{latex_labels[idx]}}}$ Concentration from {start} to {end}\")\n",
      "/home/pedro-mujica/projects/IC/aqm-dataset-LoraWan/estacao-grafana/envcity_plot_lib.py:94: SyntaxWarning: invalid escape sequence '\\m'\n",
      "  ax.set_title(f\"$\\mathrm{{{latex_labels[idx]}}}$ Concentration from {start} to {end}\")\n",
      "/home/pedro-mujica/projects/IC/aqm-dataset-LoraWan/estacao-grafana/envcity_plot_lib.py:136: SyntaxWarning: invalid escape sequence '\\m'\n",
      "  ax.set_title(f\"$\\mathrm{{{latex_labels[idx]}}}$ Concentration from {start} to {end}\", fontsize = 10)\n",
      "/home/pedro-mujica/projects/IC/aqm-dataset-LoraWan/estacao-grafana/envcity_plot_lib.py:162: SyntaxWarning: invalid escape sequence '\\m'\n",
      "  ax.set_title(f\"$\\mathrm{{{latex_labels[idx]}}}$ Concentration from {start} to {end}\", fontsize = 10)\n",
      "/home/pedro-mujica/projects/IC/aqm-dataset-LoraWan/estacao-grafana/envcity_plot_lib.py:218: SyntaxWarning: invalid escape sequence '\\m'\n",
      "  plt.suptitle(f\"Comparison between $\\mathrm{{{latex_labels[idx]}}}$ sensors\")\n"
     ]
    },
    {
     "ename": "KeyError",
     "evalue": "\"The following id_vars or value_vars are not present in the DataFrame: ['@index']\"",
     "output_type": "error",
     "traceback": [
      "\u001b[31m---------------------------------------------------------------------------\u001b[39m",
      "\u001b[31mKeyError\u001b[39m                                  Traceback (most recent call last)",
      "\u001b[36mCell\u001b[39m\u001b[36m \u001b[39m\u001b[32mIn[62]\u001b[39m\u001b[32m, line 1\u001b[39m\n\u001b[32m----> \u001b[39m\u001b[32m1\u001b[39m \u001b[43mplot_data_by_time_and_regr_plot\u001b[49m\u001b[43m(\u001b[49m\u001b[43me1_rf\u001b[49m\u001b[43m,\u001b[49m\u001b[43m \u001b[49m\u001b[43me2_ref\u001b[49m\u001b[43m,\u001b[49m\u001b[43m \u001b[49m\u001b[43mlabels\u001b[49m\u001b[43m \u001b[49m\u001b[43m=\u001b[49m\u001b[43m \u001b[49m\u001b[43m[\u001b[49m\u001b[33;43m'\u001b[39;49m\u001b[33;43mco\u001b[39;49m\u001b[33;43m'\u001b[39;49m\u001b[43m]\u001b[49m\u001b[43m,\u001b[49m\u001b[43m \u001b[49m\u001b[43mlatex_labels\u001b[49m\u001b[43m \u001b[49m\u001b[43m=\u001b[49m\u001b[43m \u001b[49m\u001b[33;43m'\u001b[39;49m\u001b[33;43mco\u001b[39;49m\u001b[33;43m'\u001b[39;49m\u001b[43m)\u001b[49m\n",
      "\u001b[36mFile \u001b[39m\u001b[32m~/projects/IC/aqm-dataset-LoraWan/estacao-grafana/envcity_plot_lib.py:45\u001b[39m, in \u001b[36mplot_data_by_time_and_regr_plot\u001b[39m\u001b[34m(dict_data_e1, dict_data_e2, labels, latex_labels, start, end, e1_label, e2_label, style_plot)\u001b[39m\n\u001b[32m     42\u001b[39m ax1 = fig.add_subplot(gs[\u001b[32m0\u001b[39m])\n\u001b[32m     43\u001b[39m ax2 = fig.add_subplot(gs[\u001b[32m1\u001b[39m])\n\u001b[32m---> \u001b[39m\u001b[32m45\u001b[39m \u001b[43msns\u001b[49m\u001b[43m.\u001b[49m\u001b[43mlineplot\u001b[49m\u001b[43m(\u001b[49m\u001b[43mdata\u001b[49m\u001b[43m=\u001b[49m\u001b[43mconcatenated\u001b[49m\u001b[43m,\u001b[49m\u001b[43m \u001b[49m\u001b[43mlinewidth\u001b[49m\u001b[43m=\u001b[49m\u001b[32;43m1\u001b[39;49m\u001b[43m,\u001b[49m\u001b[43m \u001b[49m\u001b[43max\u001b[49m\u001b[43m=\u001b[49m\u001b[43max1\u001b[49m\u001b[43m)\u001b[49m\n\u001b[32m     46\u001b[39m sns.regplot(data=concatenated, x = e1_label, y = e2_label, ax = ax2, marker = \u001b[33m'\u001b[39m\u001b[33m.\u001b[39m\u001b[33m'\u001b[39m)\n\u001b[32m     47\u001b[39m ax2.axline((\u001b[32m0\u001b[39m,\u001b[32m0\u001b[39m), slope=\u001b[32m1\u001b[39m)\n",
      "\u001b[36mFile \u001b[39m\u001b[32m~/projects/IC/aqm-dataset-LoraWan/venv/lib/python3.12/site-packages/seaborn/relational.py:485\u001b[39m, in \u001b[36mlineplot\u001b[39m\u001b[34m(data, x, y, hue, size, style, units, weights, palette, hue_order, hue_norm, sizes, size_order, size_norm, dashes, markers, style_order, estimator, errorbar, n_boot, seed, orient, sort, err_style, err_kws, legend, ci, ax, **kwargs)\u001b[39m\n\u001b[32m    471\u001b[39m \u001b[38;5;28;01mdef\u001b[39;00m\u001b[38;5;250m \u001b[39m\u001b[34mlineplot\u001b[39m(\n\u001b[32m    472\u001b[39m     data=\u001b[38;5;28;01mNone\u001b[39;00m, *,\n\u001b[32m    473\u001b[39m     x=\u001b[38;5;28;01mNone\u001b[39;00m, y=\u001b[38;5;28;01mNone\u001b[39;00m, hue=\u001b[38;5;28;01mNone\u001b[39;00m, size=\u001b[38;5;28;01mNone\u001b[39;00m, style=\u001b[38;5;28;01mNone\u001b[39;00m, units=\u001b[38;5;28;01mNone\u001b[39;00m, weights=\u001b[38;5;28;01mNone\u001b[39;00m,\n\u001b[32m   (...)\u001b[39m\u001b[32m    481\u001b[39m \n\u001b[32m    482\u001b[39m     \u001b[38;5;66;03m# Handle deprecation of ci parameter\u001b[39;00m\n\u001b[32m    483\u001b[39m     errorbar = _deprecate_ci(errorbar, ci)\n\u001b[32m--> \u001b[39m\u001b[32m485\u001b[39m     p = \u001b[43m_LinePlotter\u001b[49m\u001b[43m(\u001b[49m\n\u001b[32m    486\u001b[39m \u001b[43m        \u001b[49m\u001b[43mdata\u001b[49m\u001b[43m=\u001b[49m\u001b[43mdata\u001b[49m\u001b[43m,\u001b[49m\n\u001b[32m    487\u001b[39m \u001b[43m        \u001b[49m\u001b[43mvariables\u001b[49m\u001b[43m=\u001b[49m\u001b[38;5;28;43mdict\u001b[39;49m\u001b[43m(\u001b[49m\n\u001b[32m    488\u001b[39m \u001b[43m            \u001b[49m\u001b[43mx\u001b[49m\u001b[43m=\u001b[49m\u001b[43mx\u001b[49m\u001b[43m,\u001b[49m\u001b[43m \u001b[49m\u001b[43my\u001b[49m\u001b[43m=\u001b[49m\u001b[43my\u001b[49m\u001b[43m,\u001b[49m\u001b[43m \u001b[49m\u001b[43mhue\u001b[49m\u001b[43m=\u001b[49m\u001b[43mhue\u001b[49m\u001b[43m,\u001b[49m\u001b[43m \u001b[49m\u001b[43msize\u001b[49m\u001b[43m=\u001b[49m\u001b[43msize\u001b[49m\u001b[43m,\u001b[49m\u001b[43m \u001b[49m\u001b[43mstyle\u001b[49m\u001b[43m=\u001b[49m\u001b[43mstyle\u001b[49m\u001b[43m,\u001b[49m\u001b[43m \u001b[49m\u001b[43munits\u001b[49m\u001b[43m=\u001b[49m\u001b[43munits\u001b[49m\u001b[43m,\u001b[49m\u001b[43m \u001b[49m\u001b[43mweight\u001b[49m\u001b[43m=\u001b[49m\u001b[43mweights\u001b[49m\n\u001b[32m    489\u001b[39m \u001b[43m        \u001b[49m\u001b[43m)\u001b[49m\u001b[43m,\u001b[49m\n\u001b[32m    490\u001b[39m \u001b[43m        \u001b[49m\u001b[43mestimator\u001b[49m\u001b[43m=\u001b[49m\u001b[43mestimator\u001b[49m\u001b[43m,\u001b[49m\u001b[43m \u001b[49m\u001b[43mn_boot\u001b[49m\u001b[43m=\u001b[49m\u001b[43mn_boot\u001b[49m\u001b[43m,\u001b[49m\u001b[43m \u001b[49m\u001b[43mseed\u001b[49m\u001b[43m=\u001b[49m\u001b[43mseed\u001b[49m\u001b[43m,\u001b[49m\u001b[43m \u001b[49m\u001b[43merrorbar\u001b[49m\u001b[43m=\u001b[49m\u001b[43merrorbar\u001b[49m\u001b[43m,\u001b[49m\n\u001b[32m    491\u001b[39m \u001b[43m        \u001b[49m\u001b[43msort\u001b[49m\u001b[43m=\u001b[49m\u001b[43msort\u001b[49m\u001b[43m,\u001b[49m\u001b[43m \u001b[49m\u001b[43morient\u001b[49m\u001b[43m=\u001b[49m\u001b[43morient\u001b[49m\u001b[43m,\u001b[49m\u001b[43m \u001b[49m\u001b[43merr_style\u001b[49m\u001b[43m=\u001b[49m\u001b[43merr_style\u001b[49m\u001b[43m,\u001b[49m\u001b[43m \u001b[49m\u001b[43merr_kws\u001b[49m\u001b[43m=\u001b[49m\u001b[43merr_kws\u001b[49m\u001b[43m,\u001b[49m\n\u001b[32m    492\u001b[39m \u001b[43m        \u001b[49m\u001b[43mlegend\u001b[49m\u001b[43m=\u001b[49m\u001b[43mlegend\u001b[49m\u001b[43m,\u001b[49m\n\u001b[32m    493\u001b[39m \u001b[43m    \u001b[49m\u001b[43m)\u001b[49m\n\u001b[32m    495\u001b[39m     p.map_hue(palette=palette, order=hue_order, norm=hue_norm)\n\u001b[32m    496\u001b[39m     p.map_size(sizes=sizes, order=size_order, norm=size_norm)\n",
      "\u001b[36mFile \u001b[39m\u001b[32m~/projects/IC/aqm-dataset-LoraWan/venv/lib/python3.12/site-packages/seaborn/relational.py:216\u001b[39m, in \u001b[36m_LinePlotter.__init__\u001b[39m\u001b[34m(self, data, variables, estimator, n_boot, seed, errorbar, sort, orient, err_style, err_kws, legend)\u001b[39m\n\u001b[32m    202\u001b[39m \u001b[38;5;28;01mdef\u001b[39;00m\u001b[38;5;250m \u001b[39m\u001b[34m__init__\u001b[39m(\n\u001b[32m    203\u001b[39m     \u001b[38;5;28mself\u001b[39m, *,\n\u001b[32m    204\u001b[39m     data=\u001b[38;5;28;01mNone\u001b[39;00m, variables={},\n\u001b[32m   (...)\u001b[39m\u001b[32m    210\u001b[39m     \u001b[38;5;66;03m# the kind of plot to draw, but for the time being we need to set\u001b[39;00m\n\u001b[32m    211\u001b[39m     \u001b[38;5;66;03m# this information so the SizeMapping can use it\u001b[39;00m\n\u001b[32m    212\u001b[39m     \u001b[38;5;28mself\u001b[39m._default_size_range = (\n\u001b[32m    213\u001b[39m         np.r_[\u001b[32m.5\u001b[39m, \u001b[32m2\u001b[39m] * mpl.rcParams[\u001b[33m\"\u001b[39m\u001b[33mlines.linewidth\u001b[39m\u001b[33m\"\u001b[39m]\n\u001b[32m    214\u001b[39m     )\n\u001b[32m--> \u001b[39m\u001b[32m216\u001b[39m     \u001b[38;5;28;43msuper\u001b[39;49m\u001b[43m(\u001b[49m\u001b[43m)\u001b[49m\u001b[43m.\u001b[49m\u001b[34;43m__init__\u001b[39;49m\u001b[43m(\u001b[49m\u001b[43mdata\u001b[49m\u001b[43m=\u001b[49m\u001b[43mdata\u001b[49m\u001b[43m,\u001b[49m\u001b[43m \u001b[49m\u001b[43mvariables\u001b[49m\u001b[43m=\u001b[49m\u001b[43mvariables\u001b[49m\u001b[43m)\u001b[49m\n\u001b[32m    218\u001b[39m     \u001b[38;5;28mself\u001b[39m.estimator = estimator\n\u001b[32m    219\u001b[39m     \u001b[38;5;28mself\u001b[39m.errorbar = errorbar\n",
      "\u001b[36mFile \u001b[39m\u001b[32m~/projects/IC/aqm-dataset-LoraWan/venv/lib/python3.12/site-packages/seaborn/_base.py:634\u001b[39m, in \u001b[36mVectorPlotter.__init__\u001b[39m\u001b[34m(self, data, variables)\u001b[39m\n\u001b[32m    629\u001b[39m \u001b[38;5;66;03m# var_ordered is relevant only for categorical axis variables, and may\u001b[39;00m\n\u001b[32m    630\u001b[39m \u001b[38;5;66;03m# be better handled by an internal axis information object that tracks\u001b[39;00m\n\u001b[32m    631\u001b[39m \u001b[38;5;66;03m# such information and is set up by the scale_* methods. The analogous\u001b[39;00m\n\u001b[32m    632\u001b[39m \u001b[38;5;66;03m# information for numeric axes would be information about log scales.\u001b[39;00m\n\u001b[32m    633\u001b[39m \u001b[38;5;28mself\u001b[39m._var_ordered = {\u001b[33m\"\u001b[39m\u001b[33mx\u001b[39m\u001b[33m\"\u001b[39m: \u001b[38;5;28;01mFalse\u001b[39;00m, \u001b[33m\"\u001b[39m\u001b[33my\u001b[39m\u001b[33m\"\u001b[39m: \u001b[38;5;28;01mFalse\u001b[39;00m}  \u001b[38;5;66;03m# alt., used DefaultDict\u001b[39;00m\n\u001b[32m--> \u001b[39m\u001b[32m634\u001b[39m \u001b[38;5;28;43mself\u001b[39;49m\u001b[43m.\u001b[49m\u001b[43massign_variables\u001b[49m\u001b[43m(\u001b[49m\u001b[43mdata\u001b[49m\u001b[43m,\u001b[49m\u001b[43m \u001b[49m\u001b[43mvariables\u001b[49m\u001b[43m)\u001b[49m\n\u001b[32m    636\u001b[39m \u001b[38;5;66;03m# TODO Lots of tests assume that these are called to initialize the\u001b[39;00m\n\u001b[32m    637\u001b[39m \u001b[38;5;66;03m# mappings to default values on class initialization. I'd prefer to\u001b[39;00m\n\u001b[32m    638\u001b[39m \u001b[38;5;66;03m# move away from that and only have a mapping when explicitly called.\u001b[39;00m\n\u001b[32m    639\u001b[39m \u001b[38;5;28;01mfor\u001b[39;00m var \u001b[38;5;129;01min\u001b[39;00m [\u001b[33m\"\u001b[39m\u001b[33mhue\u001b[39m\u001b[33m\"\u001b[39m, \u001b[33m\"\u001b[39m\u001b[33msize\u001b[39m\u001b[33m\"\u001b[39m, \u001b[33m\"\u001b[39m\u001b[33mstyle\u001b[39m\u001b[33m\"\u001b[39m]:\n",
      "\u001b[36mFile \u001b[39m\u001b[32m~/projects/IC/aqm-dataset-LoraWan/venv/lib/python3.12/site-packages/seaborn/_base.py:673\u001b[39m, in \u001b[36mVectorPlotter.assign_variables\u001b[39m\u001b[34m(self, data, variables)\u001b[39m\n\u001b[32m    671\u001b[39m \u001b[38;5;28;01mif\u001b[39;00m x \u001b[38;5;129;01mis\u001b[39;00m \u001b[38;5;28;01mNone\u001b[39;00m \u001b[38;5;129;01mand\u001b[39;00m y \u001b[38;5;129;01mis\u001b[39;00m \u001b[38;5;28;01mNone\u001b[39;00m:\n\u001b[32m    672\u001b[39m     \u001b[38;5;28mself\u001b[39m.input_format = \u001b[33m\"\u001b[39m\u001b[33mwide\u001b[39m\u001b[33m\"\u001b[39m\n\u001b[32m--> \u001b[39m\u001b[32m673\u001b[39m     frame, names = \u001b[38;5;28;43mself\u001b[39;49m\u001b[43m.\u001b[49m\u001b[43m_assign_variables_wideform\u001b[49m\u001b[43m(\u001b[49m\u001b[43mdata\u001b[49m\u001b[43m,\u001b[49m\u001b[43m \u001b[49m\u001b[43m*\u001b[49m\u001b[43m*\u001b[49m\u001b[43mvariables\u001b[49m\u001b[43m)\u001b[49m\n\u001b[32m    674\u001b[39m \u001b[38;5;28;01melse\u001b[39;00m:\n\u001b[32m    675\u001b[39m     \u001b[38;5;66;03m# When dealing with long-form input, use the newer PlotData\u001b[39;00m\n\u001b[32m    676\u001b[39m     \u001b[38;5;66;03m# object (internal but introduced for the objects interface)\u001b[39;00m\n\u001b[32m    677\u001b[39m     \u001b[38;5;66;03m# to centralize / standardize data consumption logic.\u001b[39;00m\n\u001b[32m    678\u001b[39m     \u001b[38;5;28mself\u001b[39m.input_format = \u001b[33m\"\u001b[39m\u001b[33mlong\u001b[39m\u001b[33m\"\u001b[39m\n",
      "\u001b[36mFile \u001b[39m\u001b[32m~/projects/IC/aqm-dataset-LoraWan/venv/lib/python3.12/site-packages/seaborn/_base.py:815\u001b[39m, in \u001b[36mVectorPlotter._assign_variables_wideform\u001b[39m\u001b[34m(self, data, **kwargs)\u001b[39m\n\u001b[32m    812\u001b[39m         category_columns = \u001b[38;5;28;01mTrue\u001b[39;00m\n\u001b[32m    813\u001b[39m     wide_data[\u001b[33m\"\u001b[39m\u001b[33m@index\u001b[39m\u001b[33m\"\u001b[39m] = wide_data.index.to_series()\n\u001b[32m--> \u001b[39m\u001b[32m815\u001b[39m plot_data = \u001b[43mwide_data\u001b[49m\u001b[43m.\u001b[49m\u001b[43mmelt\u001b[49m\u001b[43m(\u001b[49m\u001b[43m*\u001b[49m\u001b[43m*\u001b[49m\u001b[43mmelt_kws\u001b[49m\u001b[43m)\u001b[49m\n\u001b[32m    817\u001b[39m \u001b[38;5;28;01mif\u001b[39;00m use_index \u001b[38;5;129;01mand\u001b[39;00m category_columns:\n\u001b[32m    818\u001b[39m     plot_data[\u001b[33m\"\u001b[39m\u001b[33m@columns\u001b[39m\u001b[33m\"\u001b[39m] = pd.Categorical(plot_data[\u001b[33m\"\u001b[39m\u001b[33m@columns\u001b[39m\u001b[33m\"\u001b[39m],\n\u001b[32m    819\u001b[39m                                            orig_categories,\n\u001b[32m    820\u001b[39m                                            orig_ordered)\n",
      "\u001b[36mFile \u001b[39m\u001b[32m~/projects/IC/aqm-dataset-LoraWan/venv/lib/python3.12/site-packages/pandas/core/frame.py:9942\u001b[39m, in \u001b[36mDataFrame.melt\u001b[39m\u001b[34m(self, id_vars, value_vars, var_name, value_name, col_level, ignore_index)\u001b[39m\n\u001b[32m   9932\u001b[39m \u001b[38;5;129m@Appender\u001b[39m(_shared_docs[\u001b[33m\"\u001b[39m\u001b[33mmelt\u001b[39m\u001b[33m\"\u001b[39m] % {\u001b[33m\"\u001b[39m\u001b[33mcaller\u001b[39m\u001b[33m\"\u001b[39m: \u001b[33m\"\u001b[39m\u001b[33mdf.melt(\u001b[39m\u001b[33m\"\u001b[39m, \u001b[33m\"\u001b[39m\u001b[33mother\u001b[39m\u001b[33m\"\u001b[39m: \u001b[33m\"\u001b[39m\u001b[33mmelt\u001b[39m\u001b[33m\"\u001b[39m})\n\u001b[32m   9933\u001b[39m \u001b[38;5;28;01mdef\u001b[39;00m\u001b[38;5;250m \u001b[39m\u001b[34mmelt\u001b[39m(\n\u001b[32m   9934\u001b[39m     \u001b[38;5;28mself\u001b[39m,\n\u001b[32m   (...)\u001b[39m\u001b[32m   9940\u001b[39m     ignore_index: \u001b[38;5;28mbool\u001b[39m = \u001b[38;5;28;01mTrue\u001b[39;00m,\n\u001b[32m   9941\u001b[39m ) -> DataFrame:\n\u001b[32m-> \u001b[39m\u001b[32m9942\u001b[39m     \u001b[38;5;28;01mreturn\u001b[39;00m \u001b[43mmelt\u001b[49m\u001b[43m(\u001b[49m\n\u001b[32m   9943\u001b[39m \u001b[43m        \u001b[49m\u001b[38;5;28;43mself\u001b[39;49m\u001b[43m,\u001b[49m\n\u001b[32m   9944\u001b[39m \u001b[43m        \u001b[49m\u001b[43mid_vars\u001b[49m\u001b[43m=\u001b[49m\u001b[43mid_vars\u001b[49m\u001b[43m,\u001b[49m\n\u001b[32m   9945\u001b[39m \u001b[43m        \u001b[49m\u001b[43mvalue_vars\u001b[49m\u001b[43m=\u001b[49m\u001b[43mvalue_vars\u001b[49m\u001b[43m,\u001b[49m\n\u001b[32m   9946\u001b[39m \u001b[43m        \u001b[49m\u001b[43mvar_name\u001b[49m\u001b[43m=\u001b[49m\u001b[43mvar_name\u001b[49m\u001b[43m,\u001b[49m\n\u001b[32m   9947\u001b[39m \u001b[43m        \u001b[49m\u001b[43mvalue_name\u001b[49m\u001b[43m=\u001b[49m\u001b[43mvalue_name\u001b[49m\u001b[43m,\u001b[49m\n\u001b[32m   9948\u001b[39m \u001b[43m        \u001b[49m\u001b[43mcol_level\u001b[49m\u001b[43m=\u001b[49m\u001b[43mcol_level\u001b[49m\u001b[43m,\u001b[49m\n\u001b[32m   9949\u001b[39m \u001b[43m        \u001b[49m\u001b[43mignore_index\u001b[49m\u001b[43m=\u001b[49m\u001b[43mignore_index\u001b[49m\u001b[43m,\u001b[49m\n\u001b[32m   9950\u001b[39m \u001b[43m    \u001b[49m\u001b[43m)\u001b[49m.__finalize__(\u001b[38;5;28mself\u001b[39m, method=\u001b[33m\"\u001b[39m\u001b[33mmelt\u001b[39m\u001b[33m\"\u001b[39m)\n",
      "\u001b[36mFile \u001b[39m\u001b[32m~/projects/IC/aqm-dataset-LoraWan/venv/lib/python3.12/site-packages/pandas/core/reshape/melt.py:74\u001b[39m, in \u001b[36mmelt\u001b[39m\u001b[34m(frame, id_vars, value_vars, var_name, value_name, col_level, ignore_index)\u001b[39m\n\u001b[32m     70\u001b[39m \u001b[38;5;28;01mif\u001b[39;00m missing.any():\n\u001b[32m     71\u001b[39m     missing_labels = [\n\u001b[32m     72\u001b[39m         lab \u001b[38;5;28;01mfor\u001b[39;00m lab, not_found \u001b[38;5;129;01min\u001b[39;00m \u001b[38;5;28mzip\u001b[39m(labels, missing) \u001b[38;5;28;01mif\u001b[39;00m not_found\n\u001b[32m     73\u001b[39m     ]\n\u001b[32m---> \u001b[39m\u001b[32m74\u001b[39m     \u001b[38;5;28;01mraise\u001b[39;00m \u001b[38;5;167;01mKeyError\u001b[39;00m(\n\u001b[32m     75\u001b[39m         \u001b[33m\"\u001b[39m\u001b[33mThe following id_vars or value_vars are not present in \u001b[39m\u001b[33m\"\u001b[39m\n\u001b[32m     76\u001b[39m         \u001b[33mf\u001b[39m\u001b[33m\"\u001b[39m\u001b[33mthe DataFrame: \u001b[39m\u001b[38;5;132;01m{\u001b[39;00mmissing_labels\u001b[38;5;132;01m}\u001b[39;00m\u001b[33m\"\u001b[39m\n\u001b[32m     77\u001b[39m     )\n\u001b[32m     78\u001b[39m \u001b[38;5;28;01mif\u001b[39;00m value_vars_was_not_none:\n\u001b[32m     79\u001b[39m     frame = frame.iloc[:, algos.unique(idx)]\n",
      "\u001b[31mKeyError\u001b[39m: \"The following id_vars or value_vars are not present in the DataFrame: ['@index']\""
     ]
    },
    {
     "data": {
      "image/png": "[encoded data removed]",
      "text/plain": [
       "<Figure size 1200x400 with 2 Axes>"
      ]
     },
     "metadata": {},
     "output_type": "display_data"
    }
   ],
   "source": [
    "plot_data_by_time_and_regr_plot(e1_rf, e2_ref, labels = ['co'], latex_labels = 'co')"
   ]
  },
  {
   "cell_type": "markdown",
   "metadata": {},
   "source": [
    "%<br>\n",
    " ['2023-03-18 10:00:00':'2023-03-22 10:00:00']."
   ]
  },
  {
   "cell_type": "code",
   "execution_count": null,
   "metadata": {},
   "outputs": [],
   "source": [
    "e1_rf = {'co' : pd.DataFrame(data=linReg.predict(Xco), index=Xco.index)}\n",
    "# e1 = {'co' : df['e2sp_co']}\n",
    "e2_ref = {'co' : df['iag_co']}"
   ]
  },
  {
   "cell_type": "code",
   "execution_count": null,
   "metadata": {},
   "outputs": [
    {
     "ename": "KeyError",
     "evalue": "\"The following id_vars or value_vars are not present in the DataFrame: ['@index']\"",
     "output_type": "error",
     "traceback": [
      "\u001b[31m---------------------------------------------------------------------------\u001b[39m",
      "\u001b[31mKeyError\u001b[39m                                  Traceback (most recent call last)",
      "\u001b[36mCell\u001b[39m\u001b[36m \u001b[39m\u001b[32mIn[68]\u001b[39m\u001b[32m, line 1\u001b[39m\n\u001b[32m----> \u001b[39m\u001b[32m1\u001b[39m \u001b[43mplot_data_by_time_and_regr_plot\u001b[49m\u001b[43m(\u001b[49m\u001b[43me1_rf\u001b[49m\u001b[43m,\u001b[49m\u001b[43m \u001b[49m\u001b[43me2_ref\u001b[49m\u001b[43m,\u001b[49m\u001b[43m \u001b[49m\u001b[43mlabels\u001b[49m\u001b[43m \u001b[49m\u001b[43m=\u001b[49m\u001b[43m \u001b[49m\u001b[43m[\u001b[49m\u001b[33;43m'\u001b[39;49m\u001b[33;43mco\u001b[39;49m\u001b[33;43m'\u001b[39;49m\u001b[43m]\u001b[49m\u001b[43m,\u001b[49m\u001b[43m \u001b[49m\u001b[43mlatex_labels\u001b[49m\u001b[43m \u001b[49m\u001b[43m=\u001b[49m\u001b[43m \u001b[49m\u001b[33;43m'\u001b[39;49m\u001b[33;43mco\u001b[39;49m\u001b[33;43m'\u001b[39;49m\u001b[43m)\u001b[49m\n",
      "\u001b[36mFile \u001b[39m\u001b[32m~/projects/IC/aqm-dataset-LoraWan/estacao-grafana/envcity_plot_lib.py:45\u001b[39m, in \u001b[36mplot_data_by_time_and_regr_plot\u001b[39m\u001b[34m(dict_data_e1, dict_data_e2, labels, latex_labels, start, end, e1_label, e2_label, style_plot)\u001b[39m\n\u001b[32m     42\u001b[39m ax1 = fig.add_subplot(gs[\u001b[32m0\u001b[39m])\n\u001b[32m     43\u001b[39m ax2 = fig.add_subplot(gs[\u001b[32m1\u001b[39m])\n\u001b[32m---> \u001b[39m\u001b[32m45\u001b[39m \u001b[43msns\u001b[49m\u001b[43m.\u001b[49m\u001b[43mlineplot\u001b[49m\u001b[43m(\u001b[49m\u001b[43mdata\u001b[49m\u001b[43m=\u001b[49m\u001b[43mconcatenated\u001b[49m\u001b[43m,\u001b[49m\u001b[43m \u001b[49m\u001b[43mlinewidth\u001b[49m\u001b[43m=\u001b[49m\u001b[32;43m1\u001b[39;49m\u001b[43m,\u001b[49m\u001b[43m \u001b[49m\u001b[43max\u001b[49m\u001b[43m=\u001b[49m\u001b[43max1\u001b[49m\u001b[43m)\u001b[49m\n\u001b[32m     46\u001b[39m sns.regplot(data=concatenated, x = e1_label, y = e2_label, ax = ax2, marker = \u001b[33m'\u001b[39m\u001b[33m.\u001b[39m\u001b[33m'\u001b[39m)\n\u001b[32m     47\u001b[39m ax2.axline((\u001b[32m0\u001b[39m,\u001b[32m0\u001b[39m), slope=\u001b[32m1\u001b[39m)\n",
      "\u001b[36mFile \u001b[39m\u001b[32m~/projects/IC/aqm-dataset-LoraWan/venv/lib/python3.12/site-packages/seaborn/relational.py:485\u001b[39m, in \u001b[36mlineplot\u001b[39m\u001b[34m(data, x, y, hue, size, style, units, weights, palette, hue_order, hue_norm, sizes, size_order, size_norm, dashes, markers, style_order, estimator, errorbar, n_boot, seed, orient, sort, err_style, err_kws, legend, ci, ax, **kwargs)\u001b[39m\n\u001b[32m    471\u001b[39m \u001b[38;5;28;01mdef\u001b[39;00m\u001b[38;5;250m \u001b[39m\u001b[34mlineplot\u001b[39m(\n\u001b[32m    472\u001b[39m     data=\u001b[38;5;28;01mNone\u001b[39;00m, *,\n\u001b[32m    473\u001b[39m     x=\u001b[38;5;28;01mNone\u001b[39;00m, y=\u001b[38;5;28;01mNone\u001b[39;00m, hue=\u001b[38;5;28;01mNone\u001b[39;00m, size=\u001b[38;5;28;01mNone\u001b[39;00m, style=\u001b[38;5;28;01mNone\u001b[39;00m, units=\u001b[38;5;28;01mNone\u001b[39;00m, weights=\u001b[38;5;28;01mNone\u001b[39;00m,\n\u001b[32m   (...)\u001b[39m\u001b[32m    481\u001b[39m \n\u001b[32m    482\u001b[39m     \u001b[38;5;66;03m# Handle deprecation of ci parameter\u001b[39;00m\n\u001b[32m    483\u001b[39m     errorbar = _deprecate_ci(errorbar, ci)\n\u001b[32m--> \u001b[39m\u001b[32m485\u001b[39m     p = \u001b[43m_LinePlotter\u001b[49m\u001b[43m(\u001b[49m\n\u001b[32m    486\u001b[39m \u001b[43m        \u001b[49m\u001b[43mdata\u001b[49m\u001b[43m=\u001b[49m\u001b[43mdata\u001b[49m\u001b[43m,\u001b[49m\n\u001b[32m    487\u001b[39m \u001b[43m        \u001b[49m\u001b[43mvariables\u001b[49m\u001b[43m=\u001b[49m\u001b[38;5;28;43mdict\u001b[39;49m\u001b[43m(\u001b[49m\n\u001b[32m    488\u001b[39m \u001b[43m            \u001b[49m\u001b[43mx\u001b[49m\u001b[43m=\u001b[49m\u001b[43mx\u001b[49m\u001b[43m,\u001b[49m\u001b[43m \u001b[49m\u001b[43my\u001b[49m\u001b[43m=\u001b[49m\u001b[43my\u001b[49m\u001b[43m,\u001b[49m\u001b[43m \u001b[49m\u001b[43mhue\u001b[49m\u001b[43m=\u001b[49m\u001b[43mhue\u001b[49m\u001b[43m,\u001b[49m\u001b[43m \u001b[49m\u001b[43msize\u001b[49m\u001b[43m=\u001b[49m\u001b[43msize\u001b[49m\u001b[43m,\u001b[49m\u001b[43m \u001b[49m\u001b[43mstyle\u001b[49m\u001b[43m=\u001b[49m\u001b[43mstyle\u001b[49m\u001b[43m,\u001b[49m\u001b[43m \u001b[49m\u001b[43munits\u001b[49m\u001b[43m=\u001b[49m\u001b[43munits\u001b[49m\u001b[43m,\u001b[49m\u001b[43m \u001b[49m\u001b[43mweight\u001b[49m\u001b[43m=\u001b[49m\u001b[43mweights\u001b[49m\n\u001b[32m    489\u001b[39m \u001b[43m        \u001b[49m\u001b[43m)\u001b[49m\u001b[43m,\u001b[49m\n\u001b[32m    490\u001b[39m \u001b[43m        \u001b[49m\u001b[43mestimator\u001b[49m\u001b[43m=\u001b[49m\u001b[43mestimator\u001b[49m\u001b[43m,\u001b[49m\u001b[43m \u001b[49m\u001b[43mn_boot\u001b[49m\u001b[43m=\u001b[49m\u001b[43mn_boot\u001b[49m\u001b[43m,\u001b[49m\u001b[43m \u001b[49m\u001b[43mseed\u001b[49m\u001b[43m=\u001b[49m\u001b[43mseed\u001b[49m\u001b[43m,\u001b[49m\u001b[43m \u001b[49m\u001b[43merrorbar\u001b[49m\u001b[43m=\u001b[49m\u001b[43merrorbar\u001b[49m\u001b[43m,\u001b[49m\n\u001b[32m    491\u001b[39m \u001b[43m        \u001b[49m\u001b[43msort\u001b[49m\u001b[43m=\u001b[49m\u001b[43msort\u001b[49m\u001b[43m,\u001b[49m\u001b[43m \u001b[49m\u001b[43morient\u001b[49m\u001b[43m=\u001b[49m\u001b[43morient\u001b[49m\u001b[43m,\u001b[49m\u001b[43m \u001b[49m\u001b[43merr_style\u001b[49m\u001b[43m=\u001b[49m\u001b[43merr_style\u001b[49m\u001b[43m,\u001b[49m\u001b[43m \u001b[49m\u001b[43merr_kws\u001b[49m\u001b[43m=\u001b[49m\u001b[43merr_kws\u001b[49m\u001b[43m,\u001b[49m\n\u001b[32m    492\u001b[39m \u001b[43m        \u001b[49m\u001b[43mlegend\u001b[49m\u001b[43m=\u001b[49m\u001b[43mlegend\u001b[49m\u001b[43m,\u001b[49m\n\u001b[32m    493\u001b[39m \u001b[43m    \u001b[49m\u001b[43m)\u001b[49m\n\u001b[32m    495\u001b[39m     p.map_hue(palette=palette, order=hue_order, norm=hue_norm)\n\u001b[32m    496\u001b[39m     p.map_size(sizes=sizes, order=size_order, norm=size_norm)\n",
      "\u001b[36mFile \u001b[39m\u001b[32m~/projects/IC/aqm-dataset-LoraWan/venv/lib/python3.12/site-packages/seaborn/relational.py:216\u001b[39m, in \u001b[36m_LinePlotter.__init__\u001b[39m\u001b[34m(self, data, variables, estimator, n_boot, seed, errorbar, sort, orient, err_style, err_kws, legend)\u001b[39m\n\u001b[32m    202\u001b[39m \u001b[38;5;28;01mdef\u001b[39;00m\u001b[38;5;250m \u001b[39m\u001b[34m__init__\u001b[39m(\n\u001b[32m    203\u001b[39m     \u001b[38;5;28mself\u001b[39m, *,\n\u001b[32m    204\u001b[39m     data=\u001b[38;5;28;01mNone\u001b[39;00m, variables={},\n\u001b[32m   (...)\u001b[39m\u001b[32m    210\u001b[39m     \u001b[38;5;66;03m# the kind of plot to draw, but for the time being we need to set\u001b[39;00m\n\u001b[32m    211\u001b[39m     \u001b[38;5;66;03m# this information so the SizeMapping can use it\u001b[39;00m\n\u001b[32m    212\u001b[39m     \u001b[38;5;28mself\u001b[39m._default_size_range = (\n\u001b[32m    213\u001b[39m         np.r_[\u001b[32m.5\u001b[39m, \u001b[32m2\u001b[39m] * mpl.rcParams[\u001b[33m\"\u001b[39m\u001b[33mlines.linewidth\u001b[39m\u001b[33m\"\u001b[39m]\n\u001b[32m    214\u001b[39m     )\n\u001b[32m--> \u001b[39m\u001b[32m216\u001b[39m     \u001b[38;5;28;43msuper\u001b[39;49m\u001b[43m(\u001b[49m\u001b[43m)\u001b[49m\u001b[43m.\u001b[49m\u001b[34;43m__init__\u001b[39;49m\u001b[43m(\u001b[49m\u001b[43mdata\u001b[49m\u001b[43m=\u001b[49m\u001b[43mdata\u001b[49m\u001b[43m,\u001b[49m\u001b[43m \u001b[49m\u001b[43mvariables\u001b[49m\u001b[43m=\u001b[49m\u001b[43mvariables\u001b[49m\u001b[43m)\u001b[49m\n\u001b[32m    218\u001b[39m     \u001b[38;5;28mself\u001b[39m.estimator = estimator\n\u001b[32m    219\u001b[39m     \u001b[38;5;28mself\u001b[39m.errorbar = errorbar\n",
      "\u001b[36mFile \u001b[39m\u001b[32m~/projects/IC/aqm-dataset-LoraWan/venv/lib/python3.12/site-packages/seaborn/_base.py:634\u001b[39m, in \u001b[36mVectorPlotter.__init__\u001b[39m\u001b[34m(self, data, variables)\u001b[39m\n\u001b[32m    629\u001b[39m \u001b[38;5;66;03m# var_ordered is relevant only for categorical axis variables, and may\u001b[39;00m\n\u001b[32m    630\u001b[39m \u001b[38;5;66;03m# be better handled by an internal axis information object that tracks\u001b[39;00m\n\u001b[32m    631\u001b[39m \u001b[38;5;66;03m# such information and is set up by the scale_* methods. The analogous\u001b[39;00m\n\u001b[32m    632\u001b[39m \u001b[38;5;66;03m# information for numeric axes would be information about log scales.\u001b[39;00m\n\u001b[32m    633\u001b[39m \u001b[38;5;28mself\u001b[39m._var_ordered = {\u001b[33m\"\u001b[39m\u001b[33mx\u001b[39m\u001b[33m\"\u001b[39m: \u001b[38;5;28;01mFalse\u001b[39;00m, \u001b[33m\"\u001b[39m\u001b[33my\u001b[39m\u001b[33m\"\u001b[39m: \u001b[38;5;28;01mFalse\u001b[39;00m}  \u001b[38;5;66;03m# alt., used DefaultDict\u001b[39;00m\n\u001b[32m--> \u001b[39m\u001b[32m634\u001b[39m \u001b[38;5;28;43mself\u001b[39;49m\u001b[43m.\u001b[49m\u001b[43massign_variables\u001b[49m\u001b[43m(\u001b[49m\u001b[43mdata\u001b[49m\u001b[43m,\u001b[49m\u001b[43m \u001b[49m\u001b[43mvariables\u001b[49m\u001b[43m)\u001b[49m\n\u001b[32m    636\u001b[39m \u001b[38;5;66;03m# TODO Lots of tests assume that these are called to initialize the\u001b[39;00m\n\u001b[32m    637\u001b[39m \u001b[38;5;66;03m# mappings to default values on class initialization. I'd prefer to\u001b[39;00m\n\u001b[32m    638\u001b[39m \u001b[38;5;66;03m# move away from that and only have a mapping when explicitly called.\u001b[39;00m\n\u001b[32m    639\u001b[39m \u001b[38;5;28;01mfor\u001b[39;00m var \u001b[38;5;129;01min\u001b[39;00m [\u001b[33m\"\u001b[39m\u001b[33mhue\u001b[39m\u001b[33m\"\u001b[39m, \u001b[33m\"\u001b[39m\u001b[33msize\u001b[39m\u001b[33m\"\u001b[39m, \u001b[33m\"\u001b[39m\u001b[33mstyle\u001b[39m\u001b[33m\"\u001b[39m]:\n",
      "\u001b[36mFile \u001b[39m\u001b[32m~/projects/IC/aqm-dataset-LoraWan/venv/lib/python3.12/site-packages/seaborn/_base.py:673\u001b[39m, in \u001b[36mVectorPlotter.assign_variables\u001b[39m\u001b[34m(self, data, variables)\u001b[39m\n\u001b[32m    671\u001b[39m \u001b[38;5;28;01mif\u001b[39;00m x \u001b[38;5;129;01mis\u001b[39;00m \u001b[38;5;28;01mNone\u001b[39;00m \u001b[38;5;129;01mand\u001b[39;00m y \u001b[38;5;129;01mis\u001b[39;00m \u001b[38;5;28;01mNone\u001b[39;00m:\n\u001b[32m    672\u001b[39m     \u001b[38;5;28mself\u001b[39m.input_format = \u001b[33m\"\u001b[39m\u001b[33mwide\u001b[39m\u001b[33m\"\u001b[39m\n\u001b[32m--> \u001b[39m\u001b[32m673\u001b[39m     frame, names = \u001b[38;5;28;43mself\u001b[39;49m\u001b[43m.\u001b[49m\u001b[43m_assign_variables_wideform\u001b[49m\u001b[43m(\u001b[49m\u001b[43mdata\u001b[49m\u001b[43m,\u001b[49m\u001b[43m \u001b[49m\u001b[43m*\u001b[49m\u001b[43m*\u001b[49m\u001b[43mvariables\u001b[49m\u001b[43m)\u001b[49m\n\u001b[32m    674\u001b[39m \u001b[38;5;28;01melse\u001b[39;00m:\n\u001b[32m    675\u001b[39m     \u001b[38;5;66;03m# When dealing with long-form input, use the newer PlotData\u001b[39;00m\n\u001b[32m    676\u001b[39m     \u001b[38;5;66;03m# object (internal but introduced for the objects interface)\u001b[39;00m\n\u001b[32m    677\u001b[39m     \u001b[38;5;66;03m# to centralize / standardize data consumption logic.\u001b[39;00m\n\u001b[32m    678\u001b[39m     \u001b[38;5;28mself\u001b[39m.input_format = \u001b[33m\"\u001b[39m\u001b[33mlong\u001b[39m\u001b[33m\"\u001b[39m\n",
      "\u001b[36mFile \u001b[39m\u001b[32m~/projects/IC/aqm-dataset-LoraWan/venv/lib/python3.12/site-packages/seaborn/_base.py:815\u001b[39m, in \u001b[36mVectorPlotter._assign_variables_wideform\u001b[39m\u001b[34m(self, data, **kwargs)\u001b[39m\n\u001b[32m    812\u001b[39m         category_columns = \u001b[38;5;28;01mTrue\u001b[39;00m\n\u001b[32m    813\u001b[39m     wide_data[\u001b[33m\"\u001b[39m\u001b[33m@index\u001b[39m\u001b[33m\"\u001b[39m] = wide_data.index.to_series()\n\u001b[32m--> \u001b[39m\u001b[32m815\u001b[39m plot_data = \u001b[43mwide_data\u001b[49m\u001b[43m.\u001b[49m\u001b[43mmelt\u001b[49m\u001b[43m(\u001b[49m\u001b[43m*\u001b[49m\u001b[43m*\u001b[49m\u001b[43mmelt_kws\u001b[49m\u001b[43m)\u001b[49m\n\u001b[32m    817\u001b[39m \u001b[38;5;28;01mif\u001b[39;00m use_index \u001b[38;5;129;01mand\u001b[39;00m category_columns:\n\u001b[32m    818\u001b[39m     plot_data[\u001b[33m\"\u001b[39m\u001b[33m@columns\u001b[39m\u001b[33m\"\u001b[39m] = pd.Categorical(plot_data[\u001b[33m\"\u001b[39m\u001b[33m@columns\u001b[39m\u001b[33m\"\u001b[39m],\n\u001b[32m    819\u001b[39m                                            orig_categories,\n\u001b[32m    820\u001b[39m                                            orig_ordered)\n",
      "\u001b[36mFile \u001b[39m\u001b[32m~/projects/IC/aqm-dataset-LoraWan/venv/lib/python3.12/site-packages/pandas/core/frame.py:9942\u001b[39m, in \u001b[36mDataFrame.melt\u001b[39m\u001b[34m(self, id_vars, value_vars, var_name, value_name, col_level, ignore_index)\u001b[39m\n\u001b[32m   9932\u001b[39m \u001b[38;5;129m@Appender\u001b[39m(_shared_docs[\u001b[33m\"\u001b[39m\u001b[33mmelt\u001b[39m\u001b[33m\"\u001b[39m] % {\u001b[33m\"\u001b[39m\u001b[33mcaller\u001b[39m\u001b[33m\"\u001b[39m: \u001b[33m\"\u001b[39m\u001b[33mdf.melt(\u001b[39m\u001b[33m\"\u001b[39m, \u001b[33m\"\u001b[39m\u001b[33mother\u001b[39m\u001b[33m\"\u001b[39m: \u001b[33m\"\u001b[39m\u001b[33mmelt\u001b[39m\u001b[33m\"\u001b[39m})\n\u001b[32m   9933\u001b[39m \u001b[38;5;28;01mdef\u001b[39;00m\u001b[38;5;250m \u001b[39m\u001b[34mmelt\u001b[39m(\n\u001b[32m   9934\u001b[39m     \u001b[38;5;28mself\u001b[39m,\n\u001b[32m   (...)\u001b[39m\u001b[32m   9940\u001b[39m     ignore_index: \u001b[38;5;28mbool\u001b[39m = \u001b[38;5;28;01mTrue\u001b[39;00m,\n\u001b[32m   9941\u001b[39m ) -> DataFrame:\n\u001b[32m-> \u001b[39m\u001b[32m9942\u001b[39m     \u001b[38;5;28;01mreturn\u001b[39;00m \u001b[43mmelt\u001b[49m\u001b[43m(\u001b[49m\n\u001b[32m   9943\u001b[39m \u001b[43m        \u001b[49m\u001b[38;5;28;43mself\u001b[39;49m\u001b[43m,\u001b[49m\n\u001b[32m   9944\u001b[39m \u001b[43m        \u001b[49m\u001b[43mid_vars\u001b[49m\u001b[43m=\u001b[49m\u001b[43mid_vars\u001b[49m\u001b[43m,\u001b[49m\n\u001b[32m   9945\u001b[39m \u001b[43m        \u001b[49m\u001b[43mvalue_vars\u001b[49m\u001b[43m=\u001b[49m\u001b[43mvalue_vars\u001b[49m\u001b[43m,\u001b[49m\n\u001b[32m   9946\u001b[39m \u001b[43m        \u001b[49m\u001b[43mvar_name\u001b[49m\u001b[43m=\u001b[49m\u001b[43mvar_name\u001b[49m\u001b[43m,\u001b[49m\n\u001b[32m   9947\u001b[39m \u001b[43m        \u001b[49m\u001b[43mvalue_name\u001b[49m\u001b[43m=\u001b[49m\u001b[43mvalue_name\u001b[49m\u001b[43m,\u001b[49m\n\u001b[32m   9948\u001b[39m \u001b[43m        \u001b[49m\u001b[43mcol_level\u001b[49m\u001b[43m=\u001b[49m\u001b[43mcol_level\u001b[49m\u001b[43m,\u001b[49m\n\u001b[32m   9949\u001b[39m \u001b[43m        \u001b[49m\u001b[43mignore_index\u001b[49m\u001b[43m=\u001b[49m\u001b[43mignore_index\u001b[49m\u001b[43m,\u001b[49m\n\u001b[32m   9950\u001b[39m \u001b[43m    \u001b[49m\u001b[43m)\u001b[49m.__finalize__(\u001b[38;5;28mself\u001b[39m, method=\u001b[33m\"\u001b[39m\u001b[33mmelt\u001b[39m\u001b[33m\"\u001b[39m)\n",
      "\u001b[36mFile \u001b[39m\u001b[32m~/projects/IC/aqm-dataset-LoraWan/venv/lib/python3.12/site-packages/pandas/core/reshape/melt.py:74\u001b[39m, in \u001b[36mmelt\u001b[39m\u001b[34m(frame, id_vars, value_vars, var_name, value_name, col_level, ignore_index)\u001b[39m\n\u001b[32m     70\u001b[39m \u001b[38;5;28;01mif\u001b[39;00m missing.any():\n\u001b[32m     71\u001b[39m     missing_labels = [\n\u001b[32m     72\u001b[39m         lab \u001b[38;5;28;01mfor\u001b[39;00m lab, not_found \u001b[38;5;129;01min\u001b[39;00m \u001b[38;5;28mzip\u001b[39m(labels, missing) \u001b[38;5;28;01mif\u001b[39;00m not_found\n\u001b[32m     73\u001b[39m     ]\n\u001b[32m---> \u001b[39m\u001b[32m74\u001b[39m     \u001b[38;5;28;01mraise\u001b[39;00m \u001b[38;5;167;01mKeyError\u001b[39;00m(\n\u001b[32m     75\u001b[39m         \u001b[33m\"\u001b[39m\u001b[33mThe following id_vars or value_vars are not present in \u001b[39m\u001b[33m\"\u001b[39m\n\u001b[32m     76\u001b[39m         \u001b[33mf\u001b[39m\u001b[33m\"\u001b[39m\u001b[33mthe DataFrame: \u001b[39m\u001b[38;5;132;01m{\u001b[39;00mmissing_labels\u001b[38;5;132;01m}\u001b[39;00m\u001b[33m\"\u001b[39m\n\u001b[32m     77\u001b[39m     )\n\u001b[32m     78\u001b[39m \u001b[38;5;28;01mif\u001b[39;00m value_vars_was_not_none:\n\u001b[32m     79\u001b[39m     frame = frame.iloc[:, algos.unique(idx)]\n",
      "\u001b[31mKeyError\u001b[39m: \"The following id_vars or value_vars are not present in the DataFrame: ['@index']\""
     ]
    },
    {
     "data": {
      "image/png": "[encoded data removed]",
      "text/plain": [
       "<Figure size 1200x400 with 2 Axes>"
      ]
     },
     "metadata": {},
     "output_type": "display_data"
    }
   ],
   "source": [
    "plot_data_by_time_and_regr_plot(e1_rf, e2_ref, labels = ['co'], latex_labels = 'co')"
   ]
  }
 ],
 "metadata": {
  "kernelspec": {
   "display_name": "venv",
   "language": "python",
   "name": "python3"
  },
  "language_info": {
   "codemirror_mode": {
    "name": "ipython",
    "version": 3
   },
   "file_extension": ".py",
   "mimetype": "text/x-python",
   "name": "python",
   "nbconvert_exporter": "python",
   "pygments_lexer": "ipython3",
   "version": "3.12.3"
  }
 },
 "nbformat": 4,
 "nbformat_minor": 2
}
