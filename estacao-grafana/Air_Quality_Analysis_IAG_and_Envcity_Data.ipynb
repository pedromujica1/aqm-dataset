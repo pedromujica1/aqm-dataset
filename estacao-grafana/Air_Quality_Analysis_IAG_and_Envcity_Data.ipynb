{
 "cells": [
  {
   "cell_type": "code",
   "execution_count": 1,
   "metadata": {},
   "outputs": [],
   "source": [
    "#!/usr/bin/env python\n",
    "# coding: utf-8"
   ]
  },
  {
   "cell_type": "markdown",
   "metadata": {},
   "source": [
    "## Lendo os dados e Configurações do Matplotlib<br>\n"
   ]
  },
  {
   "cell_type": "markdown",
   "metadata": {},
   "source": [
    "In[11]:"
   ]
  },
  {
   "cell_type": "markdown",
   "metadata": {},
   "source": [
    "mportações e configurações"
   ]
  },
  {
   "cell_type": "code",
   "execution_count": 1,
   "metadata": {},
   "outputs": [],
   "source": [
    "import numpy as np\n",
    "import seaborn as sns\n",
    "import matplotlib.pyplot as plt\n",
    "import pandas as pd\n",
    "from envcity_plot_lib import *\n",
    "from alphasense_b_sensors.alphasense_sensors import *\n",
    "from itertools import product"
   ]
  },
  {
   "cell_type": "markdown",
   "metadata": {},
   "source": [
    "configurações do Matplotlib"
   ]
  },
  {
   "cell_type": "code",
   "execution_count": 2,
   "metadata": {},
   "outputs": [
    {
     "name": "stdout",
     "output_type": "stream",
     "text": [
      "Numpy version:  2.3.1\n",
      "Pandas version:  2.3.0\n"
     ]
    }
   ],
   "source": [
    "#configurações do matplotlib\n",
    "plt.rcParams.update({\n",
    "    \"text.usetex\": False,\n",
    "    \"font.family\": \"serif\",\n",
    "    \"font.sans-serif\": \"Times\",\n",
    "    \"font.size\" : 10,\n",
    "})\n",
    "#Versões das bibliotecas\n",
    "\n",
    "print(\"Numpy version: \", np.__version__)\n",
    "print(\"Pandas version: \", pd.__version__)"
   ]
  },
  {
   "cell_type": "markdown",
   "metadata": {},
   "source": [
    "In[12]:"
   ]
  },
  {
   "cell_type": "markdown",
   "metadata": {},
   "source": [
    "!wget https://media.githubusercontent.com/media/MateusMaruzka/aqm-dataset/main/envcity_aqm_df.csv -O aqm.csv"
   ]
  },
  {
   "cell_type": "markdown",
   "metadata": {},
   "source": [
    "In[13]:"
   ]
  },
  {
   "cell_type": "code",
   "execution_count": 4,
   "metadata": {},
   "outputs": [],
   "source": [
    "#!wget https://raw.githubusercontent.com/MateusMaruzka/aqm_envcity_sw/main/alphasense_sensors.py -O alphasense_sensors.py\n",
    "#!wget https://raw.githubusercontent.com/MateusMaruzka/aqm_envcity_sw/main/dados_correcao_temp.py -O dados_correcao_temp.py\n",
    "#!wget https://raw.githubusercontent.com/MateusMaruzka/aqm_envcity_sw/main/dados_alphasense.py -O dados_alphasense.py"
   ]
  },
  {
   "cell_type": "markdown",
   "metadata": {},
   "source": [
    "## Organizando o dataset"
   ]
  },
  {
   "cell_type": "markdown",
   "metadata": {},
   "source": [
    "In[14]:"
   ]
  },
  {
   "cell_type": "markdown",
   "metadata": {},
   "source": [
    "Leitura do dataset"
   ]
  },
  {
   "cell_type": "code",
   "execution_count": 3,
   "metadata": {},
   "outputs": [
    {
     "name": "stdout",
     "output_type": "stream",
     "text": [
      "(194485, 181)\n",
      "            e1_anem  e1_anem_volt         e1_co       e1_co_2       e1_co_3  \\\n",
      "count  43464.000000  25641.000000  43464.000000  43464.000000  43464.000000   \n",
      "mean       8.784224      0.501088   -257.343391    232.316820    186.055181   \n",
      "std        2.550723      0.018040   1619.857223    900.151430    886.591724   \n",
      "min        0.000000      0.000000 -25741.396484 -15297.602539 -15306.832031   \n",
      "25%        8.342664      0.498188   -285.960434    110.959763     46.315489   \n",
      "50%        8.472690      0.503438    232.782364    187.673752    118.113029   \n",
      "75%       10.501109      0.507937    332.472198    293.837364    227.100555   \n",
      "max       36.000000      0.619500  14709.538086  13169.983398  13040.117188   \n",
      "\n",
      "            e1_co_4      e1_co_ae      e1_co_we  e1_location        e1_no2  \\\n",
      "count  43464.000000  25641.000000  25641.000000          0.0  43464.000000   \n",
      "mean    -393.044602      0.308851      0.462073          NaN     40.933911   \n",
      "std      891.801038      0.069943      0.359609          NaN    129.713789   \n",
      "min   -15515.165039      0.036562      0.341812          NaN -10674.355469   \n",
      "25%     -836.776855      0.306750      0.385688          NaN     -2.701613   \n",
      "50%     -741.218994      0.312187      0.402375          NaN      1.532258   \n",
      "75%        0.000000      0.316875      0.431437          NaN    127.248032   \n",
      "max    11879.648438      4.849125      4.812375          NaN   6605.645508   \n",
      "\n",
      "       ...       iag_pm25   iag_pmcoarse   iag_pressure  iag_rainfalltotal  \\\n",
      "count  ...  141180.000000  141180.000000  141180.000000      141180.000000   \n",
      "mean   ...      11.424620      12.125215     925.792428           0.015795   \n",
      "std    ...       8.772193       9.303534       2.775974           0.081824   \n",
      "min    ...       0.924000       0.833000     912.000000           0.000000   \n",
      "25%    ...       5.046000       6.014000     924.000000           0.000000   \n",
      "50%    ...       9.100000      10.500000     926.000000           0.000000   \n",
      "75%    ...      15.680000      16.080000     928.000000           0.000000   \n",
      "max    ...      65.460000     213.700000     933.000000           5.300000   \n",
      "\n",
      "           iag_sigma        iag_so2  iag_solarradiation         iag_wd  \\\n",
      "count  141180.000000  141180.000000       141180.000000  141180.000000   \n",
      "mean        0.057547      29.642827          105.302989      31.683846   \n",
      "std         0.213006      58.984433          220.875903      26.297164   \n",
      "min         0.000000     -24.990000            0.000000       0.709000   \n",
      "25%         0.024000       6.792000            0.000000      18.470000   \n",
      "50%         0.034000      15.230000            0.000000      18.770000   \n",
      "75%         0.042000      30.980000          113.800000      20.560000   \n",
      "max        23.720000     428.800000         1092.000000     126.900000   \n",
      "\n",
      "              iag_ws       pin_umid  \n",
      "count  141180.000000  152581.000000  \n",
      "mean        1.107279      72.298478  \n",
      "std         0.013464      17.618968  \n",
      "min         1.100000      21.000000  \n",
      "25%         1.100000      61.000000  \n",
      "50%         1.102000      78.000000  \n",
      "75%         1.110000      86.000000  \n",
      "max         1.561000      96.000000  \n",
      "\n",
      "[8 rows x 180 columns]\n"
     ]
    }
   ],
   "source": [
    "aqm = pd.read_csv('envcity_aqm_df.csv')\n",
    "print(aqm.shape)\n",
    "print(aqm.describe())\n",
    "#%%"
   ]
  },
  {
   "cell_type": "markdown",
   "metadata": {},
   "source": [
    "impeza de colunas não utilizadas"
   ]
  },
  {
   "cell_type": "code",
   "execution_count": 4,
   "metadata": {},
   "outputs": [
    {
     "name": "stdout",
     "output_type": "stream",
     "text": [
      "e1_anem_volt\n",
      "e1_anem\n",
      "e2_anem_volt\n",
      "e2_anem\n",
      "e2sp_anem_volt\n",
      "e2sp_anem\n"
     ]
    }
   ],
   "source": [
    "for label, p, s in product(['anem'], ['e1_', 'e2_', 'e2sp_'], ['_volt', '']):\n",
    "    print(p + label+s)\n",
    "    try:\n",
    "        aqm.drop(labels = p + label + s, axis = 1,inplace=True)\n",
    "    except:\n",
    "        print('err')\n",
    "# aqm.set_index('time', inplace=True)"
   ]
  },
  {
   "cell_type": "markdown",
   "metadata": {},
   "source": [
    "In[34]:"
   ]
  },
  {
   "cell_type": "code",
   "execution_count": 5,
   "metadata": {},
   "outputs": [],
   "source": [
    "aqm_filtered = aqm.copy()"
   ]
  },
  {
   "cell_type": "markdown",
   "metadata": {},
   "source": [
    "Remoção de linhas com valores inválidos"
   ]
  },
  {
   "cell_type": "code",
   "execution_count": 6,
   "metadata": {},
   "outputs": [],
   "source": [
    "for index, row in aqm.iterrows():\n",
    "    if (row == -3).sum() > 0:\n",
    "        aqm_filtered.drop(index, inplace=True)"
   ]
  },
  {
   "cell_type": "markdown",
   "metadata": {},
   "source": [
    "aqm_filtered.reset_index(drop=True)"
   ]
  },
  {
   "cell_type": "code",
   "execution_count": 7,
   "metadata": {},
   "outputs": [],
   "source": [
    "aqm_filtered.set_index('time', inplace=True)\n",
    "aqm = aqm_filtered"
   ]
  },
  {
   "cell_type": "code",
   "execution_count": 8,
   "metadata": {},
   "outputs": [
    {
     "name": "stdout",
     "output_type": "stream",
     "text": [
      "(193809, 174)\n"
     ]
    }
   ],
   "source": [
    "print(aqm.shape)\n",
    "#%%\n",
    "# ## Filtro por limites físicos dos sensores\n",
    "labels =  ['co', 'so2', 'ox', 'no2']\n",
    "prefix = ['e1_', 'e2_', 'e2sp_']\n",
    "suffix = ['_ae', '_we']"
   ]
  },
  {
   "cell_type": "code",
   "execution_count": 9,
   "metadata": {},
   "outputs": [],
   "source": [
    "for label, p, s in product(labels, prefix, suffix):\n",
    "  data = aqm[p+label+s]\n",
    "  idx = (data > 6.14) | (data < 0.05)\n",
    "  data.loc[idx] = np.nan"
   ]
  },
  {
   "cell_type": "code",
   "execution_count": 10,
   "metadata": {},
   "outputs": [
    {
     "name": "stdout",
     "output_type": "stream",
     "text": [
      "(193809, 174)\n"
     ]
    }
   ],
   "source": [
    "for p in prefix:\n",
    "  data = aqm[p + 'temp']\n",
    "  idx = (data > 50) | (data <= 1)\n",
    "  data.loc[idx] = np.nan\n",
    "  \n",
    "#%%\n",
    "# ## Verificando colunas faltantes\n",
    "print(aqm.shape)\n",
    "# In[37]:"
   ]
  },
  {
   "cell_type": "markdown",
   "metadata": {},
   "source": [
    "aqm.describe()"
   ]
  },
  {
   "cell_type": "markdown",
   "metadata": {},
   "source": [
    "## Métricas de Avaliação<br>\n",
    "<br>\n",
    "* Métricas de avaliação [https://amt.copernicus.org/articles/11/291/2018/amt-11-291-2018.pdf]<br>\n",
    "1. $R^2$<br>\n",
    "<br>\n",
    "2. **Pearson r**<br>\n",
    "<br>\n",
    "3. $\\mathrm{RMSE} = \\sqrt{\\frac{\\sum_{i=1}^{N}(y_{ref} - \\hat{y})^{2})}{N}}$<br>\n",
    "<br>\n",
    "4. $\\mathrm{CvMAE} = \\frac{\\overbrace{MAE}^{\\textrm{Mean absolute error}}}{\\mu_{ref}} = \\frac{1}{\\mu_{ref}} \\frac{\\sum_{i=1}^{N}{|y_{ref} - \\hat{y}}|}{N}$<br>\n"
   ]
  },
  {
   "cell_type": "markdown",
   "metadata": {},
   "source": [
    "In[38]:"
   ]
  },
  {
   "cell_type": "code",
   "execution_count": 11,
   "metadata": {},
   "outputs": [],
   "source": [
    "def pearson_r(y, yref):\n",
    "    my = np.mean(y)\n",
    "    myref = np.mean(yref)\n",
    "    _y = y - my\n",
    "    _yref = yref - myref\n",
    "    num = np.sum(np.dot(_y, _yref))\n",
    "    den = np.sum(_y**2) * np.sum(_yref**2)\n",
    "    den = np.sqrt(den)\n",
    "    return num/den\n",
    "def mse(y, yref):\n",
    "    return np.mean(np.square(np.subtract(yref, y)))\n",
    "\n",
    "def rmse(y, yref):\n",
    "    return np.sqrt(mse(y, yref))\n",
    "\n",
    "def mae(y, yref):\n",
    "    return np.mean(np.abs(np.subtract(yref, y)))\n",
    "\n",
    "def cvmae(y, yref):\n",
    "    yref_mean = np.mean(yref)\n",
    "    return mae(y, yref) / yref_mean\n",
    "\n",
    "def exploratory_analysis(dict_data_e1, dict_data_e2, labels, latex_labels, start, end):\n",
    "    table_exploratory_analysis = {}\n",
    "    for idx, l in enumerate(labels):\n",
    "        e1 = dict_data_e1[l]\n",
    "        e2 = dict_data_e2[l]\n",
    "        concatenated = pd.concat([e1, e2], axis=1, keys=['Station 1', 'Station 2'])\n",
    "        table_exploratory_analysis[l] = describe(concatenated, ['median'], ['25%', '50%', '75%'])\n",
    "    return table_exploratory_analysis"
   ]
  },
  {
   "cell_type": "markdown",
   "metadata": {},
   "source": [
    "### Funções Gráficos<br>\n",
    "<br>\n",
    "**plot_data_by_time_and_regr_plot** gera dois gráficos, um do lado do outro. O primeiro é os dados em função do tempo e o segundo é um gráfico de dispersão entre os dois sensores"
   ]
  },
  {
   "cell_type": "markdown",
   "metadata": {},
   "source": [
    "In[40]:"
   ]
  },
  {
   "cell_type": "markdown",
   "metadata": {},
   "source": [
    "### Análise"
   ]
  },
  {
   "cell_type": "markdown",
   "metadata": {},
   "source": [
    "#### Resultados complementas:<br>\n",
    "1. Comunicação degrada a partir de 30 graus<br>\n",
    "2. Pode estar relacionada ao CI SX1276<br>\n",
    "<br>\n",
    "Ações:<br>\n",
    "Dropar toda as linhas com erro"
   ]
  },
  {
   "cell_type": "markdown",
   "metadata": {},
   "source": [
    "In[41]:"
   ]
  },
  {
   "cell_type": "markdown",
   "metadata": {},
   "source": [
    "atex_labels it is only for printing<br>\n",
    "latex_labels = ['CO', 'NO_2', 'O_X', 'SO_2', 'PM1.0', 'PM2.5', 'PM10']"
   ]
  },
  {
   "cell_type": "markdown",
   "metadata": {},
   "source": [
    "for label in labels:<br>\n",
    "  for p in preffix:<br>\n",
    "    plt.figure()"
   ]
  },
  {
   "cell_type": "code",
   "execution_count": 12,
   "metadata": {},
   "outputs": [],
   "source": [
    "    \n",
    "#     data_filtered = aqm[p+label]\n",
    "        \n",
    "#     data_temp = aqm[p+'temp']\n",
    "    \n",
    "#     data_filtered = data_filtered.dropna()\n",
    "#     data_temp = data_temp.dropna()\n",
    "    \n",
    "#     teste = pd.concat([data_filtered, data_temp], axis =1)\n",
    "    \n",
    "#     plt.gca().scatter(y = teste[p+label], x=teste[p+'temp'], marker = '.')\n",
    "#     plt.gca().set_xlabel('Temperatura')\n",
    "#     plt.gca().set_ylabel('Tensão')\n",
    "#     plt.title(label)"
   ]
  },
  {
   "cell_type": "markdown",
   "metadata": {},
   "source": [
    "    plt.show()<br>\n",
    "    print(aqm[p+label].min(), aqm[p+label].max())<br>\n",
    "%<br>\n",
    "## Checando ausência de umidade relativa"
   ]
  },
  {
   "cell_type": "code",
   "execution_count": 13,
   "metadata": {},
   "outputs": [
    {
     "name": "stdout",
     "output_type": "stream",
     "text": [
      "41828\n"
     ]
    }
   ],
   "source": [
    "pin_ur = aqm['pin_umid'].isna().sum()\n",
    "print(pin_ur)"
   ]
  },
  {
   "cell_type": "markdown",
   "metadata": {},
   "source": [
    "%<br>\n",
    "['2023-03-18 10:00:00':'2023-03-22 10:00:00']."
   ]
  },
  {
   "cell_type": "markdown",
   "metadata": {},
   "source": [
    "## Plot dos dados brutos: sensor vs. umidade relativa"
   ]
  },
  {
   "cell_type": "code",
   "execution_count": 14,
   "metadata": {},
   "outputs": [
    {
     "data": {
      "image/png": "[encoded data removed]",
      "text/plain": [
       "<Figure size 640x480 with 2 Axes>"
      ]
     },
     "metadata": {},
     "output_type": "display_data"
    }
   ],
   "source": [
    "plt.figure()\n",
    "aqm['e2sp_co_we'].plot(marker = '.', linewidth = 0.1, color = 'b')\n",
    "plt.gca().set_ylim([-0.5, 1])\n",
    "ax = plt.gca().twinx()\n",
    "aqm['pin_umid'].plot(marker = '.', linewidth = 0.1, ax = ax, color = 'r')\n",
    "ax.set_ylim([0, 99])\n",
    "# plt.gcf().autofmt_xdate()\n",
    "plt.show()"
   ]
  },
  {
   "cell_type": "markdown",
   "metadata": {},
   "source": [
    "%<br>\n",
    "mportação de modelos e métricas do scikit-learn"
   ]
  },
  {
   "cell_type": "code",
   "execution_count": 15,
   "metadata": {},
   "outputs": [],
   "source": [
    "from sklearn.linear_model import LinearRegression\n",
    "from sklearn.preprocessing import StandardScaler, MinMaxScaler, KernelCenterer,Normalizer\n",
    "from sklearn.pipeline import make_pipeline\n",
    "from sklearn.ensemble import RandomForestRegressor, AdaBoostRegressor\n",
    "from sklearn.neural_network import MLPRegressor\n",
    "from sklearn.metrics import r2_score\n",
    "from scipy.stats import uniform, randint\n",
    "from sklearn.model_selection import train_test_split, GridSearchCV, RandomizedSearchCV,\\\n",
    "                                    validation_curve, cross_val_score, \\\n",
    "                                    cross_validate, \\\n",
    "                                    RepeatedKFold, cross_val_predict, StratifiedKFold\n",
    "from sys import version"
   ]
  },
  {
   "cell_type": "markdown",
   "metadata": {},
   "source": [
    "%"
   ]
  },
  {
   "cell_type": "code",
   "execution_count": 16,
   "metadata": {},
   "outputs": [],
   "source": [
    " ## Preparo do dataset para regressão\n",
    "labels =  ['co_we', 'co_ae']\n",
    "preffix = ['e2sp_']\n",
    "label_ref= 'iag_co'"
   ]
  },
  {
   "cell_type": "code",
   "execution_count": 17,
   "metadata": {},
   "outputs": [],
   "source": [
    "df = aqm"
   ]
  },
  {
   "cell_type": "code",
   "execution_count": 18,
   "metadata": {},
   "outputs": [
    {
     "data": {
      "text/html": [
       "<div>\n",
       "<style scoped>\n",
       "    .dataframe tbody tr th:only-of-type {\n",
       "        vertical-align: middle;\n",
       "    }\n",
       "\n",
       "    .dataframe tbody tr th {\n",
       "        vertical-align: top;\n",
       "    }\n",
       "\n",
       "    .dataframe thead th {\n",
       "        text-align: right;\n",
       "    }\n",
       "</style>\n",
       "<table border=\"1\" class=\"dataframe\">\n",
       "  <thead>\n",
       "    <tr style=\"text-align: right;\">\n",
       "      <th></th>\n",
       "      <th>e2sp_co_we</th>\n",
       "      <th>e2sp_co_ae</th>\n",
       "      <th>pin_umid</th>\n",
       "      <th>iag_co</th>\n",
       "    </tr>\n",
       "    <tr>\n",
       "      <th>time</th>\n",
       "      <th></th>\n",
       "      <th></th>\n",
       "      <th></th>\n",
       "      <th></th>\n",
       "    </tr>\n",
       "  </thead>\n",
       "  <tbody>\n",
       "    <tr>\n",
       "      <th>2023-02-15 13:41:00</th>\n",
       "      <td>NaN</td>\n",
       "      <td>NaN</td>\n",
       "      <td>NaN</td>\n",
       "      <td>NaN</td>\n",
       "    </tr>\n",
       "    <tr>\n",
       "      <th>2023-02-15 13:42:00</th>\n",
       "      <td>NaN</td>\n",
       "      <td>NaN</td>\n",
       "      <td>NaN</td>\n",
       "      <td>NaN</td>\n",
       "    </tr>\n",
       "    <tr>\n",
       "      <th>2023-02-15 13:43:00</th>\n",
       "      <td>NaN</td>\n",
       "      <td>NaN</td>\n",
       "      <td>NaN</td>\n",
       "      <td>NaN</td>\n",
       "    </tr>\n",
       "    <tr>\n",
       "      <th>2023-02-15 13:44:00</th>\n",
       "      <td>NaN</td>\n",
       "      <td>NaN</td>\n",
       "      <td>NaN</td>\n",
       "      <td>NaN</td>\n",
       "    </tr>\n",
       "    <tr>\n",
       "      <th>2023-02-15 13:45:00</th>\n",
       "      <td>NaN</td>\n",
       "      <td>NaN</td>\n",
       "      <td>NaN</td>\n",
       "      <td>NaN</td>\n",
       "    </tr>\n",
       "    <tr>\n",
       "      <th>...</th>\n",
       "      <td>...</td>\n",
       "      <td>...</td>\n",
       "      <td>...</td>\n",
       "      <td>...</td>\n",
       "    </tr>\n",
       "    <tr>\n",
       "      <th>2023-06-30 15:01:00</th>\n",
       "      <td>NaN</td>\n",
       "      <td>NaN</td>\n",
       "      <td>NaN</td>\n",
       "      <td>NaN</td>\n",
       "    </tr>\n",
       "    <tr>\n",
       "      <th>2023-06-30 15:02:00</th>\n",
       "      <td>NaN</td>\n",
       "      <td>NaN</td>\n",
       "      <td>NaN</td>\n",
       "      <td>NaN</td>\n",
       "    </tr>\n",
       "    <tr>\n",
       "      <th>2023-06-30 15:03:00</th>\n",
       "      <td>NaN</td>\n",
       "      <td>NaN</td>\n",
       "      <td>NaN</td>\n",
       "      <td>NaN</td>\n",
       "    </tr>\n",
       "    <tr>\n",
       "      <th>2023-06-30 15:04:00</th>\n",
       "      <td>NaN</td>\n",
       "      <td>NaN</td>\n",
       "      <td>NaN</td>\n",
       "      <td>NaN</td>\n",
       "    </tr>\n",
       "    <tr>\n",
       "      <th>2023-06-30 15:05:00</th>\n",
       "      <td>0.438808</td>\n",
       "      <td>0.259049</td>\n",
       "      <td>NaN</td>\n",
       "      <td>NaN</td>\n",
       "    </tr>\n",
       "  </tbody>\n",
       "</table>\n",
       "<p>193809 rows × 4 columns</p>\n",
       "</div>"
      ],
      "text/plain": [
       "                     e2sp_co_we  e2sp_co_ae  pin_umid  iag_co\n",
       "time                                                         \n",
       "2023-02-15 13:41:00         NaN         NaN       NaN     NaN\n",
       "2023-02-15 13:42:00         NaN         NaN       NaN     NaN\n",
       "2023-02-15 13:43:00         NaN         NaN       NaN     NaN\n",
       "2023-02-15 13:44:00         NaN         NaN       NaN     NaN\n",
       "2023-02-15 13:45:00         NaN         NaN       NaN     NaN\n",
       "...                         ...         ...       ...     ...\n",
       "2023-06-30 15:01:00         NaN         NaN       NaN     NaN\n",
       "2023-06-30 15:02:00         NaN         NaN       NaN     NaN\n",
       "2023-06-30 15:03:00         NaN         NaN       NaN     NaN\n",
       "2023-06-30 15:04:00         NaN         NaN       NaN     NaN\n",
       "2023-06-30 15:05:00    0.438808    0.259049       NaN     NaN\n",
       "\n",
       "[193809 rows x 4 columns]"
      ]
     },
     "execution_count": 18,
     "metadata": {},
     "output_type": "execute_result"
    }
   ],
   "source": [
    "df = aqm[[preffix[0] + labels[0], preffix[0] + labels[1], 'pin_umid', label_ref]]\n",
    "df"
   ]
  },
  {
   "cell_type": "code",
   "execution_count": 19,
   "metadata": {},
   "outputs": [
    {
     "name": "stdout",
     "output_type": "stream",
     "text": [
      "(3606, 4)\n"
     ]
    },
    {
     "data": {
      "text/html": [
       "<div>\n",
       "<style scoped>\n",
       "    .dataframe tbody tr th:only-of-type {\n",
       "        vertical-align: middle;\n",
       "    }\n",
       "\n",
       "    .dataframe tbody tr th {\n",
       "        vertical-align: top;\n",
       "    }\n",
       "\n",
       "    .dataframe thead th {\n",
       "        text-align: right;\n",
       "    }\n",
       "</style>\n",
       "<table border=\"1\" class=\"dataframe\">\n",
       "  <thead>\n",
       "    <tr style=\"text-align: right;\">\n",
       "      <th></th>\n",
       "      <th>e2sp_co_we</th>\n",
       "      <th>e2sp_co_ae</th>\n",
       "      <th>pin_umid</th>\n",
       "      <th>iag_co</th>\n",
       "    </tr>\n",
       "    <tr>\n",
       "      <th>time</th>\n",
       "      <th></th>\n",
       "      <th></th>\n",
       "      <th></th>\n",
       "      <th></th>\n",
       "    </tr>\n",
       "  </thead>\n",
       "  <tbody>\n",
       "    <tr>\n",
       "      <th>2023-03-16 21:00:00</th>\n",
       "      <td>0.517687</td>\n",
       "      <td>0.527812</td>\n",
       "      <td>75.0</td>\n",
       "      <td>1.405933</td>\n",
       "    </tr>\n",
       "    <tr>\n",
       "      <th>2023-03-16 21:15:00</th>\n",
       "      <td>0.517687</td>\n",
       "      <td>0.527812</td>\n",
       "      <td>75.0</td>\n",
       "      <td>1.410133</td>\n",
       "    </tr>\n",
       "    <tr>\n",
       "      <th>2023-03-19 15:15:00</th>\n",
       "      <td>3.000000</td>\n",
       "      <td>4.000000</td>\n",
       "      <td>83.0</td>\n",
       "      <td>1.340000</td>\n",
       "    </tr>\n",
       "    <tr>\n",
       "      <th>2023-03-20 05:00:00</th>\n",
       "      <td>0.411938</td>\n",
       "      <td>0.287250</td>\n",
       "      <td>90.0</td>\n",
       "      <td>1.412533</td>\n",
       "    </tr>\n",
       "    <tr>\n",
       "      <th>2023-03-20 06:45:00</th>\n",
       "      <td>0.540187</td>\n",
       "      <td>0.288375</td>\n",
       "      <td>91.0</td>\n",
       "      <td>1.485333</td>\n",
       "    </tr>\n",
       "    <tr>\n",
       "      <th>...</th>\n",
       "      <td>...</td>\n",
       "      <td>...</td>\n",
       "      <td>...</td>\n",
       "      <td>...</td>\n",
       "    </tr>\n",
       "    <tr>\n",
       "      <th>2023-06-23 10:45:00</th>\n",
       "      <td>0.574346</td>\n",
       "      <td>0.256217</td>\n",
       "      <td>55.0</td>\n",
       "      <td>2.296733</td>\n",
       "    </tr>\n",
       "    <tr>\n",
       "      <th>2023-06-23 11:00:00</th>\n",
       "      <td>0.505305</td>\n",
       "      <td>0.253775</td>\n",
       "      <td>47.0</td>\n",
       "      <td>2.178067</td>\n",
       "    </tr>\n",
       "    <tr>\n",
       "      <th>2023-06-23 11:15:00</th>\n",
       "      <td>0.449196</td>\n",
       "      <td>0.231416</td>\n",
       "      <td>47.0</td>\n",
       "      <td>2.085533</td>\n",
       "    </tr>\n",
       "    <tr>\n",
       "      <th>2023-06-23 11:30:00</th>\n",
       "      <td>0.367782</td>\n",
       "      <td>0.238490</td>\n",
       "      <td>47.0</td>\n",
       "      <td>1.856333</td>\n",
       "    </tr>\n",
       "    <tr>\n",
       "      <th>2023-06-23 11:45:00</th>\n",
       "      <td>0.374429</td>\n",
       "      <td>0.228086</td>\n",
       "      <td>47.0</td>\n",
       "      <td>1.798200</td>\n",
       "    </tr>\n",
       "  </tbody>\n",
       "</table>\n",
       "<p>3606 rows × 4 columns</p>\n",
       "</div>"
      ],
      "text/plain": [
       "                     e2sp_co_we  e2sp_co_ae  pin_umid    iag_co\n",
       "time                                                           \n",
       "2023-03-16 21:00:00    0.517687    0.527812      75.0  1.405933\n",
       "2023-03-16 21:15:00    0.517687    0.527812      75.0  1.410133\n",
       "2023-03-19 15:15:00    3.000000    4.000000      83.0  1.340000\n",
       "2023-03-20 05:00:00    0.411938    0.287250      90.0  1.412533\n",
       "2023-03-20 06:45:00    0.540187    0.288375      91.0  1.485333\n",
       "...                         ...         ...       ...       ...\n",
       "2023-06-23 10:45:00    0.574346    0.256217      55.0  2.296733\n",
       "2023-06-23 11:00:00    0.505305    0.253775      47.0  2.178067\n",
       "2023-06-23 11:15:00    0.449196    0.231416      47.0  2.085533\n",
       "2023-06-23 11:30:00    0.367782    0.238490      47.0  1.856333\n",
       "2023-06-23 11:45:00    0.374429    0.228086      47.0  1.798200\n",
       "\n",
       "[3606 rows x 4 columns]"
      ]
     },
     "execution_count": 19,
     "metadata": {},
     "output_type": "execute_result"
    }
   ],
   "source": [
    "df.index = pd.to_datetime(df.index)\n",
    "df = df.resample('15min').mean()\n",
    "# df = df.interpolate(method = 'time', limit=5)\n",
    "df = df.dropna()\n",
    "#\n",
    "print(df.shape)\n",
    "df\n",
    "#%%"
   ]
  },
  {
   "cell_type": "markdown",
   "metadata": {},
   "source": [
    "## Cálculo da concentração em ppm com coeficientes da Alphasense"
   ]
  },
  {
   "cell_type": "code",
   "execution_count": 20,
   "metadata": {},
   "outputs": [],
   "source": [
    "co = Alphasense_Sensors(\"CO-B4\", \"162741354\")\n",
    "no2 = Alphasense_Sensors(\"NO2-B43F\", \"202742056\")\n",
    "so2 = Alphasense_Sensors(\"SO2-B4\", \"164240348\")\n",
    "ox = Alphasense_Sensors(\"OX-B431\", \"204240461\")"
   ]
  },
  {
   "cell_type": "markdown",
   "metadata": {},
   "source": [
    "to mV"
   ]
  },
  {
   "cell_type": "code",
   "execution_count": 21,
   "metadata": {},
   "outputs": [
    {
     "data": {
      "text/plain": [
       "time\n",
       "2023-03-16 21:00:00     517.687500\n",
       "2023-03-16 21:15:00     517.687500\n",
       "2023-03-19 15:15:00    3000.000000\n",
       "2023-03-20 05:00:00     411.937505\n",
       "2023-03-20 06:45:00     540.187478\n",
       "                          ...     \n",
       "2023-06-23 10:45:00     574.345976\n",
       "2023-06-23 11:00:00     505.304635\n",
       "2023-06-23 11:15:00     449.196428\n",
       "2023-06-23 11:30:00     367.782325\n",
       "2023-06-23 11:45:00     374.429435\n",
       "Name: e2sp_co_we, Length: 3606, dtype: float64"
      ]
     },
     "execution_count": 21,
     "metadata": {},
     "output_type": "execute_result"
    }
   ],
   "source": [
    "we = df[preffix[0] + labels[0]]*1000\n",
    "ae = df[preffix[0] + labels[1]]*1000\n",
    "# temp = df[preffix[0] + 'temp']\n",
    "# ppb, _ , _ , _ = co.all_algorithms(we, ae, temp.to_numpy())\n",
    "we"
   ]
  },
  {
   "cell_type": "code",
   "execution_count": 22,
   "metadata": {},
   "outputs": [],
   "source": [
    "ppb = ((we - co.electronic_we) - (ae - co.electronic_ae))/co.sensitivity"
   ]
  },
  {
   "cell_type": "code",
   "execution_count": 23,
   "metadata": {},
   "outputs": [
    {
     "data": {
      "text/html": [
       "<div>\n",
       "<style scoped>\n",
       "    .dataframe tbody tr th:only-of-type {\n",
       "        vertical-align: middle;\n",
       "    }\n",
       "\n",
       "    .dataframe tbody tr th {\n",
       "        vertical-align: top;\n",
       "    }\n",
       "\n",
       "    .dataframe thead th {\n",
       "        text-align: right;\n",
       "    }\n",
       "</style>\n",
       "<table border=\"1\" class=\"dataframe\">\n",
       "  <thead>\n",
       "    <tr style=\"text-align: right;\">\n",
       "      <th></th>\n",
       "      <th>e2sp_co_we</th>\n",
       "      <th>e2sp_co_ae</th>\n",
       "      <th>pin_umid</th>\n",
       "      <th>iag_co</th>\n",
       "      <th>e2sp_co</th>\n",
       "    </tr>\n",
       "    <tr>\n",
       "      <th>time</th>\n",
       "      <th></th>\n",
       "      <th></th>\n",
       "      <th></th>\n",
       "      <th></th>\n",
       "      <th></th>\n",
       "    </tr>\n",
       "  </thead>\n",
       "  <tbody>\n",
       "    <tr>\n",
       "      <th>2023-03-16 21:00:00</th>\n",
       "      <td>0.517687</td>\n",
       "      <td>0.527812</td>\n",
       "      <td>75.0</td>\n",
       "      <td>1.405933</td>\n",
       "      <td>-0.061581</td>\n",
       "    </tr>\n",
       "    <tr>\n",
       "      <th>2023-03-16 21:15:00</th>\n",
       "      <td>0.517687</td>\n",
       "      <td>0.527812</td>\n",
       "      <td>75.0</td>\n",
       "      <td>1.410133</td>\n",
       "      <td>-0.061581</td>\n",
       "    </tr>\n",
       "    <tr>\n",
       "      <th>2023-03-19 15:15:00</th>\n",
       "      <td>3.000000</td>\n",
       "      <td>4.000000</td>\n",
       "      <td>83.0</td>\n",
       "      <td>1.340000</td>\n",
       "      <td>-2.487745</td>\n",
       "    </tr>\n",
       "    <tr>\n",
       "      <th>2023-03-20 05:00:00</th>\n",
       "      <td>0.411938</td>\n",
       "      <td>0.287250</td>\n",
       "      <td>90.0</td>\n",
       "      <td>1.412533</td>\n",
       "      <td>0.268842</td>\n",
       "    </tr>\n",
       "    <tr>\n",
       "      <th>2023-03-20 06:45:00</th>\n",
       "      <td>0.540187</td>\n",
       "      <td>0.288375</td>\n",
       "      <td>91.0</td>\n",
       "      <td>1.485333</td>\n",
       "      <td>0.580423</td>\n",
       "    </tr>\n",
       "    <tr>\n",
       "      <th>...</th>\n",
       "      <td>...</td>\n",
       "      <td>...</td>\n",
       "      <td>...</td>\n",
       "      <td>...</td>\n",
       "      <td>...</td>\n",
       "    </tr>\n",
       "    <tr>\n",
       "      <th>2023-06-23 10:45:00</th>\n",
       "      <td>0.574346</td>\n",
       "      <td>0.256217</td>\n",
       "      <td>55.0</td>\n",
       "      <td>2.296733</td>\n",
       "      <td>0.742963</td>\n",
       "    </tr>\n",
       "    <tr>\n",
       "      <th>2023-06-23 11:00:00</th>\n",
       "      <td>0.505305</td>\n",
       "      <td>0.253775</td>\n",
       "      <td>47.0</td>\n",
       "      <td>2.178067</td>\n",
       "      <td>0.579730</td>\n",
       "    </tr>\n",
       "    <tr>\n",
       "      <th>2023-06-23 11:15:00</th>\n",
       "      <td>0.449196</td>\n",
       "      <td>0.231416</td>\n",
       "      <td>47.0</td>\n",
       "      <td>2.085533</td>\n",
       "      <td>0.497010</td>\n",
       "    </tr>\n",
       "    <tr>\n",
       "      <th>2023-06-23 11:30:00</th>\n",
       "      <td>0.367782</td>\n",
       "      <td>0.238490</td>\n",
       "      <td>47.0</td>\n",
       "      <td>1.856333</td>\n",
       "      <td>0.280129</td>\n",
       "    </tr>\n",
       "    <tr>\n",
       "      <th>2023-06-23 11:45:00</th>\n",
       "      <td>0.374429</td>\n",
       "      <td>0.228086</td>\n",
       "      <td>47.0</td>\n",
       "      <td>1.798200</td>\n",
       "      <td>0.321921</td>\n",
       "    </tr>\n",
       "  </tbody>\n",
       "</table>\n",
       "<p>3606 rows × 5 columns</p>\n",
       "</div>"
      ],
      "text/plain": [
       "                     e2sp_co_we  e2sp_co_ae  pin_umid    iag_co   e2sp_co\n",
       "time                                                                     \n",
       "2023-03-16 21:00:00    0.517687    0.527812      75.0  1.405933 -0.061581\n",
       "2023-03-16 21:15:00    0.517687    0.527812      75.0  1.410133 -0.061581\n",
       "2023-03-19 15:15:00    3.000000    4.000000      83.0  1.340000 -2.487745\n",
       "2023-03-20 05:00:00    0.411938    0.287250      90.0  1.412533  0.268842\n",
       "2023-03-20 06:45:00    0.540187    0.288375      91.0  1.485333  0.580423\n",
       "...                         ...         ...       ...       ...       ...\n",
       "2023-06-23 10:45:00    0.574346    0.256217      55.0  2.296733  0.742963\n",
       "2023-06-23 11:00:00    0.505305    0.253775      47.0  2.178067  0.579730\n",
       "2023-06-23 11:15:00    0.449196    0.231416      47.0  2.085533  0.497010\n",
       "2023-06-23 11:30:00    0.367782    0.238490      47.0  1.856333  0.280129\n",
       "2023-06-23 11:45:00    0.374429    0.228086      47.0  1.798200  0.321921\n",
       "\n",
       "[3606 rows x 5 columns]"
      ]
     },
     "execution_count": 23,
     "metadata": {},
     "output_type": "execute_result"
    }
   ],
   "source": [
    "df[preffix[0] + 'co'] = ppb / 1000\n",
    "df[preffix[0] + 'co']\n",
    "df\n"
   ]
  },
  {
   "cell_type": "markdown",
   "metadata": {},
   "source": [
    "plt.plot(ppb)<br>\n",
    "print(df.iloc[0])<br>\n",
    "print(co.all_algorithms(0.46, 0.3, np.array(29.2)))"
   ]
  },
  {
   "cell_type": "markdown",
   "metadata": {},
   "source": [
    "%<br>\n",
    "## Preparação de features (X) e target (Y)"
   ]
  },
  {
   "cell_type": "code",
   "execution_count": 24,
   "metadata": {},
   "outputs": [
    {
     "data": {
      "text/plain": [
       "time\n",
       "2023-03-16 21:00:00    1.405933\n",
       "2023-03-16 21:15:00    1.410133\n",
       "2023-03-19 15:15:00    1.340000\n",
       "2023-03-20 05:00:00    1.412533\n",
       "2023-03-20 06:45:00    1.485333\n",
       "                         ...   \n",
       "2023-06-23 10:45:00    2.296733\n",
       "2023-06-23 11:00:00    2.178067\n",
       "2023-06-23 11:15:00    2.085533\n",
       "2023-06-23 11:30:00    1.856333\n",
       "2023-06-23 11:45:00    1.798200\n",
       "Name: iag_co, Length: 3606, dtype: float64"
      ]
     },
     "execution_count": 24,
     "metadata": {},
     "output_type": "execute_result"
    }
   ],
   "source": [
    "Yco = df[label_ref]\n",
    "Yco"
   ]
  },
  {
   "cell_type": "code",
   "execution_count": 25,
   "metadata": {},
   "outputs": [
    {
     "data": {
      "text/html": [
       "<div>\n",
       "<style scoped>\n",
       "    .dataframe tbody tr th:only-of-type {\n",
       "        vertical-align: middle;\n",
       "    }\n",
       "\n",
       "    .dataframe tbody tr th {\n",
       "        vertical-align: top;\n",
       "    }\n",
       "\n",
       "    .dataframe thead th {\n",
       "        text-align: right;\n",
       "    }\n",
       "</style>\n",
       "<table border=\"1\" class=\"dataframe\">\n",
       "  <thead>\n",
       "    <tr style=\"text-align: right;\">\n",
       "      <th></th>\n",
       "      <th>e2sp_co</th>\n",
       "      <th>e2sp_co_we</th>\n",
       "      <th>e2sp_co_ae</th>\n",
       "      <th>pin_umid</th>\n",
       "    </tr>\n",
       "    <tr>\n",
       "      <th>time</th>\n",
       "      <th></th>\n",
       "      <th></th>\n",
       "      <th></th>\n",
       "      <th></th>\n",
       "    </tr>\n",
       "  </thead>\n",
       "  <tbody>\n",
       "    <tr>\n",
       "      <th>2023-03-16 21:00:00</th>\n",
       "      <td>-0.061581</td>\n",
       "      <td>0.517687</td>\n",
       "      <td>0.527812</td>\n",
       "      <td>75.0</td>\n",
       "    </tr>\n",
       "    <tr>\n",
       "      <th>2023-03-16 21:15:00</th>\n",
       "      <td>-0.061581</td>\n",
       "      <td>0.517687</td>\n",
       "      <td>0.527812</td>\n",
       "      <td>75.0</td>\n",
       "    </tr>\n",
       "    <tr>\n",
       "      <th>2023-03-19 15:15:00</th>\n",
       "      <td>-2.487745</td>\n",
       "      <td>3.000000</td>\n",
       "      <td>4.000000</td>\n",
       "      <td>83.0</td>\n",
       "    </tr>\n",
       "    <tr>\n",
       "      <th>2023-03-20 05:00:00</th>\n",
       "      <td>0.268842</td>\n",
       "      <td>0.411938</td>\n",
       "      <td>0.287250</td>\n",
       "      <td>90.0</td>\n",
       "    </tr>\n",
       "    <tr>\n",
       "      <th>2023-03-20 06:45:00</th>\n",
       "      <td>0.580423</td>\n",
       "      <td>0.540187</td>\n",
       "      <td>0.288375</td>\n",
       "      <td>91.0</td>\n",
       "    </tr>\n",
       "    <tr>\n",
       "      <th>...</th>\n",
       "      <td>...</td>\n",
       "      <td>...</td>\n",
       "      <td>...</td>\n",
       "      <td>...</td>\n",
       "    </tr>\n",
       "    <tr>\n",
       "      <th>2023-06-23 10:45:00</th>\n",
       "      <td>0.742963</td>\n",
       "      <td>0.574346</td>\n",
       "      <td>0.256217</td>\n",
       "      <td>55.0</td>\n",
       "    </tr>\n",
       "    <tr>\n",
       "      <th>2023-06-23 11:00:00</th>\n",
       "      <td>0.579730</td>\n",
       "      <td>0.505305</td>\n",
       "      <td>0.253775</td>\n",
       "      <td>47.0</td>\n",
       "    </tr>\n",
       "    <tr>\n",
       "      <th>2023-06-23 11:15:00</th>\n",
       "      <td>0.497010</td>\n",
       "      <td>0.449196</td>\n",
       "      <td>0.231416</td>\n",
       "      <td>47.0</td>\n",
       "    </tr>\n",
       "    <tr>\n",
       "      <th>2023-06-23 11:30:00</th>\n",
       "      <td>0.280129</td>\n",
       "      <td>0.367782</td>\n",
       "      <td>0.238490</td>\n",
       "      <td>47.0</td>\n",
       "    </tr>\n",
       "    <tr>\n",
       "      <th>2023-06-23 11:45:00</th>\n",
       "      <td>0.321921</td>\n",
       "      <td>0.374429</td>\n",
       "      <td>0.228086</td>\n",
       "      <td>47.0</td>\n",
       "    </tr>\n",
       "  </tbody>\n",
       "</table>\n",
       "<p>3606 rows × 4 columns</p>\n",
       "</div>"
      ],
      "text/plain": [
       "                      e2sp_co  e2sp_co_we  e2sp_co_ae  pin_umid\n",
       "time                                                           \n",
       "2023-03-16 21:00:00 -0.061581    0.517687    0.527812      75.0\n",
       "2023-03-16 21:15:00 -0.061581    0.517687    0.527812      75.0\n",
       "2023-03-19 15:15:00 -2.487745    3.000000    4.000000      83.0\n",
       "2023-03-20 05:00:00  0.268842    0.411938    0.287250      90.0\n",
       "2023-03-20 06:45:00  0.580423    0.540187    0.288375      91.0\n",
       "...                       ...         ...         ...       ...\n",
       "2023-06-23 10:45:00  0.742963    0.574346    0.256217      55.0\n",
       "2023-06-23 11:00:00  0.579730    0.505305    0.253775      47.0\n",
       "2023-06-23 11:15:00  0.497010    0.449196    0.231416      47.0\n",
       "2023-06-23 11:30:00  0.280129    0.367782    0.238490      47.0\n",
       "2023-06-23 11:45:00  0.321921    0.374429    0.228086      47.0\n",
       "\n",
       "[3606 rows x 4 columns]"
      ]
     },
     "execution_count": 25,
     "metadata": {},
     "output_type": "execute_result"
    }
   ],
   "source": [
    "Xco = df.loc[Yco.index][[preffix[0] + 'co', preffix[0] + 'co_we',preffix[0] + 'co_ae', 'pin_umid']]\n",
    "Xco"
   ]
  },
  {
   "cell_type": "markdown",
   "metadata": {},
   "source": [
    "### TREINAMENTO COM DADOS DA ESTAÇÃO GRAFANA"
   ]
  },
  {
   "cell_type": "code",
   "execution_count": 25,
   "metadata": {},
   "outputs": [],
   "source": [
    "def pearson_r(y, yref):\n",
    "    my = np.mean(y)\n",
    "    myref = np.mean(yref)\n",
    "    _y = y - my\n",
    "    _yref = yref - myref\n",
    "    num = np.sum(np.dot(_y, _yref))\n",
    "    den = np.sum(_y**2) * np.sum(_yref**2)\n",
    "    den = np.sqrt(den)\n",
    "    return num/den\n",
    "def mse(y, yref):\n",
    "    return np.mean(np.square(np.subtract(yref, y)))\n",
    "\n",
    "def rmse(y, yref):\n",
    "    return np.sqrt(mse(y, yref))\n",
    "\n",
    "def mae(y, yref):\n",
    "    return np.mean(np.abs(np.subtract(yref, y)))\n",
    "\n",
    "def cvmae(y, yref):\n",
    "    yref_mean = np.mean(yref)\n",
    "    return mae(y, yref) / yref_mean\n",
    "\n",
    "def exploratory_analysis(dict_data_e1, dict_data_e2, labels, latex_labels, start, end):\n",
    "    table_exploratory_analysis = {}\n",
    "    for idx, l in enumerate(labels):\n",
    "        e1 = dict_data_e1[l]\n",
    "        e2 = dict_data_e2[l]\n",
    "        concatenated = pd.concat([e1, e2], axis=1, keys=['Station 1', 'Station 2'])\n",
    "        table_exploratory_analysis[l] = describe(concatenated, ['median'], ['25%', '50%', '75%'])\n",
    "    return table_exploratory_analysis"
   ]
  },
  {
   "cell_type": "code",
   "execution_count": 1,
   "metadata": {},
   "outputs": [
    {
     "data": {
      "text/html": [
       "<div>\n",
       "<style scoped>\n",
       "    .dataframe tbody tr th:only-of-type {\n",
       "        vertical-align: middle;\n",
       "    }\n",
       "\n",
       "    .dataframe tbody tr th {\n",
       "        vertical-align: top;\n",
       "    }\n",
       "\n",
       "    .dataframe thead th {\n",
       "        text-align: right;\n",
       "    }\n",
       "</style>\n",
       "<table border=\"1\" class=\"dataframe\">\n",
       "  <thead>\n",
       "    <tr style=\"text-align: right;\">\n",
       "      <th></th>\n",
       "      <th>time</th>\n",
       "      <th>CO</th>\n",
       "      <th>CO_AE</th>\n",
       "      <th>CO_WE</th>\n",
       "      <th>temperatura</th>\n",
       "    </tr>\n",
       "  </thead>\n",
       "  <tbody>\n",
       "    <tr>\n",
       "      <th>0</th>\n",
       "      <td>2025-03-07 13:22:32</td>\n",
       "      <td>929.284785</td>\n",
       "      <td>0.533</td>\n",
       "      <td>0.520</td>\n",
       "      <td>29.2</td>\n",
       "    </tr>\n",
       "    <tr>\n",
       "      <th>1</th>\n",
       "      <td>2025-03-07 13:23:38</td>\n",
       "      <td>929.298999</td>\n",
       "      <td>0.531</td>\n",
       "      <td>0.520</td>\n",
       "      <td>29.2</td>\n",
       "    </tr>\n",
       "    <tr>\n",
       "      <th>2</th>\n",
       "      <td>2025-03-07 13:26:57</td>\n",
       "      <td>929.331408</td>\n",
       "      <td>0.527</td>\n",
       "      <td>0.524</td>\n",
       "      <td>29.3</td>\n",
       "    </tr>\n",
       "    <tr>\n",
       "      <th>3</th>\n",
       "      <td>2025-03-07 13:30:16</td>\n",
       "      <td>929.242062</td>\n",
       "      <td>0.540</td>\n",
       "      <td>0.517</td>\n",
       "      <td>29.4</td>\n",
       "    </tr>\n",
       "    <tr>\n",
       "      <th>4</th>\n",
       "      <td>2025-03-07 13:33:35</td>\n",
       "      <td>929.162088</td>\n",
       "      <td>0.549</td>\n",
       "      <td>0.505</td>\n",
       "      <td>29.4</td>\n",
       "    </tr>\n",
       "    <tr>\n",
       "      <th>...</th>\n",
       "      <td>...</td>\n",
       "      <td>...</td>\n",
       "      <td>...</td>\n",
       "      <td>...</td>\n",
       "      <td>...</td>\n",
       "    </tr>\n",
       "    <tr>\n",
       "      <th>144218</th>\n",
       "      <td>2025-06-16 19:43:31</td>\n",
       "      <td>1829.584450</td>\n",
       "      <td>0.546</td>\n",
       "      <td>0.538</td>\n",
       "      <td>23.9</td>\n",
       "    </tr>\n",
       "    <tr>\n",
       "      <th>144219</th>\n",
       "      <td>2025-06-16 19:43:31</td>\n",
       "      <td>1829.584450</td>\n",
       "      <td>0.546</td>\n",
       "      <td>0.538</td>\n",
       "      <td>23.9</td>\n",
       "    </tr>\n",
       "    <tr>\n",
       "      <th>144220</th>\n",
       "      <td>2025-06-16 19:43:31</td>\n",
       "      <td>1829.584450</td>\n",
       "      <td>0.546</td>\n",
       "      <td>0.538</td>\n",
       "      <td>23.9</td>\n",
       "    </tr>\n",
       "    <tr>\n",
       "      <th>144221</th>\n",
       "      <td>2025-06-16 19:43:31</td>\n",
       "      <td>1829.584450</td>\n",
       "      <td>0.546</td>\n",
       "      <td>0.538</td>\n",
       "      <td>23.9</td>\n",
       "    </tr>\n",
       "    <tr>\n",
       "      <th>144222</th>\n",
       "      <td>2025-06-16 19:43:31</td>\n",
       "      <td>1829.584450</td>\n",
       "      <td>0.546</td>\n",
       "      <td>0.538</td>\n",
       "      <td>23.9</td>\n",
       "    </tr>\n",
       "  </tbody>\n",
       "</table>\n",
       "<p>144221 rows × 5 columns</p>\n",
       "</div>"
      ],
      "text/plain": [
       "                      time           CO  CO_AE  CO_WE temperatura\n",
       "0      2025-03-07 13:22:32   929.284785  0.533  0.520        29.2\n",
       "1      2025-03-07 13:23:38   929.298999  0.531  0.520        29.2\n",
       "2      2025-03-07 13:26:57   929.331408  0.527  0.524        29.3\n",
       "3      2025-03-07 13:30:16   929.242062  0.540  0.517        29.4\n",
       "4      2025-03-07 13:33:35   929.162088  0.549  0.505        29.4\n",
       "...                    ...          ...    ...    ...         ...\n",
       "144218 2025-06-16 19:43:31  1829.584450  0.546  0.538        23.9\n",
       "144219 2025-06-16 19:43:31  1829.584450  0.546  0.538        23.9\n",
       "144220 2025-06-16 19:43:31  1829.584450  0.546  0.538        23.9\n",
       "144221 2025-06-16 19:43:31  1829.584450  0.546  0.538        23.9\n",
       "144222 2025-06-16 19:43:31  1829.584450  0.546  0.538        23.9\n",
       "\n",
       "[144221 rows x 5 columns]"
      ]
     },
     "execution_count": 1,
     "metadata": {},
     "output_type": "execute_result"
    }
   ],
   "source": [
    "import numpy as np\n",
    "import seaborn as sns\n",
    "import matplotlib.pyplot as plt\n",
    "import pandas as pd\n",
    "from envcity_plot_lib import *\n",
    "from alphasense_b_sensors.alphasense_sensors import *\n",
    "from itertools import product\n",
    "\n",
    "\n",
    "#Leitura da base de dados da estação grafana com os dados de CO\n",
    "df_ae = pd.read_csv(\"co_ae.csv\")\n",
    "df_we = pd.read_csv(\"co_we.csv\")\n",
    "df_temp = pd.read_csv(\"temperatura.csv\") #df da temperatura\n",
    "df_bestCO = pd.read_csv('best-co.csv')\n",
    "\n",
    "df_temp.columns = ['time', 'temperatura']\n",
    "df_bestCO['time'] = pd.to_datetime(df_bestCO['time'], unit='ms')\n",
    "\n",
    "# #padronizando time nas tabelas\n",
    "df_bestCO['time'] = pd.to_datetime(df_bestCO['time'], unit='ms').dt.round('1s')\n",
    "df_ae['time'] = pd.to_datetime(df_ae['time']).dt.round('1s')\n",
    "df_we['time'] = pd.to_datetime(df_we['time']).dt.round('1s')\n",
    "df_temp['time'] = pd.to_datetime(df_temp['time']).dt.round('1s')\n",
    "\n",
    "# #Limpeza das colunas de AE e WE (remover \" ppb\" e converter para float)\n",
    "df_ae['CO_AE'] = df_ae['CO_AE'].str.replace(' ppb', '', regex=False).astype(float)\n",
    "df_we['CO_WE'] = df_we['CO_WE'].str.replace(' ppb', '', regex=False).astype(float)\n",
    "df_temp['temperatura'] = df_temp['temperatura'].str.replace(' °C', '', regex=False) #eliminando strings\n",
    "\n",
    "# #Mesclagem com base na coluna 'time'\n",
    "df = df_bestCO.merge(df_ae, on='time', how='inner') \\\n",
    "              .merge(df_we, on='time', how='inner') \\\n",
    "              .merge(df_temp, on='time', how='inner')\n",
    "\n",
    "df = df.dropna()\n",
    "df\n"
   ]
  },
  {
   "cell_type": "code",
   "execution_count": 2,
   "metadata": {},
   "outputs": [
    {
     "name": "stdout",
     "output_type": "stream",
     "text": [
      "e1_anem_volt\n",
      "e1_anem\n",
      "e2_anem_volt\n",
      "e2_anem\n",
      "e2sp_anem_volt\n",
      "e2sp_anem\n",
      "(193809, 174)\n"
     ]
    }
   ],
   "source": [
    "#tratando df principal\n",
    "aqm = pd.read_csv('envcity_aqm_df.csv')\n",
    "\n",
    "\n",
    "for label, p, s in product(['anem'], ['e1_', 'e2_', 'e2sp_'], ['_volt', '']):\n",
    "    print(p + label+s)\n",
    "    try:\n",
    "        aqm.drop(labels = p + label + s, axis = 1,inplace=True)\n",
    "    except:\n",
    "        print('err')\n",
    "\n",
    "\n",
    "aqm_filtered = aqm.copy()\n",
    "\n",
    "for index, row in aqm.iterrows():\n",
    "    if (row == -3).sum() > 0:\n",
    "        aqm_filtered.drop(index, inplace=True)\n",
    "\n",
    "\n",
    "\n",
    "aqm_filtered.set_index('time', inplace=True)\n",
    "aqm = aqm_filtered\n",
    "\n",
    "labels =  ['co', 'so2', 'ox', 'no2']\n",
    "prefix = ['e1_', 'e2_', 'e2sp_']\n",
    "suffix = ['_ae', '_we']\n",
    "\n",
    "\n",
    "\n",
    "for label, p, s in product(labels, prefix, suffix):\n",
    "  data = aqm[p+label+s]\n",
    "  idx = (data > 6.14) | (data < 0.05)\n",
    "  data.loc[idx] = np.nan\n",
    "\n",
    "for p in prefix:\n",
    "  data = aqm[p + 'temp']\n",
    "  idx = (data > 50) | (data <= 1)\n",
    "  data.loc[idx] = np.nan\n",
    "  \n",
    "#%%\n",
    "# ## Verificando colunas faltantes\n",
    "print(aqm.shape)\n"
   ]
  },
  {
   "cell_type": "code",
   "execution_count": 27,
   "metadata": {},
   "outputs": [
    {
     "name": "stdout",
     "output_type": "stream",
     "text": [
      "['e1_co', 'e1_co_2', 'e1_co_3', 'e1_co_4', 'e1_co_ae', 'e1_co_we', 'e1_location', 'e1_no2', 'e1_no2_2', 'e1_no2_3', 'e1_no2_4', 'e1_no2_ae', 'e1_no2_we', 'e1_ox', 'e1_ox_2', 'e1_ox_3', 'e1_ox_4', 'e1_ox_ae', 'e1_ox_we', 'e1_pm10', 'e1_pm1_0', 'e1_pm2_5', 'e1_rssi', 'e1_snr', 'e1_so2', 'e1_so2_2', 'e1_so2_3', 'e1_so2_4', 'e1_so2_ae', 'e1_so2_we', 'e1_temp', 'e1_umid', 'e2_application_id', 'e2_co', 'e2_co_2', 'e2_co_3', 'e2_co_4', 'e2_co_ae', 'e2_co_we', 'e2_device_id', 'e2_eu', 'e2_fcnt', 'e2_field1', 'e2_field2', 'e2_field3', 'e2_field4', 'e2_field5', 'e2_field6', 'e2_field7', 'e2_field8', 'e2_fport', 'e2_frequency', 'e2_frm_payload', 'e2_gateway_eui', 'e2_gateway_location', 'e2_lora_bandwidth', 'e2_lora_coding_rate', 'e2_lora_spreading_factor', 'e2_no2', 'e2_no2_2', 'e2_no2_3', 'e2_no2_4', 'e2_no2_ae', 'e2_no2_we', 'e2_ox', 'e2_ox_2', 'e2_ox_3', 'e2_ox_4', 'e2_ox_ae', 'e2_ox_we', 'e2_payload', 'e2_pm10', 'e2_pm1_0', 'e2_pm2_5', 'e2_rssi', 'e2_snr', 'e2_so2', 'e2_so2_2', 'e2_so2_3', 'e2_so2_4', 'e2_so2_ae', 'e2_so2_we', 'e2_temp', 'e2_time', 'e2_timestamp', 'e2_umid', 'e2sp_co', 'e2sp_co_2', 'e2sp_co_3', 'e2sp_co_4', 'e2sp_co_ae', 'e2sp_co_we', 'e2sp_counter_up', 'e2sp_datarate', 'e2sp_delay', 'e2sp_duplicate', 'e2sp_encrypted_payload', 'e2sp_fport', 'e2sp_freq', 'e2sp_gateway', 'e2sp_gps_alt', 'e2sp_gps_location', 'e2sp_gps_time', 'e2sp_hardware_chain', 'e2sp_hardware_channel', 'e2sp_hardware_rssi', 'e2sp_hardware_snr', 'e2sp_hardware_status', 'e2sp_hardware_tmst', 'e2sp_header_ack', 'e2sp_header_adr', 'e2sp_header_adr_ack_req', 'e2sp_header_class_b', 'e2sp_header_confirmed', 'e2sp_header_type', 'e2sp_header_version', 'e2sp_location', 'e2sp_modulation_bandwidth', 'e2sp_modulation_coderate', 'e2sp_modulation_spreading', 'e2sp_modulation_type', 'e2sp_no2', 'e2sp_no2_2', 'e2sp_no2_3', 'e2sp_no2_4', 'e2sp_no2_ae', 'e2sp_no2_we', 'e2sp_ox', 'e2sp_ox_2', 'e2sp_ox_3', 'e2sp_ox_4', 'e2sp_ox_ae', 'e2sp_ox_we', 'e2sp_packet_id', 'e2sp_payload', 'e2sp_pm1', 'e2sp_pm10', 'e2sp_pm1_0', 'e2sp_pm2_5', 'e2sp_port', 'e2sp_rssi', 'e2sp_rx_time', 'e2sp_size', 'e2sp_snr', 'e2sp_so2', 'e2sp_so2_2', 'e2sp_so2_3', 'e2sp_so2_4', 'e2sp_so2_ae', 'e2sp_so2_we', 'e2sp_temp', 'e2sp_time', 'e2sp_umid', 'iag_ambienttemp', 'iag_ch4', 'iag_co', 'iag_hct', 'iag_internalrh', 'iag_internaltemp', 'iag_no', 'iag_no2', 'iag_nox', 'iag_o3', 'iag_pm10', 'iag_pm25', 'iag_pmcoarse', 'iag_pressure', 'iag_rainfalltotal', 'iag_sigma', 'iag_so2', 'iag_solarradiation', 'iag_wd', 'iag_ws', 'pin_umid']\n"
     ]
    }
   ],
   "source": [
    "print(aqm.columns.tolist())"
   ]
  },
  {
   "cell_type": "code",
   "execution_count": 3,
   "metadata": {},
   "outputs": [
    {
     "data": {
      "text/html": [
       "<div>\n",
       "<style scoped>\n",
       "    .dataframe tbody tr th:only-of-type {\n",
       "        vertical-align: middle;\n",
       "    }\n",
       "\n",
       "    .dataframe tbody tr th {\n",
       "        vertical-align: top;\n",
       "    }\n",
       "\n",
       "    .dataframe thead th {\n",
       "        text-align: right;\n",
       "    }\n",
       "</style>\n",
       "<table border=\"1\" class=\"dataframe\">\n",
       "  <thead>\n",
       "    <tr style=\"text-align: right;\">\n",
       "      <th></th>\n",
       "      <th>e1_co</th>\n",
       "      <th>iag_co</th>\n",
       "    </tr>\n",
       "    <tr>\n",
       "      <th>time</th>\n",
       "      <th></th>\n",
       "      <th></th>\n",
       "    </tr>\n",
       "  </thead>\n",
       "  <tbody>\n",
       "    <tr>\n",
       "      <th>2023-03-16 00:00:00</th>\n",
       "      <td>374.827820</td>\n",
       "      <td>1.378</td>\n",
       "    </tr>\n",
       "    <tr>\n",
       "      <th>2023-03-16 00:04:00</th>\n",
       "      <td>383.092285</td>\n",
       "      <td>1.400</td>\n",
       "    </tr>\n",
       "    <tr>\n",
       "      <th>2023-03-16 00:08:00</th>\n",
       "      <td>391.873291</td>\n",
       "      <td>1.420</td>\n",
       "    </tr>\n",
       "    <tr>\n",
       "      <th>2023-03-16 00:12:00</th>\n",
       "      <td>366.046844</td>\n",
       "      <td>1.370</td>\n",
       "    </tr>\n",
       "    <tr>\n",
       "      <th>2023-03-16 00:15:00</th>\n",
       "      <td>374.311310</td>\n",
       "      <td>1.363</td>\n",
       "    </tr>\n",
       "    <tr>\n",
       "      <th>...</th>\n",
       "      <td>...</td>\n",
       "      <td>...</td>\n",
       "    </tr>\n",
       "    <tr>\n",
       "      <th>2023-05-19 19:36:00</th>\n",
       "      <td>672.864990</td>\n",
       "      <td>1.726</td>\n",
       "    </tr>\n",
       "    <tr>\n",
       "      <th>2023-05-19 19:40:00</th>\n",
       "      <td>701.274170</td>\n",
       "      <td>1.695</td>\n",
       "    </tr>\n",
       "    <tr>\n",
       "      <th>2023-05-19 19:44:00</th>\n",
       "      <td>771.005676</td>\n",
       "      <td>1.722</td>\n",
       "    </tr>\n",
       "    <tr>\n",
       "      <th>2023-05-19 19:48:00</th>\n",
       "      <td>702.823792</td>\n",
       "      <td>1.728</td>\n",
       "    </tr>\n",
       "    <tr>\n",
       "      <th>2023-05-19 19:51:00</th>\n",
       "      <td>728.650146</td>\n",
       "      <td>1.745</td>\n",
       "    </tr>\n",
       "  </tbody>\n",
       "</table>\n",
       "<p>22153 rows × 2 columns</p>\n",
       "</div>"
      ],
      "text/plain": [
       "                          e1_co  iag_co\n",
       "time                                   \n",
       "2023-03-16 00:00:00  374.827820   1.378\n",
       "2023-03-16 00:04:00  383.092285   1.400\n",
       "2023-03-16 00:08:00  391.873291   1.420\n",
       "2023-03-16 00:12:00  366.046844   1.370\n",
       "2023-03-16 00:15:00  374.311310   1.363\n",
       "...                         ...     ...\n",
       "2023-05-19 19:36:00  672.864990   1.726\n",
       "2023-05-19 19:40:00  701.274170   1.695\n",
       "2023-05-19 19:44:00  771.005676   1.722\n",
       "2023-05-19 19:48:00  702.823792   1.728\n",
       "2023-05-19 19:51:00  728.650146   1.745\n",
       "\n",
       "[22153 rows x 2 columns]"
      ]
     },
     "execution_count": 3,
     "metadata": {},
     "output_type": "execute_result"
    }
   ],
   "source": [
    "#fazendo filtragem do IAG\n",
    "\n",
    "\n",
    "#filtrando as linhas onde e1_co tem valores válidos\n",
    "df_filtrado = aqm[aqm['e1_co'].notna()][['e1_co', 'iag_co']]\n",
    "\n",
    "#remover linhas onde iag_co é NaN\n",
    "df_filtradoIAG = df_filtrado[df_filtrado['iag_co'].notna()]\n",
    "\n",
    "df_filtradoIAG "
   ]
  },
  {
   "cell_type": "code",
   "execution_count": 4,
   "metadata": {},
   "outputs": [
    {
     "data": {
      "text/html": [
       "<div>\n",
       "<style scoped>\n",
       "    .dataframe tbody tr th:only-of-type {\n",
       "        vertical-align: middle;\n",
       "    }\n",
       "\n",
       "    .dataframe tbody tr th {\n",
       "        vertical-align: top;\n",
       "    }\n",
       "\n",
       "    .dataframe thead th {\n",
       "        text-align: right;\n",
       "    }\n",
       "</style>\n",
       "<table border=\"1\" class=\"dataframe\">\n",
       "  <thead>\n",
       "    <tr style=\"text-align: right;\">\n",
       "      <th></th>\n",
       "      <th>CO</th>\n",
       "      <th>CO_AE</th>\n",
       "      <th>CO_WE</th>\n",
       "      <th>temperatura</th>\n",
       "    </tr>\n",
       "  </thead>\n",
       "  <tbody>\n",
       "    <tr>\n",
       "      <th>0</th>\n",
       "      <td>929.284785</td>\n",
       "      <td>0.533</td>\n",
       "      <td>0.520</td>\n",
       "      <td>29.2</td>\n",
       "    </tr>\n",
       "    <tr>\n",
       "      <th>1</th>\n",
       "      <td>929.298999</td>\n",
       "      <td>0.531</td>\n",
       "      <td>0.520</td>\n",
       "      <td>29.2</td>\n",
       "    </tr>\n",
       "    <tr>\n",
       "      <th>2</th>\n",
       "      <td>929.331408</td>\n",
       "      <td>0.527</td>\n",
       "      <td>0.524</td>\n",
       "      <td>29.3</td>\n",
       "    </tr>\n",
       "    <tr>\n",
       "      <th>3</th>\n",
       "      <td>929.242062</td>\n",
       "      <td>0.540</td>\n",
       "      <td>0.517</td>\n",
       "      <td>29.4</td>\n",
       "    </tr>\n",
       "    <tr>\n",
       "      <th>4</th>\n",
       "      <td>929.162088</td>\n",
       "      <td>0.549</td>\n",
       "      <td>0.505</td>\n",
       "      <td>29.4</td>\n",
       "    </tr>\n",
       "    <tr>\n",
       "      <th>...</th>\n",
       "      <td>...</td>\n",
       "      <td>...</td>\n",
       "      <td>...</td>\n",
       "      <td>...</td>\n",
       "    </tr>\n",
       "    <tr>\n",
       "      <th>22148</th>\n",
       "      <td>1829.703691</td>\n",
       "      <td>0.532</td>\n",
       "      <td>0.542</td>\n",
       "      <td>24.4</td>\n",
       "    </tr>\n",
       "    <tr>\n",
       "      <th>22149</th>\n",
       "      <td>1829.703691</td>\n",
       "      <td>0.532</td>\n",
       "      <td>0.542</td>\n",
       "      <td>24.4</td>\n",
       "    </tr>\n",
       "    <tr>\n",
       "      <th>22150</th>\n",
       "      <td>1829.703691</td>\n",
       "      <td>0.532</td>\n",
       "      <td>0.542</td>\n",
       "      <td>24.4</td>\n",
       "    </tr>\n",
       "    <tr>\n",
       "      <th>22151</th>\n",
       "      <td>1829.703691</td>\n",
       "      <td>0.532</td>\n",
       "      <td>0.542</td>\n",
       "      <td>24.4</td>\n",
       "    </tr>\n",
       "    <tr>\n",
       "      <th>22152</th>\n",
       "      <td>1829.703691</td>\n",
       "      <td>0.532</td>\n",
       "      <td>0.542</td>\n",
       "      <td>24.4</td>\n",
       "    </tr>\n",
       "  </tbody>\n",
       "</table>\n",
       "<p>22151 rows × 4 columns</p>\n",
       "</div>"
      ],
      "text/plain": [
       "                CO  CO_AE  CO_WE temperatura\n",
       "0       929.284785  0.533  0.520        29.2\n",
       "1       929.298999  0.531  0.520        29.2\n",
       "2       929.331408  0.527  0.524        29.3\n",
       "3       929.242062  0.540  0.517        29.4\n",
       "4       929.162088  0.549  0.505        29.4\n",
       "...            ...    ...    ...         ...\n",
       "22148  1829.703691  0.532  0.542        24.4\n",
       "22149  1829.703691  0.532  0.542        24.4\n",
       "22150  1829.703691  0.532  0.542        24.4\n",
       "22151  1829.703691  0.532  0.542        24.4\n",
       "22152  1829.703691  0.532  0.542        24.4\n",
       "\n",
       "[22151 rows x 4 columns]"
      ]
     },
     "execution_count": 4,
     "metadata": {},
     "output_type": "execute_result"
    }
   ],
   "source": [
    "df= df.iloc[:len(df_filtradoIAG)].copy() #iloc garante mesmo número de linhas para evitar erro.\n",
    "# Adiciona a coluna 'iag_co' ao DataFrame 'df', usando os dados da coluna 'iag_co' de 'df_filtradoIAG'\n",
    "\n",
    "df['iag_co'] = df_filtradoIAG['iag_co'].reset_index(drop=True) # evita que o índice antigo seja mantido, o que quebraria a correspondência entre as linhas dos DataFrames.\n",
    "\n",
    "df=df.dropna()\n",
    "df_iag_co = df[['iag_co']].copy()\n",
    "df = df.drop(columns=[\"time\", \"iag_co\"])\n",
    "df\n",
    "\n"
   ]
  },
  {
   "cell_type": "code",
   "execution_count": 33,
   "metadata": {},
   "outputs": [],
   "source": [
    "#Preparo do dataset para regressão\n",
    "labelsGrafana =  ['CO_AE', 'CO_WE']\n",
    "label_refGrafana= 'iag_co'\n",
    "YcoGrafana = df_iag_co # Y do IAG\n",
    "\n",
    "XcoGrafana = df.loc[YcoGrafana.index][['CO','CO_WE', 'CO_AE', 'temperatura']] # X da estação grafana\n",
    "\n",
    "\n",
    "#Usando subset para evitar CRASSHHHH\n",
    "XcoGrafana_small = XcoGrafana.sample(n=4000, random_state=42)\n",
    "YcoGrafana_small = YcoGrafana.loc[XcoGrafana_small.index]\n",
    "\n",
    "dfX_sorted = XcoGrafana.copy()\n",
    "dfX_sorted[\"iag_co\"] = YcoGrafana.values  # temporarily combine\n",
    "\n",
    "dfX_sorted = dfX_sorted.sort_values(\"iag_co\")\n",
    "\n",
    "# Take evenly spread samples\n",
    "step = len(dfX_sorted) // 4000\n",
    "df_sampled = dfX_sorted.iloc[::step].copy()\n",
    "\n",
    "# Final X and Y\n",
    "XcoGrafana_small = df_sampled.drop(columns=[\"iag_co\"])\n",
    "YcoGrafana_small = df_sampled[[\"iag_co\"]]\n",
    "\n",
    "\n"
   ]
  },
  {
   "cell_type": "markdown",
   "metadata": {},
   "source": [
    "Split dos dados"
   ]
  },
  {
   "cell_type": "code",
   "execution_count": 34,
   "metadata": {},
   "outputs": [],
   "source": [
    "from sklearn.linear_model import LinearRegression\n",
    "from sklearn.preprocessing import StandardScaler, MinMaxScaler, KernelCenterer,Normalizer\n",
    "from sklearn.pipeline import make_pipeline\n",
    "from sklearn.ensemble import RandomForestRegressor, AdaBoostRegressor\n",
    "from sklearn.neural_network import MLPRegressor\n",
    "from sklearn.metrics import r2_score\n",
    "from scipy.stats import uniform, randint\n",
    "from sklearn.model_selection import train_test_split, GridSearchCV, RandomizedSearchCV,\\\n",
    "                                    validation_curve, cross_val_score, \\\n",
    "                                    cross_validate, \\\n",
    "                                    RepeatedKFold, cross_val_predict, StratifiedKFold\n",
    "from sys import version\n",
    "\n",
    "\n",
    "\n",
    "X_train, X_valid, y_train, y_valid = train_test_split(XcoGrafana_small, YcoGrafana_small, train_size=0.8)\n",
    "X_train, X_test, y_train, y_test = train_test_split(X_train, y_train)"
   ]
  },
  {
   "cell_type": "markdown",
   "metadata": {},
   "source": [
    "Validação cruzada repetida"
   ]
  },
  {
   "cell_type": "code",
   "execution_count": 35,
   "metadata": {},
   "outputs": [],
   "source": [
    "kfold = RepeatedKFold(n_splits = 5, n_repeats = 1)\n",
    "# kfold = StratifiedKFold(n_splits = 5)"
   ]
  },
  {
   "cell_type": "markdown",
   "metadata": {},
   "source": [
    "X_treino,x-teste,x-valido estação matheus\n",
    "(2163, 4)\n",
    "(721, 4)\n",
    "(722, 4)\n",
    "mesmos parametros grafana\n",
    "(13289, 3)\n",
    "(4430, 3)\n",
    "(4430, 3)\n",
    "\n"
   ]
  },
  {
   "cell_type": "code",
   "execution_count": 36,
   "metadata": {},
   "outputs": [
    {
     "name": "stdout",
     "output_type": "stream",
     "text": [
      "(2658, 4)\n",
      "(886, 4)\n",
      "(887, 4)\n"
     ]
    }
   ],
   "source": [
    "print(X_train.shape)\n",
    "print(X_test.shape)\n",
    "print(X_valid.shape)"
   ]
  },
  {
   "cell_type": "markdown",
   "metadata": {},
   "source": [
    "%"
   ]
  },
  {
   "cell_type": "markdown",
   "metadata": {},
   "source": [
    "param_grid = {\"randomforestregressor__n_estimators\": [15, 50],<br>\n",
    "              \"randomforestregressor__max_depth\": [64, 512, 1024],<br>\n",
    "              # \"randomforestregressor__oob_score\" : [True],<br>\n",
    "              # \"randomforestregressor__bootstrap\" : [True],<br>\n",
    "              'randomforestregressor__max_features': [\"sqrt\", \"log2\", 0.3, 0.1],<br>\n",
    "              'randomforestregressor__criterion': ['squared_error']}"
   ]
  },
  {
   "cell_type": "markdown",
   "metadata": {},
   "source": [
    "## Otimização de hiperparâmetros (Random Forest)"
   ]
  },
  {
   "cell_type": "code",
   "execution_count": null,
   "metadata": {},
   "outputs": [],
   "source": []
  },
  {
   "cell_type": "markdown",
   "metadata": {},
   "source": [
    "param_grid = {\"randomforestregressor__n_estimators\": randint(1, 512),<br>\n",
    "              \"randomforestregressor__max_depth\": randint(1, 512),<br>\n",
    "              #  \"randomforestregressor__oob_score\" : [True],<br>\n",
    "              \"randomforestregressor__bootstrap\" : [False, True],<br>\n",
    "              'randomforestregressor__max_features': [\"sqrt\", \"log2\", None],<br>\n",
    "              'randomforestregressor__criterion': ['squared_error', 'absolute_error', 'friedman_mse']}<br>\n",
    "# "
   ]
  },
  {
   "cell_type": "markdown",
   "metadata": {},
   "source": [
    "np.geomspace(2, 1024, 10)"
   ]
  },
  {
   "cell_type": "code",
   "execution_count": 37,
   "metadata": {},
   "outputs": [],
   "source": [
    "param_grid = {\"randomforestregressor__n_estimators\": np.array([32, 128, 512, 1024]),\n",
    "              # \"randomforestregressor__max_depth\": None,\n",
    "              #  \"randomforestregressor__oob_score\" : [True],\n",
    "              # \"randomforestregressor__bootstrap\" : [False, True],\n",
    "              # 'randomforestregressor__max_features': [\"sqrt\", \"log2\", None],\n",
    "              'randomforestregressor__criterion': ['squared_error' ]}# 'absolute_error', 'friedman_mse']}"
   ]
  },
  {
   "cell_type": "markdown",
   "metadata": {},
   "source": [
    "Pipeline com RandomForest"
   ]
  },
  {
   "cell_type": "code",
   "execution_count": 38,
   "metadata": {},
   "outputs": [
    {
     "name": "stdout",
     "output_type": "stream",
     "text": [
      "Fitting 5 folds for each of 4 candidates, totalling 20 fits\n"
     ]
    },
    {
     "name": "stderr",
     "output_type": "stream",
     "text": [
      "/home/pedro-mujica/projects/IC/.venv/lib/python3.12/site-packages/sklearn/base.py:1363: DataConversionWarning: A column-vector y was passed when a 1d array was expected. Please change the shape of y to (n_samples,), for example using ravel().\n",
      "  return fit_method(estimator, *args, **kwargs)\n",
      "/home/pedro-mujica/projects/IC/.venv/lib/python3.12/site-packages/sklearn/base.py:1363: DataConversionWarning: A column-vector y was passed when a 1d array was expected. Please change the shape of y to (n_samples,), for example using ravel().\n",
      "  return fit_method(estimator, *args, **kwargs)\n",
      "/home/pedro-mujica/projects/IC/.venv/lib/python3.12/site-packages/sklearn/base.py:1363: DataConversionWarning: A column-vector y was passed when a 1d array was expected. Please change the shape of y to (n_samples,), for example using ravel().\n",
      "  return fit_method(estimator, *args, **kwargs)\n",
      "/home/pedro-mujica/projects/IC/.venv/lib/python3.12/site-packages/sklearn/base.py:1363: DataConversionWarning: A column-vector y was passed when a 1d array was expected. Please change the shape of y to (n_samples,), for example using ravel().\n",
      "  return fit_method(estimator, *args, **kwargs)\n",
      "/home/pedro-mujica/projects/IC/.venv/lib/python3.12/site-packages/sklearn/base.py:1363: DataConversionWarning: A column-vector y was passed when a 1d array was expected. Please change the shape of y to (n_samples,), for example using ravel().\n",
      "  return fit_method(estimator, *args, **kwargs)\n",
      "/home/pedro-mujica/projects/IC/.venv/lib/python3.12/site-packages/sklearn/base.py:1363: DataConversionWarning: A column-vector y was passed when a 1d array was expected. Please change the shape of y to (n_samples,), for example using ravel().\n",
      "  return fit_method(estimator, *args, **kwargs)\n",
      "/home/pedro-mujica/projects/IC/.venv/lib/python3.12/site-packages/sklearn/base.py:1363: DataConversionWarning: A column-vector y was passed when a 1d array was expected. Please change the shape of y to (n_samples,), for example using ravel().\n",
      "  return fit_method(estimator, *args, **kwargs)\n",
      "/home/pedro-mujica/projects/IC/.venv/lib/python3.12/site-packages/sklearn/base.py:1363: DataConversionWarning: A column-vector y was passed when a 1d array was expected. Please change the shape of y to (n_samples,), for example using ravel().\n",
      "  return fit_method(estimator, *args, **kwargs)\n",
      "/home/pedro-mujica/projects/IC/.venv/lib/python3.12/site-packages/sklearn/base.py:1363: DataConversionWarning: A column-vector y was passed when a 1d array was expected. Please change the shape of y to (n_samples,), for example using ravel().\n",
      "  return fit_method(estimator, *args, **kwargs)\n",
      "/home/pedro-mujica/projects/IC/.venv/lib/python3.12/site-packages/sklearn/base.py:1363: DataConversionWarning: A column-vector y was passed when a 1d array was expected. Please change the shape of y to (n_samples,), for example using ravel().\n",
      "  return fit_method(estimator, *args, **kwargs)\n",
      "/home/pedro-mujica/projects/IC/.venv/lib/python3.12/site-packages/sklearn/base.py:1363: DataConversionWarning: A column-vector y was passed when a 1d array was expected. Please change the shape of y to (n_samples,), for example using ravel().\n",
      "  return fit_method(estimator, *args, **kwargs)\n",
      "/home/pedro-mujica/projects/IC/.venv/lib/python3.12/site-packages/sklearn/base.py:1363: DataConversionWarning: A column-vector y was passed when a 1d array was expected. Please change the shape of y to (n_samples,), for example using ravel().\n",
      "  return fit_method(estimator, *args, **kwargs)\n",
      "/home/pedro-mujica/projects/IC/.venv/lib/python3.12/site-packages/sklearn/base.py:1363: DataConversionWarning: A column-vector y was passed when a 1d array was expected. Please change the shape of y to (n_samples,), for example using ravel().\n",
      "  return fit_method(estimator, *args, **kwargs)\n",
      "/home/pedro-mujica/projects/IC/.venv/lib/python3.12/site-packages/sklearn/base.py:1363: DataConversionWarning: A column-vector y was passed when a 1d array was expected. Please change the shape of y to (n_samples,), for example using ravel().\n",
      "  return fit_method(estimator, *args, **kwargs)\n",
      "/home/pedro-mujica/projects/IC/.venv/lib/python3.12/site-packages/sklearn/base.py:1363: DataConversionWarning: A column-vector y was passed when a 1d array was expected. Please change the shape of y to (n_samples,), for example using ravel().\n",
      "  return fit_method(estimator, *args, **kwargs)\n",
      "/home/pedro-mujica/projects/IC/.venv/lib/python3.12/site-packages/sklearn/base.py:1363: DataConversionWarning: A column-vector y was passed when a 1d array was expected. Please change the shape of y to (n_samples,), for example using ravel().\n",
      "  return fit_method(estimator, *args, **kwargs)\n"
     ]
    },
    {
     "name": "stdout",
     "output_type": "stream",
     "text": [
      "[CV 3/5] END randomforestregressor__criterion=squared_error, randomforestregressor__n_estimators=32;, score=(train=0.843, test=0.141) total time=   0.4s\n",
      "[CV 1/5] END randomforestregressor__criterion=squared_error, randomforestregressor__n_estimators=32;, score=(train=0.852, test=-0.012) total time=   0.4s\n",
      "[CV 4/5] END randomforestregressor__criterion=squared_error, randomforestregressor__n_estimators=32;, score=(train=0.857, test=-0.062) total time=   0.4s\n",
      "[CV 2/5] END randomforestregressor__criterion=squared_error, randomforestregressor__n_estimators=32;, score=(train=0.847, test=0.036) total time=   0.4s\n",
      "[CV 5/5] END randomforestregressor__criterion=squared_error, randomforestregressor__n_estimators=32;, score=(train=0.855, test=0.017) total time=   0.4s\n"
     ]
    },
    {
     "name": "stderr",
     "output_type": "stream",
     "text": [
      "/home/pedro-mujica/projects/IC/.venv/lib/python3.12/site-packages/sklearn/base.py:1363: DataConversionWarning: A column-vector y was passed when a 1d array was expected. Please change the shape of y to (n_samples,), for example using ravel().\n",
      "  return fit_method(estimator, *args, **kwargs)\n",
      "/home/pedro-mujica/projects/IC/.venv/lib/python3.12/site-packages/sklearn/base.py:1363: DataConversionWarning: A column-vector y was passed when a 1d array was expected. Please change the shape of y to (n_samples,), for example using ravel().\n",
      "  return fit_method(estimator, *args, **kwargs)\n",
      "/home/pedro-mujica/projects/IC/.venv/lib/python3.12/site-packages/sklearn/base.py:1363: DataConversionWarning: A column-vector y was passed when a 1d array was expected. Please change the shape of y to (n_samples,), for example using ravel().\n",
      "  return fit_method(estimator, *args, **kwargs)\n",
      "/home/pedro-mujica/projects/IC/.venv/lib/python3.12/site-packages/sklearn/base.py:1363: DataConversionWarning: A column-vector y was passed when a 1d array was expected. Please change the shape of y to (n_samples,), for example using ravel().\n",
      "  return fit_method(estimator, *args, **kwargs)\n"
     ]
    },
    {
     "name": "stdout",
     "output_type": "stream",
     "text": [
      "[CV 4/5] END randomforestregressor__criterion=squared_error, randomforestregressor__n_estimators=128;, score=(train=0.868, test=-0.069) total time=   1.2s\n",
      "[CV 3/5] END randomforestregressor__criterion=squared_error, randomforestregressor__n_estimators=128;, score=(train=0.864, test=0.156) total time=   1.3s\n",
      "[CV 1/5] END randomforestregressor__criterion=squared_error, randomforestregressor__n_estimators=128;, score=(train=0.864, test=0.032) total time=   1.3s\n",
      "[CV 5/5] END randomforestregressor__criterion=squared_error, randomforestregressor__n_estimators=128;, score=(train=0.867, test=0.029) total time=   1.3s\n",
      "[CV 2/5] END randomforestregressor__criterion=squared_error, randomforestregressor__n_estimators=128;, score=(train=0.862, test=0.076) total time=   1.3s\n",
      "[CV 2/5] END randomforestregressor__criterion=squared_error, randomforestregressor__n_estimators=512;, score=(train=0.869, test=0.087) total time=   3.9s\n",
      "[CV 1/5] END randomforestregressor__criterion=squared_error, randomforestregressor__n_estimators=512;, score=(train=0.869, test=0.032) total time=   4.0s\n",
      "[CV 4/5] END randomforestregressor__criterion=squared_error, randomforestregressor__n_estimators=512;, score=(train=0.872, test=-0.067) total time=   4.1s\n",
      "[CV 5/5] END randomforestregressor__criterion=squared_error, randomforestregressor__n_estimators=512;, score=(train=0.870, test=0.049) total time=   4.5s\n",
      "[CV 3/5] END randomforestregressor__criterion=squared_error, randomforestregressor__n_estimators=512;, score=(train=0.865, test=0.162) total time=   4.7s\n",
      "[CV 5/5] END randomforestregressor__criterion=squared_error, randomforestregressor__n_estimators=1024;, score=(train=0.869, test=0.050) total time=   6.7s\n",
      "[CV 2/5] END randomforestregressor__criterion=squared_error, randomforestregressor__n_estimators=1024;, score=(train=0.869, test=0.079) total time=   6.7s\n",
      "[CV 3/5] END randomforestregressor__criterion=squared_error, randomforestregressor__n_estimators=1024;, score=(train=0.865, test=0.161) total time=   6.9s\n",
      "[CV 1/5] END randomforestregressor__criterion=squared_error, randomforestregressor__n_estimators=1024;, score=(train=0.867, test=0.038) total time=   7.6s\n",
      "[CV 4/5] END randomforestregressor__criterion=squared_error, randomforestregressor__n_estimators=1024;, score=(train=0.874, test=-0.066) total time=   7.4s\n"
     ]
    },
    {
     "name": "stderr",
     "output_type": "stream",
     "text": [
      "/home/pedro-mujica/projects/IC/.venv/lib/python3.12/site-packages/sklearn/base.py:1363: DataConversionWarning: A column-vector y was passed when a 1d array was expected. Please change the shape of y to (n_samples,), for example using ravel().\n",
      "  return fit_method(estimator, *args, **kwargs)\n"
     ]
    }
   ],
   "source": [
    "regressor = make_pipeline(RandomForestRegressor())\n",
    "\n",
    "linReg = LinearRegression().fit(X_train, y_train)\n",
    "\n",
    "\n",
    "gs = GridSearchCV(regressor, param_grid=param_grid, n_jobs=-1, verbose = 3,\\\n",
    "                  return_train_score=True, cv = kfold, error_score = 'raise')\n",
    "\n",
    "    \n",
    "res = gs.fit(X_train,y_train)"
   ]
  },
  {
   "cell_type": "markdown",
   "metadata": {},
   "source": [
    "GridSearch com validação cruzada"
   ]
  },
  {
   "cell_type": "code",
   "execution_count": null,
   "metadata": {},
   "outputs": [],
   "source": []
  },
  {
   "cell_type": "code",
   "execution_count": 39,
   "metadata": {},
   "outputs": [
    {
     "name": "stdout",
     "output_type": "stream",
     "text": [
      "Fitting 5 folds for each of 4 candidates, totalling 20 fits\n"
     ]
    },
    {
     "name": "stderr",
     "output_type": "stream",
     "text": [
      "/home/pedro-mujica/projects/IC/.venv/lib/python3.12/site-packages/sklearn/base.py:1363: DataConversionWarning: A column-vector y was passed when a 1d array was expected. Please change the shape of y to (n_samples,), for example using ravel().\n",
      "  return fit_method(estimator, *args, **kwargs)\n",
      "/home/pedro-mujica/projects/IC/.venv/lib/python3.12/site-packages/sklearn/base.py:1363: DataConversionWarning: A column-vector y was passed when a 1d array was expected. Please change the shape of y to (n_samples,), for example using ravel().\n",
      "  return fit_method(estimator, *args, **kwargs)\n",
      "/home/pedro-mujica/projects/IC/.venv/lib/python3.12/site-packages/sklearn/base.py:1363: DataConversionWarning: A column-vector y was passed when a 1d array was expected. Please change the shape of y to (n_samples,), for example using ravel().\n",
      "  return fit_method(estimator, *args, **kwargs)\n",
      "/home/pedro-mujica/projects/IC/.venv/lib/python3.12/site-packages/sklearn/base.py:1363: DataConversionWarning: A column-vector y was passed when a 1d array was expected. Please change the shape of y to (n_samples,), for example using ravel().\n",
      "  return fit_method(estimator, *args, **kwargs)\n",
      "/home/pedro-mujica/projects/IC/.venv/lib/python3.12/site-packages/sklearn/base.py:1363: DataConversionWarning: A column-vector y was passed when a 1d array was expected. Please change the shape of y to (n_samples,), for example using ravel().\n",
      "  return fit_method(estimator, *args, **kwargs)\n",
      "/home/pedro-mujica/projects/IC/.venv/lib/python3.12/site-packages/sklearn/base.py:1363: DataConversionWarning: A column-vector y was passed when a 1d array was expected. Please change the shape of y to (n_samples,), for example using ravel().\n",
      "  return fit_method(estimator, *args, **kwargs)\n",
      "/home/pedro-mujica/projects/IC/.venv/lib/python3.12/site-packages/sklearn/base.py:1363: DataConversionWarning: A column-vector y was passed when a 1d array was expected. Please change the shape of y to (n_samples,), for example using ravel().\n",
      "  return fit_method(estimator, *args, **kwargs)\n",
      "/home/pedro-mujica/projects/IC/.venv/lib/python3.12/site-packages/sklearn/base.py:1363: DataConversionWarning: A column-vector y was passed when a 1d array was expected. Please change the shape of y to (n_samples,), for example using ravel().\n",
      "  return fit_method(estimator, *args, **kwargs)\n",
      "/home/pedro-mujica/projects/IC/.venv/lib/python3.12/site-packages/sklearn/base.py:1363: DataConversionWarning: A column-vector y was passed when a 1d array was expected. Please change the shape of y to (n_samples,), for example using ravel().\n",
      "  return fit_method(estimator, *args, **kwargs)\n",
      "/home/pedro-mujica/projects/IC/.venv/lib/python3.12/site-packages/sklearn/base.py:1363: DataConversionWarning: A column-vector y was passed when a 1d array was expected. Please change the shape of y to (n_samples,), for example using ravel().\n",
      "  return fit_method(estimator, *args, **kwargs)\n",
      "/home/pedro-mujica/projects/IC/.venv/lib/python3.12/site-packages/sklearn/base.py:1363: DataConversionWarning: A column-vector y was passed when a 1d array was expected. Please change the shape of y to (n_samples,), for example using ravel().\n",
      "  return fit_method(estimator, *args, **kwargs)\n",
      "/home/pedro-mujica/projects/IC/.venv/lib/python3.12/site-packages/sklearn/base.py:1363: DataConversionWarning: A column-vector y was passed when a 1d array was expected. Please change the shape of y to (n_samples,), for example using ravel().\n",
      "  return fit_method(estimator, *args, **kwargs)\n",
      "/home/pedro-mujica/projects/IC/.venv/lib/python3.12/site-packages/sklearn/base.py:1363: DataConversionWarning: A column-vector y was passed when a 1d array was expected. Please change the shape of y to (n_samples,), for example using ravel().\n",
      "  return fit_method(estimator, *args, **kwargs)\n",
      "/home/pedro-mujica/projects/IC/.venv/lib/python3.12/site-packages/sklearn/base.py:1363: DataConversionWarning: A column-vector y was passed when a 1d array was expected. Please change the shape of y to (n_samples,), for example using ravel().\n",
      "  return fit_method(estimator, *args, **kwargs)\n",
      "/home/pedro-mujica/projects/IC/.venv/lib/python3.12/site-packages/sklearn/base.py:1363: DataConversionWarning: A column-vector y was passed when a 1d array was expected. Please change the shape of y to (n_samples,), for example using ravel().\n",
      "  return fit_method(estimator, *args, **kwargs)\n",
      "/home/pedro-mujica/projects/IC/.venv/lib/python3.12/site-packages/sklearn/base.py:1363: DataConversionWarning: A column-vector y was passed when a 1d array was expected. Please change the shape of y to (n_samples,), for example using ravel().\n",
      "  return fit_method(estimator, *args, **kwargs)\n"
     ]
    },
    {
     "name": "stdout",
     "output_type": "stream",
     "text": [
      "[CV 3/5] END randomforestregressor__criterion=squared_error, randomforestregressor__n_estimators=32;, score=(train=0.863, test=0.043) total time=   0.6s\n",
      "[CV 4/5] END randomforestregressor__criterion=squared_error, randomforestregressor__n_estimators=32;, score=(train=0.856, test=0.000) total time=   0.7s\n",
      "[CV 5/5] END randomforestregressor__criterion=squared_error, randomforestregressor__n_estimators=32;, score=(train=0.855, test=0.028) total time=   0.7s\n",
      "[CV 2/5] END randomforestregressor__criterion=squared_error, randomforestregressor__n_estimators=32;, score=(train=0.848, test=-0.034) total time=   0.7s\n",
      "[CV 1/5] END randomforestregressor__criterion=squared_error, randomforestregressor__n_estimators=32;, score=(train=0.859, test=0.040) total time=   0.8s\n"
     ]
    },
    {
     "name": "stderr",
     "output_type": "stream",
     "text": [
      "/home/pedro-mujica/projects/IC/.venv/lib/python3.12/site-packages/sklearn/base.py:1363: DataConversionWarning: A column-vector y was passed when a 1d array was expected. Please change the shape of y to (n_samples,), for example using ravel().\n",
      "  return fit_method(estimator, *args, **kwargs)\n",
      "/home/pedro-mujica/projects/IC/.venv/lib/python3.12/site-packages/sklearn/base.py:1363: DataConversionWarning: A column-vector y was passed when a 1d array was expected. Please change the shape of y to (n_samples,), for example using ravel().\n",
      "  return fit_method(estimator, *args, **kwargs)\n",
      "/home/pedro-mujica/projects/IC/.venv/lib/python3.12/site-packages/sklearn/base.py:1363: DataConversionWarning: A column-vector y was passed when a 1d array was expected. Please change the shape of y to (n_samples,), for example using ravel().\n",
      "  return fit_method(estimator, *args, **kwargs)\n",
      "/home/pedro-mujica/projects/IC/.venv/lib/python3.12/site-packages/sklearn/base.py:1363: DataConversionWarning: A column-vector y was passed when a 1d array was expected. Please change the shape of y to (n_samples,), for example using ravel().\n",
      "  return fit_method(estimator, *args, **kwargs)\n"
     ]
    },
    {
     "name": "stdout",
     "output_type": "stream",
     "text": [
      "[CV 3/5] END randomforestregressor__criterion=squared_error, randomforestregressor__n_estimators=128;, score=(train=0.865, test=0.051) total time=   2.5s\n",
      "[CV 2/5] END randomforestregressor__criterion=squared_error, randomforestregressor__n_estimators=128;, score=(train=0.867, test=-0.042) total time=   2.5s\n",
      "[CV 1/5] END randomforestregressor__criterion=squared_error, randomforestregressor__n_estimators=128;, score=(train=0.862, test=0.091) total time=   2.6s\n",
      "[CV 5/5] END randomforestregressor__criterion=squared_error, randomforestregressor__n_estimators=128;, score=(train=0.868, test=0.032) total time=   2.6s\n",
      "[CV 4/5] END randomforestregressor__criterion=squared_error, randomforestregressor__n_estimators=128;, score=(train=0.876, test=0.024) total time=   2.6s\n",
      "[CV 1/5] END randomforestregressor__criterion=squared_error, randomforestregressor__n_estimators=512;, score=(train=0.865, test=0.087) total time=   7.7s\n",
      "[CV 5/5] END randomforestregressor__criterion=squared_error, randomforestregressor__n_estimators=512;, score=(train=0.867, test=0.046) total time=   7.7s\n",
      "[CV 3/5] END randomforestregressor__criterion=squared_error, randomforestregressor__n_estimators=512;, score=(train=0.870, test=0.042) total time=   7.7s\n",
      "[CV 4/5] END randomforestregressor__criterion=squared_error, randomforestregressor__n_estimators=512;, score=(train=0.872, test=0.025) total time=   8.2s\n",
      "[CV 2/5] END randomforestregressor__criterion=squared_error, randomforestregressor__n_estimators=512;, score=(train=0.869, test=-0.034) total time=   8.3s\n",
      "[CV 2/5] END randomforestregressor__criterion=squared_error, randomforestregressor__n_estimators=1024;, score=(train=0.872, test=-0.034) total time=  10.4s\n",
      "[CV 4/5] END randomforestregressor__criterion=squared_error, randomforestregressor__n_estimators=1024;, score=(train=0.873, test=0.030) total time=  10.4s\n",
      "[CV 3/5] END randomforestregressor__criterion=squared_error, randomforestregressor__n_estimators=1024;, score=(train=0.871, test=0.042) total time=  10.4s\n",
      "[CV 1/5] END randomforestregressor__criterion=squared_error, randomforestregressor__n_estimators=1024;, score=(train=0.866, test=0.093) total time=  11.2s\n",
      "[CV 5/5] END randomforestregressor__criterion=squared_error, randomforestregressor__n_estimators=1024;, score=(train=0.869, test=0.046) total time=  10.8s\n"
     ]
    },
    {
     "name": "stderr",
     "output_type": "stream",
     "text": [
      "/home/pedro-mujica/projects/IC/.venv/lib/python3.12/site-packages/sklearn/base.py:1363: DataConversionWarning: A column-vector y was passed when a 1d array was expected. Please change the shape of y to (n_samples,), for example using ravel().\n",
      "  return fit_method(estimator, *args, **kwargs)\n"
     ]
    }
   ],
   "source": [
    "gs = GridSearchCV(regressor, param_grid=param_grid, n_jobs=-1, verbose = 3,\\\n",
    "                  return_train_score=True, cv = kfold, error_score = 'raise')\n",
    "    \n",
    "res = gs.fit(X_train,y_train)"
   ]
  },
  {
   "cell_type": "markdown",
   "metadata": {},
   "source": [
    "%% Resultado da otimização"
   ]
  },
  {
   "cell_type": "code",
   "execution_count": 40,
   "metadata": {},
   "outputs": [
    {
     "name": "stdout",
     "output_type": "stream",
     "text": [
      "   mean_fit_time  std_fit_time  mean_score_time  std_score_time  \\\n",
      "0       0.690878      0.050793         0.024871        0.004922   \n",
      "1       2.509278      0.032170         0.058079        0.008102   \n",
      "2       7.876932      0.266541         0.082135        0.001715   \n",
      "3      10.522376      0.323484         0.135972        0.002420   \n",
      "\n",
      "  param_randomforestregressor__criterion  \\\n",
      "0                          squared_error   \n",
      "1                          squared_error   \n",
      "2                          squared_error   \n",
      "3                          squared_error   \n",
      "\n",
      "   param_randomforestregressor__n_estimators  \\\n",
      "0                                         32   \n",
      "1                                        128   \n",
      "2                                        512   \n",
      "3                                       1024   \n",
      "\n",
      "                                              params  split0_test_score  \\\n",
      "0  {'randomforestregressor__criterion': 'squared_...           0.040221   \n",
      "1  {'randomforestregressor__criterion': 'squared_...           0.091309   \n",
      "2  {'randomforestregressor__criterion': 'squared_...           0.087146   \n",
      "3  {'randomforestregressor__criterion': 'squared_...           0.093275   \n",
      "\n",
      "   split1_test_score  split2_test_score  ...  mean_test_score  std_test_score  \\\n",
      "0          -0.033711           0.043417  ...         0.015639        0.028969   \n",
      "1          -0.041982           0.051032  ...         0.031259        0.043381   \n",
      "2          -0.034042           0.042376  ...         0.033230        0.039361   \n",
      "3          -0.034092           0.042096  ...         0.035314        0.040901   \n",
      "\n",
      "   rank_test_score  split0_train_score  split1_train_score  \\\n",
      "0                4            0.859207            0.847562   \n",
      "1                3            0.861879            0.867135   \n",
      "2                2            0.864537            0.869278   \n",
      "3                1            0.866185            0.871579   \n",
      "\n",
      "   split2_train_score  split3_train_score  split4_train_score  \\\n",
      "0            0.863237            0.855816            0.854732   \n",
      "1            0.865099            0.875575            0.867573   \n",
      "2            0.870106            0.871663            0.866878   \n",
      "3            0.870560            0.872998            0.868593   \n",
      "\n",
      "   mean_train_score  std_train_score  \n",
      "0          0.856111         0.005205  \n",
      "1          0.867452         0.004532  \n",
      "2          0.868493         0.002511  \n",
      "3          0.869983         0.002380  \n",
      "\n",
      "[4 rows x 22 columns]\n"
     ]
    }
   ],
   "source": [
    "print(train_data := pd.DataFrame(res.cv_results_))"
   ]
  },
  {
   "cell_type": "code",
   "execution_count": 41,
   "metadata": {},
   "outputs": [],
   "source": [
    "with open('tabela_treino.tex', 'w') as f:\n",
    "    f.write(train_data.style.to_latex())\n",
    "    \n",
    "    \n",
    "var = 'squared_error'\n",
    "var2 = 'sqrt'\n",
    "# Plot da métrica em função do número de estimadores\n",
    "# mse = train_data.query(\"param_randomforestregressor__criterion == @var and param_randomforestregressor__max_features == @var2\")\n",
    "mse_df = train_data.query(\"param_randomforestregressor__criterion == @var\")"
   ]
  },
  {
   "cell_type": "code",
   "execution_count": 42,
   "metadata": {},
   "outputs": [],
   "source": [
    "with open('tabela_treino_mse.tex', 'w') as f:\n",
    "    f.write(mse_df.style.to_latex())\n",
    "    \n",
    "mse_df = mse_df.sort_values('param_randomforestregressor__n_estimators', axis = 0)"
   ]
  },
  {
   "cell_type": "markdown",
   "metadata": {},
   "source": [
    "Plot the responses for different events and regions"
   ]
  },
  {
   "cell_type": "code",
   "execution_count": 43,
   "metadata": {},
   "outputs": [
    {
     "data": {
      "image/png": "[encoded data removed]",
      "text/plain": [
       "<Figure size 640x480 with 1 Axes>"
      ]
     },
     "metadata": {},
     "output_type": "display_data"
    }
   ],
   "source": [
    "sns.lineplot(x=\"param_randomforestregressor__n_estimators\", y=\"mean_test_score\",\n",
    "             #hue=\"param_randomforestregressor__max_features\", # style=\"event\",\n",
    "             data=train_data)\n",
    "plt.show()"
   ]
  },
  {
   "cell_type": "markdown",
   "metadata": {},
   "source": [
    "%<br>\n",
    "## Avaliação do modelo linear"
   ]
  },
  {
   "cell_type": "code",
   "execution_count": 44,
   "metadata": {},
   "outputs": [
    {
     "name": "stdout",
     "output_type": "stream",
     "text": [
      "Linear Regression Model\n",
      "Train Score:  0.12406858950980804\n",
      "Test Score:  0.13873740707677018\n",
      "Validation Score:  0.0037429592425959335\n",
      "RMSE Score:  16.700257933118902\n"
     ]
    }
   ],
   "source": [
    "print(\"Linear Regression Model\")\n",
    "print(\"Train Score: \", linReg.score(X_train, y_train))\n",
    "print(\"Test Score: \", linReg.score(X_test, y_test))\n",
    "print(\"Validation Score: \", r2_score(y_valid, linReg.predict(X_valid)))\n",
    "print(\"RMSE Score: \", 100*rmse(y_train, linReg.predict(X_train)))"
   ]
  },
  {
   "cell_type": "code",
   "execution_count": 45,
   "metadata": {},
   "outputs": [
    {
     "name": "stdout",
     "output_type": "stream",
     "text": [
      "[[ 1.64342986e-04  4.03004868e-01  3.15675214e-01 -1.06195369e-02]]\n"
     ]
    },
    {
     "data": {
      "image/png": "[encoded data removed]",
      "text/plain": [
       "<Figure size 640x480 with 1 Axes>"
      ]
     },
     "metadata": {},
     "output_type": "display_data"
    }
   ],
   "source": [
    "print(linReg.coef_)\n",
    "# Visualização dos resultados do modelo linear\n",
    "sns.regplot(x = y_valid, y = linReg.predict(X_valid))\n",
    "sns.regplot(x = y_test, y = linReg.predict(X_test))\n",
    "plt.gca().axline((0,0), slope=1)\n",
    "plt.show()"
   ]
  },
  {
   "cell_type": "markdown",
   "metadata": {},
   "source": [
    "%"
   ]
  },
  {
   "cell_type": "markdown",
   "metadata": {},
   "source": [
    "r2_score(y_true, y_pred)<br>\n",
    "x = X_train[:, 0]<br>\n",
    "print(\"Sem regr\", r2_score(x, y_train))<br>\n",
    "print(\"w/o  ML model Score: \", r2_score(X_train['e2sp_co'], y_train))<br>\n",
    "## Avaliação do modelo Random Forest"
   ]
  },
  {
   "cell_type": "code",
   "execution_count": 39,
   "metadata": {},
   "outputs": [
    {
     "name": "stdout",
     "output_type": "stream",
     "text": [
      "Random Forest Model\n",
      "Train Score:  0.9690191929756621\n",
      "Test Score:  0.7832419399215618\n",
      "Validation Score:  0.8009602466186018\n",
      "RMSE Score:  6.060229884549092\n"
     ]
    }
   ],
   "source": [
    "print(\"Random Forest Model\")\n",
    "print(\"Train Score: \", gs.score(X_train, y_train))\n",
    "print(\"Test Score: \", gs.score(X_test, y_test))\n",
    "print(\"Validation Score: \", r2_score(y_valid, gs.predict(X_valid)))\n",
    "print(\"RMSE Score: \", 100*rmse(y_train, gs.predict(X_train)))"
   ]
  },
  {
   "cell_type": "code",
   "execution_count": 40,
   "metadata": {},
   "outputs": [
    {
     "data": {
      "text/plain": [
       "<matplotlib.lines.AxLine at 0x79c6e0406c60>"
      ]
     },
     "execution_count": 40,
     "metadata": {},
     "output_type": "execute_result"
    },
    {
     "data": {
      "image/png": "[encoded data removed]",
      "text/plain": [
       "<Figure size 640x480 with 1 Axes>"
      ]
     },
     "metadata": {},
     "output_type": "display_data"
    }
   ],
   "source": [
    "sns.regplot(x = y_valid, y = gs.predict(X_valid))\n",
    "sns.regplot(x = y_test, y = gs.predict(X_test))\n",
    "plt.gca().axline((0,0), slope=1)"
   ]
  },
  {
   "cell_type": "code",
   "execution_count": 41,
   "metadata": {},
   "outputs": [],
   "source": [
    "plt.show()"
   ]
  },
  {
   "cell_type": "markdown",
   "metadata": {},
   "source": [
    "% Antes de tudo<br>\n",
    "## Visualização do modelo calibrado vs referência"
   ]
  },
  {
   "cell_type": "code",
   "execution_count": 42,
   "metadata": {},
   "outputs": [],
   "source": [
    "e1_rf = {'co' : pd.DataFrame(data=gs.predict(Xco), index=Xco.index)}\n",
    "# e1 = {'co' : df['e2sp_co']}\n",
    "e2_ref = {'co' : df['iag_co']}"
   ]
  },
  {
   "cell_type": "code",
   "execution_count": null,
   "metadata": {},
   "outputs": [],
   "source": [
    "plot_data_by_time_and_regr_plot(e1_rf, e2_ref, labels = ['co'], latex_labels = 'co')"
   ]
  },
  {
   "cell_type": "markdown",
   "metadata": {},
   "source": [
    "%<br>\n",
    " ['2023-03-18 10:00:00':'2023-03-22 10:00:00']."
   ]
  },
  {
   "cell_type": "code",
   "execution_count": null,
   "metadata": {},
   "outputs": [],
   "source": [
    "e1_rf = {'co' : pd.DataFrame(data=linReg.predict(Xco), index=Xco.index)}\n",
    "# e1 = {'co' : df['e2sp_co']}\n",
    "e2_ref = {'co' : df['iag_co']}"
   ]
  },
  {
   "cell_type": "code",
   "execution_count": null,
   "metadata": {},
   "outputs": [],
   "source": [
    "plot_data_by_time_and_regr_plot(e1_rf, e2_ref, labels = ['co'], latex_labels = 'co')"
   ]
  }
 ],
 "metadata": {
  "kernelspec": {
   "display_name": ".venv",
   "language": "python",
   "name": "python3"
  },
  "language_info": {
   "codemirror_mode": {
    "name": "ipython",
    "version": 3
   },
   "file_extension": ".py",
   "mimetype": "text/x-python",
   "name": "python",
   "nbconvert_exporter": "python",
   "pygments_lexer": "ipython3",
   "version": "3.12.3"
  }
 },
 "nbformat": 4,
 "nbformat_minor": 2
}
