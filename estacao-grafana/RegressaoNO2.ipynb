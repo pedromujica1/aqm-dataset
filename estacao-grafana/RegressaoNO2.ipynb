{
  "cells": [
    {
      "cell_type": "markdown",
      "metadata": {
        "id": "76sGji413ExK"
      },
      "source": [
        "# **Árvore de Regressão e Random Forest**\n",
        "\n",
        "* Parte 1: Entendimento e divisão do dataset\n",
        "* Parte 2: Aplicação do algoritmo DecisionTreeRegressor\n",
        "* Parte 3: Avaliação de desempenho\n",
        "* Parte 4: Aplicação do algoritmo RandomForest\n",
        "* Parte 5: Avaliação de desempenho"
      ]
    },
    {
      "cell_type": "code",
      "execution_count": 32,
      "metadata": {},
      "outputs": [],
      "source": [
        "#Bibliotecas necessárias, modelos e métricas do scikit-learn e outros\n",
        "import numpy as np\n",
        "import seaborn as sns\n",
        "import matplotlib.pyplot as plt\n",
        "import pandas as pd\n",
        "from sklearn.linear_model import LinearRegression\n",
        "\n",
        "from sklearn.preprocessing import StandardScaler, MinMaxScaler, KernelCenterer,Normalizer\n",
        "\n",
        "from sklearn.pipeline import make_pipeline\n",
        "\n",
        "from sklearn.ensemble import RandomForestRegressor, AdaBoostRegressor\n",
        "\n",
        "from sklearn.neural_network import MLPRegressor\n",
        "\n",
        "from sklearn.metrics import r2_score\n",
        "from sklearn.model_selection import train_test_split, GridSearchCV, RandomizedSearchCV,\\\n",
        "                                    validation_curve, cross_val_score, \\\n",
        "                                    cross_validate, \\\n",
        "                                    RepeatedKFold, cross_val_predict, StratifiedKFold\n",
        "from scipy.stats import uniform, randint\n",
        "\n",
        "#Bibliotecas/funções matheus\n",
        "from envcity_plot_lib import *\n",
        "\n",
        "from alphasense_b_sensors.alphasense_sensors import *\n",
        "\n",
        "from sklearn.metrics import mean_absolute_error, mean_squared_error, r2_score, root_mean_squared_error"
      ]
    },
    {
      "cell_type": "markdown",
      "metadata": {
        "id": "vkjIjGGUa3YC"
      },
      "source": [
        "# <font color=white>**Parte 1**: Entendimento e divisão do dataset"
      ]
    },
    {
      "cell_type": "markdown",
      "metadata": {
        "id": "oIqdNuuC3iQD"
      },
      "source": [
        "Definição das variáveis\n",
        "- no2 IAG\n",
        "- no2_1 estação\n",
        "- no2_2 estação\n",
        "- no2_3 estação\n",
        "- no2_4 estação\n",
        "- no2_we (working electord)\n",
        "- no2_ae (auxiliary electrodo)\n",
        "- best_so"
      ]
    },
    {
      "cell_type": "code",
      "execution_count": 37,
      "metadata": {
        "colab": {
          "base_uri": "https://localhost:8080/",
          "height": 270
        },
        "id": "1WqayzNKTLZA",
        "outputId": "89bf8594-b369-44ff-fa76-2e9af9d07eb5"
      },
      "outputs": [
        {
          "data": {
            "text/html": [
              "<div>\n",
              "<style scoped>\n",
              "    .dataframe tbody tr th:only-of-type {\n",
              "        vertical-align: middle;\n",
              "    }\n",
              "\n",
              "    .dataframe tbody tr th {\n",
              "        vertical-align: top;\n",
              "    }\n",
              "\n",
              "    .dataframe thead th {\n",
              "        text-align: right;\n",
              "    }\n",
              "</style>\n",
              "<table border=\"1\" class=\"dataframe\">\n",
              "  <thead>\n",
              "    <tr style=\"text-align: right;\">\n",
              "      <th></th>\n",
              "      <th>time</th>\n",
              "      <th>NO2</th>\n",
              "      <th>NO2_AE</th>\n",
              "      <th>NO2_WE</th>\n",
              "      <th>temperatura</th>\n",
              "    </tr>\n",
              "  </thead>\n",
              "  <tbody>\n",
              "    <tr>\n",
              "      <th>0</th>\n",
              "      <td>2025-03-07 13:19:00</td>\n",
              "      <td>3.29</td>\n",
              "      <td>0.00131</td>\n",
              "      <td>0.00150</td>\n",
              "      <td>29.1</td>\n",
              "    </tr>\n",
              "    <tr>\n",
              "      <th>1</th>\n",
              "      <td>2025-03-07 13:20:13</td>\n",
              "      <td>3.28</td>\n",
              "      <td>0.00150</td>\n",
              "      <td>0.00131</td>\n",
              "      <td>29.1</td>\n",
              "    </tr>\n",
              "    <tr>\n",
              "      <th>2</th>\n",
              "      <td>2025-03-07 13:21:25</td>\n",
              "      <td>3.29</td>\n",
              "      <td>0.00131</td>\n",
              "      <td>0.00150</td>\n",
              "      <td>29.1</td>\n",
              "    </tr>\n",
              "    <tr>\n",
              "      <th>3</th>\n",
              "      <td>2025-03-07 13:22:32</td>\n",
              "      <td>3.29</td>\n",
              "      <td>0.00131</td>\n",
              "      <td>0.00150</td>\n",
              "      <td>29.2</td>\n",
              "    </tr>\n",
              "    <tr>\n",
              "      <th>4</th>\n",
              "      <td>2025-03-07 13:23:38</td>\n",
              "      <td>3.28</td>\n",
              "      <td>0.00150</td>\n",
              "      <td>0.00150</td>\n",
              "      <td>29.2</td>\n",
              "    </tr>\n",
              "    <tr>\n",
              "      <th>...</th>\n",
              "      <td>...</td>\n",
              "      <td>...</td>\n",
              "      <td>...</td>\n",
              "      <td>...</td>\n",
              "      <td>...</td>\n",
              "    </tr>\n",
              "    <tr>\n",
              "      <th>321217</th>\n",
              "      <td>2025-06-16 19:45:44</td>\n",
              "      <td>3.29</td>\n",
              "      <td>0.00131</td>\n",
              "      <td>0.00150</td>\n",
              "      <td>23.9</td>\n",
              "    </tr>\n",
              "    <tr>\n",
              "      <th>321218</th>\n",
              "      <td>2025-06-16 19:45:44</td>\n",
              "      <td>3.29</td>\n",
              "      <td>0.00131</td>\n",
              "      <td>0.00150</td>\n",
              "      <td>23.9</td>\n",
              "    </tr>\n",
              "    <tr>\n",
              "      <th>321219</th>\n",
              "      <td>2025-06-16 19:45:44</td>\n",
              "      <td>3.29</td>\n",
              "      <td>0.00131</td>\n",
              "      <td>0.00150</td>\n",
              "      <td>23.9</td>\n",
              "    </tr>\n",
              "    <tr>\n",
              "      <th>321220</th>\n",
              "      <td>2025-06-16 19:45:44</td>\n",
              "      <td>3.29</td>\n",
              "      <td>0.00131</td>\n",
              "      <td>0.00150</td>\n",
              "      <td>23.9</td>\n",
              "    </tr>\n",
              "    <tr>\n",
              "      <th>321221</th>\n",
              "      <td>2025-06-16 19:45:44</td>\n",
              "      <td>3.29</td>\n",
              "      <td>0.00131</td>\n",
              "      <td>0.00150</td>\n",
              "      <td>23.9</td>\n",
              "    </tr>\n",
              "  </tbody>\n",
              "</table>\n",
              "<p>321222 rows × 5 columns</p>\n",
              "</div>"
            ],
            "text/plain": [
              "                      time   NO2   NO2_AE   NO2_WE temperatura\n",
              "0      2025-03-07 13:19:00  3.29  0.00131  0.00150        29.1\n",
              "1      2025-03-07 13:20:13  3.28  0.00150  0.00131        29.1\n",
              "2      2025-03-07 13:21:25  3.29  0.00131  0.00150        29.1\n",
              "3      2025-03-07 13:22:32  3.29  0.00131  0.00150        29.2\n",
              "4      2025-03-07 13:23:38  3.28  0.00150  0.00150        29.2\n",
              "...                    ...   ...      ...      ...         ...\n",
              "321217 2025-06-16 19:45:44  3.29  0.00131  0.00150        23.9\n",
              "321218 2025-06-16 19:45:44  3.29  0.00131  0.00150        23.9\n",
              "321219 2025-06-16 19:45:44  3.29  0.00131  0.00150        23.9\n",
              "321220 2025-06-16 19:45:44  3.29  0.00131  0.00150        23.9\n",
              "321221 2025-06-16 19:45:44  3.29  0.00131  0.00150        23.9\n",
              "\n",
              "[321222 rows x 5 columns]"
            ]
          },
          "execution_count": 37,
          "metadata": {},
          "output_type": "execute_result"
        }
      ],
      "source": [
        "#Leitura da base de dados da estação grafana com os dados de CO\n",
        "df_bestNO2 = pd.read_csv('best-no2.csv')\n",
        "df_ae = pd.read_csv(\"no2_ae.csv\")\n",
        "df_we = pd.read_csv(\"no2_we.csv\")\n",
        "df_temp = pd.read_csv(\"temperatura.csv\") #df da temperatura\n",
        "\n",
        "df_temp.columns = ['time', 'temperatura']\n",
        "\n",
        "\n",
        "df_bestNO2 =df_bestNO2.dropna()\n",
        "df_temp.dropna(subset=['temperatura'], inplace=True)\n",
        "\n",
        "# #Conversão do timestamp em milissegundos para datetime\n",
        "df_bestNO2['time'] = pd.to_datetime(df_bestNO2['time']) \n",
        "\n",
        "\n",
        "# #padronizando time nas tabelas\n",
        "df_bestNO2['time'] = pd.to_datetime(df_bestNO2['time'], unit='ms').dt.round('1s')\n",
        "df_ae['time'] = pd.to_datetime(df_ae['time']).dt.round('1s')\n",
        "df_we['time'] = pd.to_datetime(df_we['time']).dt.round('1s')\n",
        "df_temp['time'] = pd.to_datetime(df_temp['time']).dt.round('1s')\n",
        "\n",
        "# #Limpeza das colunas de AE e WE (remover \" ppb\" e converter para float)\n",
        "df_bestNO2['NO2'] = df_bestNO2['NO2'].str.replace(' ppb', '', regex=False).astype(float)\n",
        "df_ae['NO2_AE'] = df_ae['NO2_AE'].str.replace(' ppb', '', regex=False).astype(float)\n",
        "df_we['NO2_WE'] = df_we['NO2_WE'].str.replace(' ppb', '', regex=False).astype(float)\n",
        "df_temp['temperatura'] = df_temp['temperatura'].str.replace(' °C', '', regex=False) #eliminando strings\n",
        "\n",
        "# #Mesclagem com base na coluna 'time'\n",
        "df = df_bestNO2.merge(df_ae, on='time', how='inner') \\\n",
        "               .merge(df_we, on='time', how='inner') \\\n",
        "               .merge(df_temp, on= 'time', how='inner')\n",
        "\n",
        "df\n",
        "#ALPHASENSE. Designing a potentiostatic circuit. 2022. Disponível em: <https://www.alphasense.com/wp-content/uploads/2022/10/AAN\\_105-03\\_App-Note\\_V0.pdf>.Citado na página 23"
      ]
    },
    {
      "cell_type": "code",
      "execution_count": 38,
      "metadata": {},
      "outputs": [
        {
          "data": {
            "text/html": [
              "<div>\n",
              "<style scoped>\n",
              "    .dataframe tbody tr th:only-of-type {\n",
              "        vertical-align: middle;\n",
              "    }\n",
              "\n",
              "    .dataframe tbody tr th {\n",
              "        vertical-align: top;\n",
              "    }\n",
              "\n",
              "    .dataframe thead th {\n",
              "        text-align: right;\n",
              "    }\n",
              "</style>\n",
              "<table border=\"1\" class=\"dataframe\">\n",
              "  <thead>\n",
              "    <tr style=\"text-align: right;\">\n",
              "      <th></th>\n",
              "      <th>time</th>\n",
              "      <th>e1_anem</th>\n",
              "      <th>e1_anem_volt</th>\n",
              "      <th>e1_co</th>\n",
              "      <th>e1_co_2</th>\n",
              "      <th>e1_co_3</th>\n",
              "      <th>e1_co_4</th>\n",
              "      <th>e1_co_ae</th>\n",
              "      <th>e1_co_we</th>\n",
              "      <th>e1_location</th>\n",
              "      <th>...</th>\n",
              "      <th>iag_pm25</th>\n",
              "      <th>iag_pmcoarse</th>\n",
              "      <th>iag_pressure</th>\n",
              "      <th>iag_rainfalltotal</th>\n",
              "      <th>iag_sigma</th>\n",
              "      <th>iag_so2</th>\n",
              "      <th>iag_solarradiation</th>\n",
              "      <th>iag_wd</th>\n",
              "      <th>iag_ws</th>\n",
              "      <th>pin_umid</th>\n",
              "    </tr>\n",
              "  </thead>\n",
              "  <tbody>\n",
              "    <tr>\n",
              "      <th>0</th>\n",
              "      <td>2023-02-15 13:41:00</td>\n",
              "      <td>12.036327</td>\n",
              "      <td>NaN</td>\n",
              "      <td>-1315.716919</td>\n",
              "      <td>459.329041</td>\n",
              "      <td>465.226715</td>\n",
              "      <td>598.345581</td>\n",
              "      <td>NaN</td>\n",
              "      <td>NaN</td>\n",
              "      <td>NaN</td>\n",
              "      <td>...</td>\n",
              "      <td>NaN</td>\n",
              "      <td>NaN</td>\n",
              "      <td>NaN</td>\n",
              "      <td>NaN</td>\n",
              "      <td>NaN</td>\n",
              "      <td>NaN</td>\n",
              "      <td>NaN</td>\n",
              "      <td>NaN</td>\n",
              "      <td>NaN</td>\n",
              "      <td>NaN</td>\n",
              "    </tr>\n",
              "    <tr>\n",
              "      <th>1</th>\n",
              "      <td>2023-02-15 13:42:00</td>\n",
              "      <td>11.174897</td>\n",
              "      <td>NaN</td>\n",
              "      <td>-1575.367554</td>\n",
              "      <td>385.721252</td>\n",
              "      <td>395.833496</td>\n",
              "      <td>624.081055</td>\n",
              "      <td>NaN</td>\n",
              "      <td>NaN</td>\n",
              "      <td>NaN</td>\n",
              "      <td>...</td>\n",
              "      <td>NaN</td>\n",
              "      <td>NaN</td>\n",
              "      <td>NaN</td>\n",
              "      <td>NaN</td>\n",
              "      <td>NaN</td>\n",
              "      <td>NaN</td>\n",
              "      <td>NaN</td>\n",
              "      <td>NaN</td>\n",
              "      <td>NaN</td>\n",
              "      <td>NaN</td>\n",
              "    </tr>\n",
              "    <tr>\n",
              "      <th>2</th>\n",
              "      <td>2023-02-15 13:43:00</td>\n",
              "      <td>11.703624</td>\n",
              "      <td>NaN</td>\n",
              "      <td>-3228.860352</td>\n",
              "      <td>-520.005371</td>\n",
              "      <td>-492.953430</td>\n",
              "      <td>117.647057</td>\n",
              "      <td>NaN</td>\n",
              "      <td>NaN</td>\n",
              "      <td>NaN</td>\n",
              "      <td>...</td>\n",
              "      <td>NaN</td>\n",
              "      <td>NaN</td>\n",
              "      <td>NaN</td>\n",
              "      <td>NaN</td>\n",
              "      <td>NaN</td>\n",
              "      <td>NaN</td>\n",
              "      <td>NaN</td>\n",
              "      <td>NaN</td>\n",
              "      <td>NaN</td>\n",
              "      <td>NaN</td>\n",
              "    </tr>\n",
              "    <tr>\n",
              "      <th>3</th>\n",
              "      <td>2023-02-15 13:44:00</td>\n",
              "      <td>NaN</td>\n",
              "      <td>NaN</td>\n",
              "      <td>NaN</td>\n",
              "      <td>NaN</td>\n",
              "      <td>NaN</td>\n",
              "      <td>NaN</td>\n",
              "      <td>NaN</td>\n",
              "      <td>NaN</td>\n",
              "      <td>NaN</td>\n",
              "      <td>...</td>\n",
              "      <td>NaN</td>\n",
              "      <td>NaN</td>\n",
              "      <td>NaN</td>\n",
              "      <td>NaN</td>\n",
              "      <td>NaN</td>\n",
              "      <td>NaN</td>\n",
              "      <td>NaN</td>\n",
              "      <td>NaN</td>\n",
              "      <td>NaN</td>\n",
              "      <td>NaN</td>\n",
              "    </tr>\n",
              "    <tr>\n",
              "      <th>4</th>\n",
              "      <td>2023-02-15 13:45:00</td>\n",
              "      <td>11.888990</td>\n",
              "      <td>NaN</td>\n",
              "      <td>-1663.602783</td>\n",
              "      <td>315.461090</td>\n",
              "      <td>325.980530</td>\n",
              "      <td>563.419250</td>\n",
              "      <td>NaN</td>\n",
              "      <td>NaN</td>\n",
              "      <td>NaN</td>\n",
              "      <td>...</td>\n",
              "      <td>NaN</td>\n",
              "      <td>NaN</td>\n",
              "      <td>NaN</td>\n",
              "      <td>NaN</td>\n",
              "      <td>NaN</td>\n",
              "      <td>NaN</td>\n",
              "      <td>NaN</td>\n",
              "      <td>NaN</td>\n",
              "      <td>NaN</td>\n",
              "      <td>NaN</td>\n",
              "    </tr>\n",
              "  </tbody>\n",
              "</table>\n",
              "<p>5 rows × 181 columns</p>\n",
              "</div>"
            ],
            "text/plain": [
              "                  time    e1_anem  e1_anem_volt        e1_co     e1_co_2  \\\n",
              "0  2023-02-15 13:41:00  12.036327           NaN -1315.716919  459.329041   \n",
              "1  2023-02-15 13:42:00  11.174897           NaN -1575.367554  385.721252   \n",
              "2  2023-02-15 13:43:00  11.703624           NaN -3228.860352 -520.005371   \n",
              "3  2023-02-15 13:44:00        NaN           NaN          NaN         NaN   \n",
              "4  2023-02-15 13:45:00  11.888990           NaN -1663.602783  315.461090   \n",
              "\n",
              "      e1_co_3     e1_co_4  e1_co_ae  e1_co_we  e1_location  ...  iag_pm25  \\\n",
              "0  465.226715  598.345581       NaN       NaN          NaN  ...       NaN   \n",
              "1  395.833496  624.081055       NaN       NaN          NaN  ...       NaN   \n",
              "2 -492.953430  117.647057       NaN       NaN          NaN  ...       NaN   \n",
              "3         NaN         NaN       NaN       NaN          NaN  ...       NaN   \n",
              "4  325.980530  563.419250       NaN       NaN          NaN  ...       NaN   \n",
              "\n",
              "   iag_pmcoarse  iag_pressure  iag_rainfalltotal  iag_sigma  iag_so2  \\\n",
              "0           NaN           NaN                NaN        NaN      NaN   \n",
              "1           NaN           NaN                NaN        NaN      NaN   \n",
              "2           NaN           NaN                NaN        NaN      NaN   \n",
              "3           NaN           NaN                NaN        NaN      NaN   \n",
              "4           NaN           NaN                NaN        NaN      NaN   \n",
              "\n",
              "   iag_solarradiation  iag_wd  iag_ws  pin_umid  \n",
              "0                 NaN     NaN     NaN       NaN  \n",
              "1                 NaN     NaN     NaN       NaN  \n",
              "2                 NaN     NaN     NaN       NaN  \n",
              "3                 NaN     NaN     NaN       NaN  \n",
              "4                 NaN     NaN     NaN       NaN  \n",
              "\n",
              "[5 rows x 181 columns]"
            ]
          },
          "execution_count": 38,
          "metadata": {},
          "output_type": "execute_result"
        }
      ],
      "source": [
        "#Leitura da base de dados da estação IAG de São Paulo\n",
        "#print(aqm.shape)\n",
        "#print(aqm.describe())\n",
        "aqm = pd.read_csv('envcity_aqm_df.csv')\n",
        "aqm.head()"
      ]
    },
    {
      "cell_type": "code",
      "execution_count": 39,
      "metadata": {},
      "outputs": [
        {
          "data": {
            "text/html": [
              "<div>\n",
              "<style scoped>\n",
              "    .dataframe tbody tr th:only-of-type {\n",
              "        vertical-align: middle;\n",
              "    }\n",
              "\n",
              "    .dataframe tbody tr th {\n",
              "        vertical-align: top;\n",
              "    }\n",
              "\n",
              "    .dataframe thead th {\n",
              "        text-align: right;\n",
              "    }\n",
              "</style>\n",
              "<table border=\"1\" class=\"dataframe\">\n",
              "  <thead>\n",
              "    <tr style=\"text-align: right;\">\n",
              "      <th></th>\n",
              "      <th>time</th>\n",
              "      <th>e1_no2</th>\n",
              "      <th>iag_no2</th>\n",
              "    </tr>\n",
              "  </thead>\n",
              "  <tbody>\n",
              "    <tr>\n",
              "      <th>40939</th>\n",
              "      <td>2023-03-16 00:00:00</td>\n",
              "      <td>-0.161290</td>\n",
              "      <td>10.40</td>\n",
              "    </tr>\n",
              "    <tr>\n",
              "      <th>40943</th>\n",
              "      <td>2023-03-16 00:04:00</td>\n",
              "      <td>-0.040322</td>\n",
              "      <td>11.69</td>\n",
              "    </tr>\n",
              "    <tr>\n",
              "      <th>40947</th>\n",
              "      <td>2023-03-16 00:08:00</td>\n",
              "      <td>2.983842</td>\n",
              "      <td>11.74</td>\n",
              "    </tr>\n",
              "    <tr>\n",
              "      <th>40951</th>\n",
              "      <td>2023-03-16 00:12:00</td>\n",
              "      <td>-2.459657</td>\n",
              "      <td>12.36</td>\n",
              "    </tr>\n",
              "    <tr>\n",
              "      <th>40954</th>\n",
              "      <td>2023-03-16 00:15:00</td>\n",
              "      <td>-3.064516</td>\n",
              "      <td>9.51</td>\n",
              "    </tr>\n",
              "    <tr>\n",
              "      <th>...</th>\n",
              "      <td>...</td>\n",
              "      <td>...</td>\n",
              "      <td>...</td>\n",
              "    </tr>\n",
              "    <tr>\n",
              "      <th>134275</th>\n",
              "      <td>2023-05-19 19:36:00</td>\n",
              "      <td>11.209678</td>\n",
              "      <td>26.95</td>\n",
              "    </tr>\n",
              "    <tr>\n",
              "      <th>134279</th>\n",
              "      <td>2023-05-19 19:40:00</td>\n",
              "      <td>9.274194</td>\n",
              "      <td>26.86</td>\n",
              "    </tr>\n",
              "    <tr>\n",
              "      <th>134283</th>\n",
              "      <td>2023-05-19 19:44:00</td>\n",
              "      <td>9.516129</td>\n",
              "      <td>26.45</td>\n",
              "    </tr>\n",
              "    <tr>\n",
              "      <th>134287</th>\n",
              "      <td>2023-05-19 19:48:00</td>\n",
              "      <td>13.991936</td>\n",
              "      <td>27.68</td>\n",
              "    </tr>\n",
              "    <tr>\n",
              "      <th>134290</th>\n",
              "      <td>2023-05-19 19:51:00</td>\n",
              "      <td>15.322580</td>\n",
              "      <td>26.38</td>\n",
              "    </tr>\n",
              "  </tbody>\n",
              "</table>\n",
              "<p>21811 rows × 3 columns</p>\n",
              "</div>"
            ],
            "text/plain": [
              "                       time     e1_no2  iag_no2\n",
              "40939   2023-03-16 00:00:00  -0.161290    10.40\n",
              "40943   2023-03-16 00:04:00  -0.040322    11.69\n",
              "40947   2023-03-16 00:08:00   2.983842    11.74\n",
              "40951   2023-03-16 00:12:00  -2.459657    12.36\n",
              "40954   2023-03-16 00:15:00  -3.064516     9.51\n",
              "...                     ...        ...      ...\n",
              "134275  2023-05-19 19:36:00  11.209678    26.95\n",
              "134279  2023-05-19 19:40:00   9.274194    26.86\n",
              "134283  2023-05-19 19:44:00   9.516129    26.45\n",
              "134287  2023-05-19 19:48:00  13.991936    27.68\n",
              "134290  2023-05-19 19:51:00  15.322580    26.38\n",
              "\n",
              "[21811 rows x 3 columns]"
            ]
          },
          "execution_count": 39,
          "metadata": {},
          "output_type": "execute_result"
        }
      ],
      "source": [
        "#filtrando as linhas onde e1_co tem valores válidos\n",
        "df_filtrado = aqm[aqm['e1_no2'].notna()][['time', 'e1_no2', 'iag_no2']]\n",
        "\n",
        "#remover linhas onde iag_co é NaN\n",
        "df_filtradoIAG = df_filtrado[df_filtrado['iag_no2'].notna()]\n",
        "\n",
        "df_filtradoIAG "
      ]
    },
    {
      "cell_type": "code",
      "execution_count": 40,
      "metadata": {},
      "outputs": [
        {
          "data": {
            "text/html": [
              "<div>\n",
              "<style scoped>\n",
              "    .dataframe tbody tr th:only-of-type {\n",
              "        vertical-align: middle;\n",
              "    }\n",
              "\n",
              "    .dataframe tbody tr th {\n",
              "        vertical-align: top;\n",
              "    }\n",
              "\n",
              "    .dataframe thead th {\n",
              "        text-align: right;\n",
              "    }\n",
              "</style>\n",
              "<table border=\"1\" class=\"dataframe\">\n",
              "  <thead>\n",
              "    <tr style=\"text-align: right;\">\n",
              "      <th></th>\n",
              "      <th>time</th>\n",
              "      <th>NO2</th>\n",
              "      <th>NO2_AE</th>\n",
              "      <th>NO2_WE</th>\n",
              "      <th>temperatura</th>\n",
              "      <th>iag_no2</th>\n",
              "    </tr>\n",
              "  </thead>\n",
              "  <tbody>\n",
              "    <tr>\n",
              "      <th>0</th>\n",
              "      <td>2025-03-07 13:19:00</td>\n",
              "      <td>3.29</td>\n",
              "      <td>0.00131</td>\n",
              "      <td>0.00150</td>\n",
              "      <td>29.1</td>\n",
              "      <td>10.40</td>\n",
              "    </tr>\n",
              "    <tr>\n",
              "      <th>1</th>\n",
              "      <td>2025-03-07 13:20:13</td>\n",
              "      <td>3.28</td>\n",
              "      <td>0.00150</td>\n",
              "      <td>0.00131</td>\n",
              "      <td>29.1</td>\n",
              "      <td>11.69</td>\n",
              "    </tr>\n",
              "    <tr>\n",
              "      <th>2</th>\n",
              "      <td>2025-03-07 13:21:25</td>\n",
              "      <td>3.29</td>\n",
              "      <td>0.00131</td>\n",
              "      <td>0.00150</td>\n",
              "      <td>29.1</td>\n",
              "      <td>11.74</td>\n",
              "    </tr>\n",
              "    <tr>\n",
              "      <th>3</th>\n",
              "      <td>2025-03-07 13:22:32</td>\n",
              "      <td>3.29</td>\n",
              "      <td>0.00131</td>\n",
              "      <td>0.00150</td>\n",
              "      <td>29.2</td>\n",
              "      <td>12.36</td>\n",
              "    </tr>\n",
              "    <tr>\n",
              "      <th>4</th>\n",
              "      <td>2025-03-07 13:23:38</td>\n",
              "      <td>3.28</td>\n",
              "      <td>0.00150</td>\n",
              "      <td>0.00150</td>\n",
              "      <td>29.2</td>\n",
              "      <td>9.51</td>\n",
              "    </tr>\n",
              "    <tr>\n",
              "      <th>...</th>\n",
              "      <td>...</td>\n",
              "      <td>...</td>\n",
              "      <td>...</td>\n",
              "      <td>...</td>\n",
              "      <td>...</td>\n",
              "      <td>...</td>\n",
              "    </tr>\n",
              "    <tr>\n",
              "      <th>21806</th>\n",
              "      <td>2025-04-02 17:45:12</td>\n",
              "      <td>4.39</td>\n",
              "      <td>0.00131</td>\n",
              "      <td>0.34500</td>\n",
              "      <td>29.2</td>\n",
              "      <td>26.95</td>\n",
              "    </tr>\n",
              "    <tr>\n",
              "      <th>21807</th>\n",
              "      <td>2025-04-02 17:46:18</td>\n",
              "      <td>4.49</td>\n",
              "      <td>0.00131</td>\n",
              "      <td>0.37600</td>\n",
              "      <td>29.2</td>\n",
              "      <td>26.86</td>\n",
              "    </tr>\n",
              "    <tr>\n",
              "      <th>21808</th>\n",
              "      <td>2025-04-02 17:47:25</td>\n",
              "      <td>4.31</td>\n",
              "      <td>0.00131</td>\n",
              "      <td>0.32000</td>\n",
              "      <td>29.2</td>\n",
              "      <td>26.45</td>\n",
              "    </tr>\n",
              "    <tr>\n",
              "      <th>21809</th>\n",
              "      <td>2025-04-02 17:48:31</td>\n",
              "      <td>4.54</td>\n",
              "      <td>0.00131</td>\n",
              "      <td>0.39100</td>\n",
              "      <td>29.2</td>\n",
              "      <td>27.68</td>\n",
              "    </tr>\n",
              "    <tr>\n",
              "      <th>21810</th>\n",
              "      <td>2025-04-02 17:50:44</td>\n",
              "      <td>4.52</td>\n",
              "      <td>0.00131</td>\n",
              "      <td>0.38500</td>\n",
              "      <td>29.2</td>\n",
              "      <td>26.38</td>\n",
              "    </tr>\n",
              "  </tbody>\n",
              "</table>\n",
              "<p>21811 rows × 6 columns</p>\n",
              "</div>"
            ],
            "text/plain": [
              "                     time   NO2   NO2_AE   NO2_WE temperatura  iag_no2\n",
              "0     2025-03-07 13:19:00  3.29  0.00131  0.00150        29.1    10.40\n",
              "1     2025-03-07 13:20:13  3.28  0.00150  0.00131        29.1    11.69\n",
              "2     2025-03-07 13:21:25  3.29  0.00131  0.00150        29.1    11.74\n",
              "3     2025-03-07 13:22:32  3.29  0.00131  0.00150        29.2    12.36\n",
              "4     2025-03-07 13:23:38  3.28  0.00150  0.00150        29.2     9.51\n",
              "...                   ...   ...      ...      ...         ...      ...\n",
              "21806 2025-04-02 17:45:12  4.39  0.00131  0.34500        29.2    26.95\n",
              "21807 2025-04-02 17:46:18  4.49  0.00131  0.37600        29.2    26.86\n",
              "21808 2025-04-02 17:47:25  4.31  0.00131  0.32000        29.2    26.45\n",
              "21809 2025-04-02 17:48:31  4.54  0.00131  0.39100        29.2    27.68\n",
              "21810 2025-04-02 17:50:44  4.52  0.00131  0.38500        29.2    26.38\n",
              "\n",
              "[21811 rows x 6 columns]"
            ]
          },
          "execution_count": 40,
          "metadata": {},
          "output_type": "execute_result"
        }
      ],
      "source": [
        "\n",
        "df= df.iloc[:len(df_filtradoIAG)].copy() #iloc garante mesmo número de linhas para evitar erro.\n",
        "# Adiciona a coluna 'iag_co' ao DataFrame 'df', usando os dados da coluna 'iag_co' de 'df_filtradoIAG'\n",
        "\n",
        "df['iag_no2'] = df_filtradoIAG['iag_no2'].reset_index(drop=True) # evita que o índice antigo seja mantido, o que quebraria a correspondência entre as linhas dos DataFrames.\n",
        "\n",
        "df = df.dropna()\n",
        "df\n"
      ]
    },
    {
      "cell_type": "markdown",
      "metadata": {},
      "source": [
        "## Cálculo da concentração em ppm com coeficientes da Alphasense"
      ]
    },
    {
      "cell_type": "code",
      "execution_count": 7,
      "metadata": {},
      "outputs": [],
      "source": [
        "\n",
        "## JA CALCULA EM PPB CABEÇA DE AUTOMATO\n",
        "# labels =  ['CO_AE', 'CO_WE']\n",
        "\n",
        "# label_ref= 'iag_co'\n",
        "\n",
        "# co = Alphasense_Sensors(\"CO-B4\", \"162741354\")\n",
        "\n",
        "# ae = df[labels[0]]*1000\n",
        "# we = df[labels[1]]*1000\n",
        "# we"
      ]
    },
    {
      "cell_type": "code",
      "execution_count": 8,
      "metadata": {},
      "outputs": [],
      "source": [
        "# ppb = ((we - co.electronic_we) - (ae - co.electronic_ae))/co.sensitivity\n",
        "\n",
        "# df['CO'] = ppb / 1000\n"
      ]
    },
    {
      "cell_type": "markdown",
      "metadata": {
        "id": "YOau6CXpWRZl"
      },
      "source": [
        "# <font color=yellow>**Parte 2**: Aplicação do algoritmo RF e DecisionTreeRegressor"
      ]
    },
    {
      "cell_type": "code",
      "execution_count": 41,
      "metadata": {},
      "outputs": [
        {
          "data": {
            "text/plain": [
              "0        10.40\n",
              "1        11.69\n",
              "2        11.74\n",
              "3        12.36\n",
              "4         9.51\n",
              "         ...  \n",
              "21806    26.95\n",
              "21807    26.86\n",
              "21808    26.45\n",
              "21809    27.68\n",
              "21810    26.38\n",
              "Name: iag_no2, Length: 21811, dtype: float64"
            ]
          },
          "execution_count": 41,
          "metadata": {},
          "output_type": "execute_result"
        }
      ],
      "source": [
        "#https://pt.stackoverflow.com/questions/428437/como-funciona-o-m%C3%A9todo-train-test-split-no-scikit-learn\n",
        "\n",
        "#Preparo do dataset para regressão\n",
        "labels =  ['NO2_AE', 'NO2_WE']\n",
        "label_ref= 'iag_no2'\n",
        "Yco = df[label_ref] # Y do IAG\n",
        "\n",
        "Xco = df.loc[Yco.index][['NO2', 'NO2_AE', 'NO2_WE']] # X da estação grafana\n",
        "Yco\n"
      ]
    },
    {
      "cell_type": "markdown",
      "metadata": {},
      "source": [
        "Split dos dados"
      ]
    },
    {
      "cell_type": "code",
      "execution_count": 42,
      "metadata": {},
      "outputs": [],
      "source": [
        "X_train, X_valid, y_train, y_valid = train_test_split(Xco, Yco, train_size=0.8)\n",
        "X_train, X_test, y_train, y_test = train_test_split(X_train, y_train)"
      ]
    },
    {
      "cell_type": "markdown",
      "metadata": {},
      "source": [
        "Validação Cruzada Repetida"
      ]
    },
    {
      "cell_type": "code",
      "execution_count": 43,
      "metadata": {},
      "outputs": [],
      "source": [
        "kfold = RepeatedKFold(n_splits = 5, n_repeats = 1)\n",
        "# kfold = StratifiedKFold(n_splits = 5)"
      ]
    },
    {
      "cell_type": "code",
      "execution_count": 44,
      "metadata": {},
      "outputs": [
        {
          "name": "stdout",
          "output_type": "stream",
          "text": [
            "(13086, 3)\n",
            "(4362, 3)\n",
            "(4363, 3)\n"
          ]
        }
      ],
      "source": [
        "print(X_train.shape)\n",
        "print(X_test.shape)\n",
        "print(X_valid.shape)"
      ]
    },
    {
      "cell_type": "markdown",
      "metadata": {},
      "source": [
        "Otimização de hiperparametros (RF)"
      ]
    },
    {
      "cell_type": "code",
      "execution_count": 45,
      "metadata": {},
      "outputs": [],
      "source": [
        "param_grid = {\"randomforestregressor__n_estimators\": np.array([32, 128, 512, 1024]),\n",
        "              # \"randomforestregressor__max_depth\": None,\n",
        "              #  \"randomforestregressor__oob_score\" : [True],\n",
        "              # \"randomforestregressor__bootstrap\" : [False, True],\n",
        "              # 'randomforestregressor__max_features': [\"sqrt\", \"log2\", None],\n",
        "              'randomforestregressor__criterion': ['squared_error' ]}# 'absolute_error', 'friedman_mse']}"
      ]
    },
    {
      "cell_type": "code",
      "execution_count": 46,
      "metadata": {},
      "outputs": [
        {
          "name": "stdout",
          "output_type": "stream",
          "text": [
            "Fitting 5 folds for each of 4 candidates, totalling 20 fits\n",
            "[CV 4/5] END randomforestregressor__criterion=squared_error, randomforestregressor__n_estimators=32;, score=(train=0.012, test=-0.006) total time=   0.2s\n",
            "[CV 3/5] END randomforestregressor__criterion=squared_error, randomforestregressor__n_estimators=32;, score=(train=0.013, test=-0.008) total time=   0.2s\n",
            "[CV 5/5] END randomforestregressor__criterion=squared_error, randomforestregressor__n_estimators=32;, score=(train=0.015, test=-0.004) total time=   0.3s\n",
            "[CV 2/5] END randomforestregressor__criterion=squared_error, randomforestregressor__n_estimators=32;, score=(train=0.014, test=-0.009) total time=   0.4s\n",
            "[CV 1/5] END randomforestregressor__criterion=squared_error, randomforestregressor__n_estimators=32;, score=(train=0.017, test=-0.005) total time=   0.4s\n",
            "[CV 1/5] END randomforestregressor__criterion=squared_error, randomforestregressor__n_estimators=128;, score=(train=0.018, test=-0.005) total time=   0.8s\n",
            "[CV 4/5] END randomforestregressor__criterion=squared_error, randomforestregressor__n_estimators=128;, score=(train=0.013, test=-0.006) total time=   0.8s\n",
            "[CV 3/5] END randomforestregressor__criterion=squared_error, randomforestregressor__n_estimators=128;, score=(train=0.013, test=-0.007) total time=   0.9s\n",
            "[CV 2/5] END randomforestregressor__criterion=squared_error, randomforestregressor__n_estimators=128;, score=(train=0.014, test=-0.009) total time=   0.9s\n",
            "[CV 5/5] END randomforestregressor__criterion=squared_error, randomforestregressor__n_estimators=128;, score=(train=0.015, test=-0.005) total time=   1.0s\n",
            "[CV 5/5] END randomforestregressor__criterion=squared_error, randomforestregressor__n_estimators=512;, score=(train=0.015, test=-0.005) total time=   2.8s\n",
            "[CV 4/5] END randomforestregressor__criterion=squared_error, randomforestregressor__n_estimators=512;, score=(train=0.013, test=-0.005) total time=   2.9s\n",
            "[CV 1/5] END randomforestregressor__criterion=squared_error, randomforestregressor__n_estimators=512;, score=(train=0.018, test=-0.005) total time=   3.0s\n",
            "[CV 3/5] END randomforestregressor__criterion=squared_error, randomforestregressor__n_estimators=512;, score=(train=0.013, test=-0.006) total time=   3.0s\n",
            "[CV 2/5] END randomforestregressor__criterion=squared_error, randomforestregressor__n_estimators=512;, score=(train=0.014, test=-0.009) total time=   3.2s\n",
            "[CV 5/5] END randomforestregressor__criterion=squared_error, randomforestregressor__n_estimators=1024;, score=(train=0.015, test=-0.006) total time=   4.2s\n",
            "[CV 4/5] END randomforestregressor__criterion=squared_error, randomforestregressor__n_estimators=1024;, score=(train=0.013, test=-0.005) total time=   4.4s\n",
            "[CV 1/5] END randomforestregressor__criterion=squared_error, randomforestregressor__n_estimators=1024;, score=(train=0.018, test=-0.005) total time=   4.9s\n",
            "[CV 3/5] END randomforestregressor__criterion=squared_error, randomforestregressor__n_estimators=1024;, score=(train=0.013, test=-0.006) total time=   4.5s\n",
            "[CV 2/5] END randomforestregressor__criterion=squared_error, randomforestregressor__n_estimators=1024;, score=(train=0.014, test=-0.009) total time=   4.7s\n"
          ]
        }
      ],
      "source": [
        "# criação do pipeline de regressao com RF\n",
        "regressor = make_pipeline(RandomForestRegressor())\n",
        "\n",
        "linReg = LinearRegression().fit(X_train, y_train)\n",
        "\n",
        "#GridSearch com validação cruzada\n",
        "gs = GridSearchCV(regressor, param_grid=param_grid, n_jobs=-1, verbose = 3,\\\n",
        "                  return_train_score=True, cv = kfold, error_score = 'raise')\n",
        "\n",
        "    \n",
        "res = gs.fit(X_train,y_train)\n"
      ]
    },
    {
      "cell_type": "markdown",
      "metadata": {},
      "source": [
        "Resultado otimização"
      ]
    },
    {
      "cell_type": "code",
      "execution_count": 47,
      "metadata": {},
      "outputs": [
        {
          "name": "stdout",
          "output_type": "stream",
          "text": [
            "   mean_fit_time  std_fit_time  mean_score_time  std_score_time  \\\n",
            "0       0.289518      0.070194         0.016897        0.011127   \n",
            "1       0.855332      0.075995         0.041032        0.014443   \n",
            "2       2.853928      0.132566         0.118501        0.005654   \n",
            "3       4.393916      0.252361         0.150216        0.002000   \n",
            "\n",
            "  param_randomforestregressor__criterion  \\\n",
            "0                          squared_error   \n",
            "1                          squared_error   \n",
            "2                          squared_error   \n",
            "3                          squared_error   \n",
            "\n",
            "   param_randomforestregressor__n_estimators  \\\n",
            "0                                         32   \n",
            "1                                        128   \n",
            "2                                        512   \n",
            "3                                       1024   \n",
            "\n",
            "                                              params  split0_test_score  \\\n",
            "0  {'randomforestregressor__criterion': 'squared_...          -0.005194   \n",
            "1  {'randomforestregressor__criterion': 'squared_...          -0.004915   \n",
            "2  {'randomforestregressor__criterion': 'squared_...          -0.005032   \n",
            "3  {'randomforestregressor__criterion': 'squared_...          -0.004902   \n",
            "\n",
            "   split1_test_score  split2_test_score  ...  mean_test_score  std_test_score  \\\n",
            "0          -0.008860          -0.007750  ...        -0.006338        0.001687   \n",
            "1          -0.008711          -0.006843  ...        -0.006258        0.001407   \n",
            "2          -0.008940          -0.005559  ...        -0.006051        0.001454   \n",
            "3          -0.008519          -0.005692  ...        -0.006003        0.001292   \n",
            "\n",
            "   rank_test_score  split0_train_score  split1_train_score  \\\n",
            "0                4            0.017432            0.013882   \n",
            "1                3            0.017573            0.014160   \n",
            "2                2            0.017611            0.014338   \n",
            "3                1            0.017614            0.014369   \n",
            "\n",
            "   split2_train_score  split3_train_score  split4_train_score  \\\n",
            "0            0.012624            0.012318            0.015180   \n",
            "1            0.013003            0.012552            0.015306   \n",
            "2            0.012919            0.012556            0.015425   \n",
            "3            0.012959            0.012563            0.015434   \n",
            "\n",
            "   mean_train_score  std_train_score  \n",
            "0          0.014287         0.001870  \n",
            "1          0.014519         0.001802  \n",
            "2          0.014570         0.001834  \n",
            "3          0.014588         0.001826  \n",
            "\n",
            "[4 rows x 22 columns]\n"
          ]
        },
        {
          "data": {
            "image/png": "[encoded data removed]",
            "text/plain": [
              "<Figure size 640x480 with 1 Axes>"
            ]
          },
          "metadata": {},
          "output_type": "display_data"
        }
      ],
      "source": [
        "\n",
        "print(train_data := pd.DataFrame(res.cv_results_))\n",
        "\n",
        "with open('tabela_treino.tex', 'w') as f:\n",
        "    f.write(train_data.style.to_latex())\n",
        "    \n",
        "    \n",
        "var = 'squared_error'\n",
        "var2 = 'sqrt'\n",
        "# mse = train_data.query(\"param_randomforestregressor__criterion == @var and param_randomforestregressor__max_features == @var2\")\n",
        "mse_df = train_data.query(\"param_randomforestregressor__criterion == @var\")\n",
        "\n",
        "with open('tabela_treino_mse.tex', 'w') as f:\n",
        "    f.write(mse_df.style.to_latex())\n",
        "    \n",
        "mse_df = mse_df.sort_values('param_randomforestregressor__n_estimators', axis = 0)\n",
        "\n",
        "# Plot the responses for different events and regions\n",
        "sns.lineplot(x=\"param_randomforestregressor__n_estimators\", y=\"mean_test_score\",\n",
        "             #hue=\"param_randomforestregressor__max_features\", # style=\"event\",\n",
        "             data=train_data)\n",
        "plt.show()\n"
      ]
    },
    {
      "cell_type": "code",
      "execution_count": 48,
      "metadata": {},
      "outputs": [],
      "source": [
        "\n",
        "def mse(y, yref):\n",
        "    return np.mean(np.square(np.subtract(yref, y)))\n",
        "\n",
        "def rmse(y, yref):\n",
        "    return np.sqrt(mse(y, yref))"
      ]
    },
    {
      "cell_type": "code",
      "execution_count": 51,
      "metadata": {},
      "outputs": [
        {
          "name": "stdout",
          "output_type": "stream",
          "text": [
            "Linear Regression Model\n",
            "Train Score:  0.003089783723352668\n",
            "Test Score:  0.004406037095398552\n",
            "Validation Score:  0.005504173737400531\n",
            "RMSE Score:  2606.0301388399366\n",
            "[  59.92476923  996.45448403 -185.12861835]\n"
          ]
        },
        {
          "data": {
            "image/png": "[encoded data removed]",
            "text/plain": [
              "<Figure size 640x480 with 1 Axes>"
            ]
          },
          "metadata": {},
          "output_type": "display_data"
        }
      ],
      "source": [
        "print(\"Linear Regression Model\")\n",
        "print(\"Train Score: \", linReg.score(X_train, y_train))\n",
        "print(\"Test Score: \", linReg.score(X_test, y_test))\n",
        "print(\"Validation Score: \", r2_score(y_valid, linReg.predict(X_valid)))\n",
        "print(\"RMSE Score: \", 100*rmse(y_train, linReg.predict(X_train)))\n",
        "\n",
        "print(linReg.coef_)\n",
        "\n",
        "sns.regplot(x = y_valid, y = linReg.predict(X_valid))\n",
        "sns.regplot(x = y_test, y = linReg.predict(X_test))\n",
        "plt.gca().axline((0,0), slope=1)\n",
        "plt.show()"
      ]
    },
    {
      "cell_type": "code",
      "execution_count": null,
      "metadata": {},
      "outputs": [],
      "source": []
    },
    {
      "cell_type": "code",
      "execution_count": 43,
      "metadata": {},
      "outputs": [],
      "source": [
        "# plt.figure(figsize=(15,5))\n",
        "# plt.plot(df['Time'], df['SO2'])\n",
        "# plt.title('Variação de SO2 ao longo do tempo')\n",
        "# plt.xlabel('Data/Hora')\n",
        "# plt.ylabel('Concentração (ppb)')\n",
        "# #plt.grid()\n",
        "# #plt.show()"
      ]
    },
    {
      "cell_type": "code",
      "execution_count": 28,
      "metadata": {},
      "outputs": [],
      "source": [
        "#Boxplot \n",
        "\n",
        "# plt.figure(figsize=(10,5))\n",
        "# sns.boxplot(x='day', y='SO2', data=df)\n",
        "# plt.title('Distribuição de SO2 por dia')\n",
        "# plt.show()"
      ]
    },
    {
      "cell_type": "code",
      "execution_count": 29,
      "metadata": {},
      "outputs": [],
      "source": [
        "# #analise do horario\n",
        "\n",
        "# plt.figure(figsize=(10,5))\n",
        "# sns.lineplot(x='hour', y='SO2', data=df)\n",
        "# plt.title('Variação média de SO2 por hora')\n",
        "# plt.show()"
      ]
    },
    {
      "cell_type": "code",
      "execution_count": 30,
      "metadata": {},
      "outputs": [],
      "source": [
        "# #compara estatitisticas descritivas entre os dias\n",
        "\n",
        "# df.groupby('day')['SO2'].describe()"
      ]
    },
    {
      "cell_type": "code",
      "execution_count": 32,
      "metadata": {},
      "outputs": [],
      "source": [
        "#variação de SO2 por dia e hora\n",
        "\n",
        "# pivot = df.pivot_table(values='SO2', index='hour', columns='day')\n",
        "# plt.figure(figsize=(10,5))\n",
        "# sns.heatmap(pivot, cmap='YlOrRd')\n",
        "# plt.title('Variação de SO2 por hora e dia')\n",
        "# plt.show()"
      ]
    },
    {
      "cell_type": "code",
      "execution_count": 52,
      "metadata": {
        "id": "uSYASIgeVXND"
      },
      "outputs": [],
      "source": [
        "from sklearn.tree import DecisionTreeRegressor\n",
        "\n",
        "# Criando a classe DecisionTreeRegressor()\n",
        "regressor = DecisionTreeRegressor()\n",
        "\n",
        "# Ajustando o algoritmo a base de dados\n",
        "regressor.fit(X_train, y_train)\n",
        "\n",
        "# Prevendo os resultados\n",
        "y_pred = regressor.predict(X_test)"
      ]
    },
    {
      "cell_type": "code",
      "execution_count": 53,
      "metadata": {
        "colab": {
          "base_uri": "https://localhost:8080/",
          "height": 206
        },
        "id": "gN875uADVjKo",
        "outputId": "fe33075a-d954-4279-8832-0bd0bb7d3173"
      },
      "outputs": [
        {
          "data": {
            "text/html": [
              "<div>\n",
              "<style scoped>\n",
              "    .dataframe tbody tr th:only-of-type {\n",
              "        vertical-align: middle;\n",
              "    }\n",
              "\n",
              "    .dataframe tbody tr th {\n",
              "        vertical-align: top;\n",
              "    }\n",
              "\n",
              "    .dataframe thead th {\n",
              "        text-align: right;\n",
              "    }\n",
              "</style>\n",
              "<table border=\"1\" class=\"dataframe\">\n",
              "  <thead>\n",
              "    <tr style=\"text-align: right;\">\n",
              "      <th></th>\n",
              "      <th>Real Values</th>\n",
              "      <th>Predicted Values</th>\n",
              "    </tr>\n",
              "  </thead>\n",
              "  <tbody>\n",
              "    <tr>\n",
              "      <th>19669</th>\n",
              "      <td>16.28</td>\n",
              "      <td>21.048043</td>\n",
              "    </tr>\n",
              "    <tr>\n",
              "      <th>19175</th>\n",
              "      <td>17.07</td>\n",
              "      <td>25.118182</td>\n",
              "    </tr>\n",
              "    <tr>\n",
              "      <th>15535</th>\n",
              "      <td>9.53</td>\n",
              "      <td>17.125119</td>\n",
              "    </tr>\n",
              "    <tr>\n",
              "      <th>15162</th>\n",
              "      <td>18.52</td>\n",
              "      <td>18.164695</td>\n",
              "    </tr>\n",
              "    <tr>\n",
              "      <th>19976</th>\n",
              "      <td>20.62</td>\n",
              "      <td>17.130000</td>\n",
              "    </tr>\n",
              "  </tbody>\n",
              "</table>\n",
              "</div>"
            ],
            "text/plain": [
              "       Real Values  Predicted Values\n",
              "19669        16.28         21.048043\n",
              "19175        17.07         25.118182\n",
              "15535         9.53         17.125119\n",
              "15162        18.52         18.164695\n",
              "19976        20.62         17.130000"
            ]
          },
          "execution_count": 53,
          "metadata": {},
          "output_type": "execute_result"
        }
      ],
      "source": [
        "# Comparando os valores reais com os valores previstos\n",
        "df = pd.DataFrame({'Real Values':y_test, 'Predicted Values':y_pred})\n",
        "df.head()"
      ]
    },
    {
      "cell_type": "code",
      "execution_count": 54,
      "metadata": {
        "colab": {
          "base_uri": "https://localhost:8080/",
          "height": 542
        },
        "id": "X7S-hktfRWsn",
        "outputId": "31bc57b6-d8b2-4a3a-b81c-30d2f6f2c12b"
      },
      "outputs": [],
      "source": [
        "import plotly.express as px\n",
        "\n",
        "# Plotando gráfico\n",
        "fig = px.line(df, y=['Real Values', 'Predicted Values'])\n",
        "#salva em HTML pois pacotes.....\n",
        "fig.write_html(\"plot1.html\")\n"
      ]
    },
    {
      "cell_type": "code",
      "execution_count": 50,
      "metadata": {},
      "outputs": [],
      "source": [
        "#dist cumulativa\n",
        "\n",
        "# plt.figure(figsize=(10,5))\n",
        "# sns.ecdfplot(data=df, x='SO2')\n",
        "# plt.title('Distribuição cumulativa de SO2')\n",
        "# plt.show()"
      ]
    },
    {
      "cell_type": "markdown",
      "metadata": {
        "id": "RFoyCgTA4emp"
      },
      "source": [
        "# <font color=yellow>**Parte 3**: Avaliação de desempenho"
      ]
    },
    {
      "cell_type": "markdown",
      "metadata": {
        "id": "ZyKt0OHw5Ym8"
      },
      "source": [
        "Principais métricas para avaliação de desempenho de um modelo de regressão:\n",
        "\n",
        "* **R² (Coeficiente de Determinação)** - varia de 0 a 1 e representa a proporção da variabilidade na variável dependente que pode ser explicada pelo modelo.\n",
        "* **MAE (Erro Absoluto Médio)** - avalia a precisão de um modelo prever os dados já observados, sendo a média das diferenças absolutas entre as previsões do modelo e os valores reais.\n",
        "* **MSE (Erro Quadrático Médio)** - também avalia a precisão do modelo, sendo calculado a partir da média das diferenças ao quadrado entre os valores previstos e os valores reais, penalizando mais erros maiores.\n",
        "* **RMSE (Raiz do Erro Quadrático Médio)** - é a raiz quadrada do MSE, tornando-se assim uma métrica mais fácil de ser interpretar, já que fica na mesma unidade que o dado original."
      ]
    },
    {
      "cell_type": "code",
      "execution_count": null,
      "metadata": {
        "colab": {
          "base_uri": "https://localhost:8080/"
        },
        "id": "mEU7ou1NZZNS",
        "outputId": "c90925eb-48f6-4be9-deee-237735cc6eba"
      },
      "outputs": [],
      "source": [
        "from sklearn.metrics import mean_absolute_error, mean_squared_error, r2_score\n",
        "import numpy as np\n",
        "\n",
        "# Calculando R²\n",
        "r2 = r2_score(y_test, y_pred)\n",
        "\n",
        "# Calculando MAE\n",
        "mae = mean_absolute_error(y_test, y_pred)\n",
        "\n",
        "# Calculando MSE\n",
        "mse = mean_squared_error(y_test, y_pred)\n",
        "\n",
        "# Calculando RMSE\n",
        "rmse = np.sqrt(mse)\n",
        "\n",
        "print('R2:', r2)\n",
        "print('MAE:', mae)\n",
        "print('MSE:', mse)\n",
        "print('RMSE:', rmse)"
      ]
    },
    {
      "cell_type": "markdown",
      "metadata": {
        "id": "KCHZrhc3xFzu"
      },
      "source": [
        "Um dos principais problemas do algoritmo da Árvore de Decisão é o **OVERFITTING**: \n",
        "- Quando na base de treino o modelo tem um bom desempenho, mas na base de teste tem um desempenho ruim\n",
        "- O modelo se ajustou de forma tão precisa aos dados de treinamento que aprende o ruído aleatório dos dados, mas não generaliza bem para novos dados.\n",
        "\n"
      ]
    },
    {
      "cell_type": "markdown",
      "metadata": {
        "id": "3CuCNyLsWXT6"
      },
      "source": [
        "# <font color=yellow>**Parte 4**: Aplicação do algoritmo RandomForest"
      ]
    },
    {
      "cell_type": "markdown",
      "metadata": {
        "id": "W4oj-glz_Jfn"
      },
      "source": [
        "Parâmetros:\n",
        "- n_estimators: número de árvores na floresta\n",
        "- max_features: número máximo de recursos considerados para dividir um nó\n",
        "- max_depth: número máximo de níveis em cada árvore de decisão\n",
        "- random_state: semente usada para gerar números aleatórios durante a execução do modelo"
      ]
    },
    {
      "cell_type": "code",
      "execution_count": null,
      "metadata": {
        "id": "hdFbN4VyS_Jg"
      },
      "outputs": [],
      "source": [
        "from sklearn.ensemble import RandomForestRegressor\n",
        "\n",
        "# Criando a classe RandomForestRegressor()\n",
        "rf_regressor = RandomForestRegressor(n_estimators = 300, max_features = 'sqrt', max_depth = 5, random_state = 18)\n",
        "\n",
        "# Ajustando o algoritmo a base de dados\n",
        "rf_regressor.fit(X_train, y_train)\n",
        "\n",
        "# Prevendo os resultados\n",
        "y_pred = rf_regressor.predict(X_test)"
      ]
    },
    {
      "cell_type": "code",
      "execution_count": null,
      "metadata": {
        "colab": {
          "base_uri": "https://localhost:8080/",
          "height": 206
        },
        "id": "oLtrRL_2V17Z",
        "outputId": "a80ad061-e2f6-4708-9375-521612ee20ab"
      },
      "outputs": [],
      "source": [
        "# Comparando os valores reais com os valores previstos\n",
        "df = pd.DataFrame({'Real Values':y_test, 'Predicted Values':y_pred})\n",
        "df.head()"
      ]
    },
    {
      "cell_type": "code",
      "execution_count": null,
      "metadata": {
        "colab": {
          "base_uri": "https://localhost:8080/",
          "height": 542
        },
        "id": "ACiWg9DUV8uc",
        "outputId": "94653772-a940-4d51-c371-c5437e1f3c46"
      },
      "outputs": [],
      "source": [
        "# Plotando gráfico\n",
        "fig = px.line(df, y=['Real Values', 'Predicted Values'])\n",
        "fig.show()"
      ]
    },
    {
      "cell_type": "markdown",
      "metadata": {
        "id": "3PgRJpTb4ttt"
      },
      "source": [
        "# <font color=yellow>**Parte 5**: Avaliação de desempenho"
      ]
    },
    {
      "cell_type": "code",
      "execution_count": null,
      "metadata": {
        "colab": {
          "base_uri": "https://localhost:8080/"
        },
        "id": "DdmUvoSzTKRZ",
        "outputId": "2125f76b-9963-4069-ee51-2ed1b912f3f1"
      },
      "outputs": [],
      "source": [
        "# Calculando R²\n",
        "r2 = r2_score(y_test, y_pred)\n",
        "\n",
        "# Calculando MAE\n",
        "mae = mean_absolute_error(y_test, y_pred)\n",
        "\n",
        "# Calculando MSE\n",
        "mse = mean_squared_error(y_test, y_pred)\n",
        "\n",
        "# Calculando RMSE\n",
        "rmse = np.sqrt(mse)\n",
        "\n",
        "print('R2:', r2)\n",
        "print('MAE:', mae)\n",
        "print('MSE:', mse)\n",
        "print('RMSE:', rmse)"
      ]
    }
  ],
  "metadata": {
    "colab": {
      "provenance": []
    },
    "kernelspec": {
      "display_name": ".venv",
      "language": "python",
      "name": "python3"
    },
    "language_info": {
      "codemirror_mode": {
        "name": "ipython",
        "version": 3
      },
      "file_extension": ".py",
      "mimetype": "text/x-python",
      "name": "python",
      "nbconvert_exporter": "python",
      "pygments_lexer": "ipython3",
      "version": "3.12.3"
    }
  },
  "nbformat": 4,
  "nbformat_minor": 0
}
