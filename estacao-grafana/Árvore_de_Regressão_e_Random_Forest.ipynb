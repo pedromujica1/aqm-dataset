{
  "cells": [
    {
      "cell_type": "markdown",
      "metadata": {
        "id": "76sGji413ExK"
      },
      "source": [
        "# **Árvore de Regressão e Random Forest**\n",
        "\n",
        "* Parte 1: Entendimento e divisão do dataset\n",
        "* Parte 2: Aplicação do algoritmo DecisionTreeRegressor\n",
        "* Parte 3: Avaliação de desempenho\n",
        "* Parte 4: Aplicação do algoritmo RandomForest\n",
        "* Parte 5: Avaliação de desempenho"
      ]
    },
    {
      "cell_type": "code",
      "execution_count": 2,
      "metadata": {},
      "outputs": [],
      "source": [
        "#Bibliotecas necessárias, modelos e métricas do scikit-learn e outros\n",
        "import numpy as np\n",
        "import seaborn as sns\n",
        "import matplotlib.pyplot as plt\n",
        "import pandas as pd\n",
        "from sklearn.linear_model import LinearRegression\n",
        "\n",
        "from sklearn.preprocessing import StandardScaler, MinMaxScaler, KernelCenterer,Normalizer\n",
        "\n",
        "from sklearn.pipeline import make_pipeline\n",
        "\n",
        "from sklearn.ensemble import RandomForestRegressor, AdaBoostRegressor\n",
        "\n",
        "from sklearn.neural_network import MLPRegressor\n",
        "\n",
        "from sklearn.metrics import r2_score\n",
        "from sklearn.model_selection import train_test_split, GridSearchCV, RandomizedSearchCV,\\\n",
        "                                    validation_curve, cross_val_score, \\\n",
        "                                    cross_validate, \\\n",
        "                                    RepeatedKFold, cross_val_predict, StratifiedKFold\n",
        "from scipy.stats import uniform, randint\n"
      ]
    },
    {
      "cell_type": "markdown",
      "metadata": {
        "id": "vkjIjGGUa3YC"
      },
      "source": [
        "# <font color=white>**Parte 1**: Entendimento e divisão do dataset"
      ]
    },
    {
      "cell_type": "markdown",
      "metadata": {
        "id": "oIqdNuuC3iQD"
      },
      "source": [
        "Definição das variáveis\n",
        "- so2 IAG\n",
        "- so2_1 estação\n",
        "- so2_2 estação\n",
        "- so2_3 estação\n",
        "- so2_4 estação\n",
        "- so2_we (working electord)\n",
        "- so2_ae (auxiliary electrodo)\n",
        "- best_so"
      ]
    },
    {
      "cell_type": "code",
      "execution_count": 3,
      "metadata": {
        "colab": {
          "base_uri": "https://localhost:8080/",
          "height": 270
        },
        "id": "1WqayzNKTLZA",
        "outputId": "89bf8594-b369-44ff-fa76-2e9af9d07eb5"
      },
      "outputs": [
        {
          "data": {
            "text/html": [
              "<div>\n",
              "<style scoped>\n",
              "    .dataframe tbody tr th:only-of-type {\n",
              "        vertical-align: middle;\n",
              "    }\n",
              "\n",
              "    .dataframe tbody tr th {\n",
              "        vertical-align: top;\n",
              "    }\n",
              "\n",
              "    .dataframe thead th {\n",
              "        text-align: right;\n",
              "    }\n",
              "</style>\n",
              "<table border=\"1\" class=\"dataframe\">\n",
              "  <thead>\n",
              "    <tr style=\"text-align: right;\">\n",
              "      <th></th>\n",
              "      <th>CO</th>\n",
              "    </tr>\n",
              "  </thead>\n",
              "  <tbody>\n",
              "    <tr>\n",
              "      <th>0</th>\n",
              "      <td>815.469921</td>\n",
              "    </tr>\n",
              "    <tr>\n",
              "      <th>1</th>\n",
              "      <td>815.479525</td>\n",
              "    </tr>\n",
              "    <tr>\n",
              "      <th>2</th>\n",
              "      <td>815.589499</td>\n",
              "    </tr>\n",
              "    <tr>\n",
              "      <th>3</th>\n",
              "      <td>815.680502</td>\n",
              "    </tr>\n",
              "    <tr>\n",
              "      <th>4</th>\n",
              "      <td>815.482320</td>\n",
              "    </tr>\n",
              "  </tbody>\n",
              "</table>\n",
              "</div>"
            ],
            "text/plain": [
              "           CO\n",
              "0  815.469921\n",
              "1  815.479525\n",
              "2  815.589499\n",
              "3  815.680502\n",
              "4  815.482320"
            ]
          },
          "execution_count": 3,
          "metadata": {},
          "output_type": "execute_result"
        }
      ],
      "source": [
        "#Leitura da base de dados da estação grafana com os dados de CO\n",
        "df = pd.read_csv('Best_CO-data_06-25.csv')\n",
        "#df1 = pd.read_csv('Best_NO2_06-25.csv')\n",
        "#df2 = pd.read_csv('Best_SO2-data_06-25.csv')\n",
        "df = df.drop(columns = ['time'])\n",
        "df.head()"
      ]
    },
    {
      "cell_type": "code",
      "execution_count": 4,
      "metadata": {},
      "outputs": [
        {
          "data": {
            "text/html": [
              "<div>\n",
              "<style scoped>\n",
              "    .dataframe tbody tr th:only-of-type {\n",
              "        vertical-align: middle;\n",
              "    }\n",
              "\n",
              "    .dataframe tbody tr th {\n",
              "        vertical-align: top;\n",
              "    }\n",
              "\n",
              "    .dataframe thead th {\n",
              "        text-align: right;\n",
              "    }\n",
              "</style>\n",
              "<table border=\"1\" class=\"dataframe\">\n",
              "  <thead>\n",
              "    <tr style=\"text-align: right;\">\n",
              "      <th></th>\n",
              "      <th>time</th>\n",
              "      <th>e1_anem</th>\n",
              "      <th>e1_anem_volt</th>\n",
              "      <th>e1_co</th>\n",
              "      <th>e1_co_2</th>\n",
              "      <th>e1_co_3</th>\n",
              "      <th>e1_co_4</th>\n",
              "      <th>e1_co_ae</th>\n",
              "      <th>e1_co_we</th>\n",
              "      <th>e1_location</th>\n",
              "      <th>...</th>\n",
              "      <th>iag_pm25</th>\n",
              "      <th>iag_pmcoarse</th>\n",
              "      <th>iag_pressure</th>\n",
              "      <th>iag_rainfalltotal</th>\n",
              "      <th>iag_sigma</th>\n",
              "      <th>iag_so2</th>\n",
              "      <th>iag_solarradiation</th>\n",
              "      <th>iag_wd</th>\n",
              "      <th>iag_ws</th>\n",
              "      <th>pin_umid</th>\n",
              "    </tr>\n",
              "  </thead>\n",
              "  <tbody>\n",
              "    <tr>\n",
              "      <th>0</th>\n",
              "      <td>2023-02-15 13:41:00</td>\n",
              "      <td>12.036327</td>\n",
              "      <td>NaN</td>\n",
              "      <td>-1315.716919</td>\n",
              "      <td>459.329041</td>\n",
              "      <td>465.226715</td>\n",
              "      <td>598.345581</td>\n",
              "      <td>NaN</td>\n",
              "      <td>NaN</td>\n",
              "      <td>NaN</td>\n",
              "      <td>...</td>\n",
              "      <td>NaN</td>\n",
              "      <td>NaN</td>\n",
              "      <td>NaN</td>\n",
              "      <td>NaN</td>\n",
              "      <td>NaN</td>\n",
              "      <td>NaN</td>\n",
              "      <td>NaN</td>\n",
              "      <td>NaN</td>\n",
              "      <td>NaN</td>\n",
              "      <td>NaN</td>\n",
              "    </tr>\n",
              "    <tr>\n",
              "      <th>1</th>\n",
              "      <td>2023-02-15 13:42:00</td>\n",
              "      <td>11.174897</td>\n",
              "      <td>NaN</td>\n",
              "      <td>-1575.367554</td>\n",
              "      <td>385.721252</td>\n",
              "      <td>395.833496</td>\n",
              "      <td>624.081055</td>\n",
              "      <td>NaN</td>\n",
              "      <td>NaN</td>\n",
              "      <td>NaN</td>\n",
              "      <td>...</td>\n",
              "      <td>NaN</td>\n",
              "      <td>NaN</td>\n",
              "      <td>NaN</td>\n",
              "      <td>NaN</td>\n",
              "      <td>NaN</td>\n",
              "      <td>NaN</td>\n",
              "      <td>NaN</td>\n",
              "      <td>NaN</td>\n",
              "      <td>NaN</td>\n",
              "      <td>NaN</td>\n",
              "    </tr>\n",
              "    <tr>\n",
              "      <th>2</th>\n",
              "      <td>2023-02-15 13:43:00</td>\n",
              "      <td>11.703624</td>\n",
              "      <td>NaN</td>\n",
              "      <td>-3228.860352</td>\n",
              "      <td>-520.005371</td>\n",
              "      <td>-492.953430</td>\n",
              "      <td>117.647057</td>\n",
              "      <td>NaN</td>\n",
              "      <td>NaN</td>\n",
              "      <td>NaN</td>\n",
              "      <td>...</td>\n",
              "      <td>NaN</td>\n",
              "      <td>NaN</td>\n",
              "      <td>NaN</td>\n",
              "      <td>NaN</td>\n",
              "      <td>NaN</td>\n",
              "      <td>NaN</td>\n",
              "      <td>NaN</td>\n",
              "      <td>NaN</td>\n",
              "      <td>NaN</td>\n",
              "      <td>NaN</td>\n",
              "    </tr>\n",
              "    <tr>\n",
              "      <th>3</th>\n",
              "      <td>2023-02-15 13:44:00</td>\n",
              "      <td>NaN</td>\n",
              "      <td>NaN</td>\n",
              "      <td>NaN</td>\n",
              "      <td>NaN</td>\n",
              "      <td>NaN</td>\n",
              "      <td>NaN</td>\n",
              "      <td>NaN</td>\n",
              "      <td>NaN</td>\n",
              "      <td>NaN</td>\n",
              "      <td>...</td>\n",
              "      <td>NaN</td>\n",
              "      <td>NaN</td>\n",
              "      <td>NaN</td>\n",
              "      <td>NaN</td>\n",
              "      <td>NaN</td>\n",
              "      <td>NaN</td>\n",
              "      <td>NaN</td>\n",
              "      <td>NaN</td>\n",
              "      <td>NaN</td>\n",
              "      <td>NaN</td>\n",
              "    </tr>\n",
              "    <tr>\n",
              "      <th>4</th>\n",
              "      <td>2023-02-15 13:45:00</td>\n",
              "      <td>11.888990</td>\n",
              "      <td>NaN</td>\n",
              "      <td>-1663.602783</td>\n",
              "      <td>315.461090</td>\n",
              "      <td>325.980530</td>\n",
              "      <td>563.419250</td>\n",
              "      <td>NaN</td>\n",
              "      <td>NaN</td>\n",
              "      <td>NaN</td>\n",
              "      <td>...</td>\n",
              "      <td>NaN</td>\n",
              "      <td>NaN</td>\n",
              "      <td>NaN</td>\n",
              "      <td>NaN</td>\n",
              "      <td>NaN</td>\n",
              "      <td>NaN</td>\n",
              "      <td>NaN</td>\n",
              "      <td>NaN</td>\n",
              "      <td>NaN</td>\n",
              "      <td>NaN</td>\n",
              "    </tr>\n",
              "  </tbody>\n",
              "</table>\n",
              "<p>5 rows × 181 columns</p>\n",
              "</div>"
            ],
            "text/plain": [
              "                  time    e1_anem  e1_anem_volt        e1_co     e1_co_2  \\\n",
              "0  2023-02-15 13:41:00  12.036327           NaN -1315.716919  459.329041   \n",
              "1  2023-02-15 13:42:00  11.174897           NaN -1575.367554  385.721252   \n",
              "2  2023-02-15 13:43:00  11.703624           NaN -3228.860352 -520.005371   \n",
              "3  2023-02-15 13:44:00        NaN           NaN          NaN         NaN   \n",
              "4  2023-02-15 13:45:00  11.888990           NaN -1663.602783  315.461090   \n",
              "\n",
              "      e1_co_3     e1_co_4  e1_co_ae  e1_co_we  e1_location  ...  iag_pm25  \\\n",
              "0  465.226715  598.345581       NaN       NaN          NaN  ...       NaN   \n",
              "1  395.833496  624.081055       NaN       NaN          NaN  ...       NaN   \n",
              "2 -492.953430  117.647057       NaN       NaN          NaN  ...       NaN   \n",
              "3         NaN         NaN       NaN       NaN          NaN  ...       NaN   \n",
              "4  325.980530  563.419250       NaN       NaN          NaN  ...       NaN   \n",
              "\n",
              "   iag_pmcoarse  iag_pressure  iag_rainfalltotal  iag_sigma  iag_so2  \\\n",
              "0           NaN           NaN                NaN        NaN      NaN   \n",
              "1           NaN           NaN                NaN        NaN      NaN   \n",
              "2           NaN           NaN                NaN        NaN      NaN   \n",
              "3           NaN           NaN                NaN        NaN      NaN   \n",
              "4           NaN           NaN                NaN        NaN      NaN   \n",
              "\n",
              "   iag_solarradiation  iag_wd  iag_ws  pin_umid  \n",
              "0                 NaN     NaN     NaN       NaN  \n",
              "1                 NaN     NaN     NaN       NaN  \n",
              "2                 NaN     NaN     NaN       NaN  \n",
              "3                 NaN     NaN     NaN       NaN  \n",
              "4                 NaN     NaN     NaN       NaN  \n",
              "\n",
              "[5 rows x 181 columns]"
            ]
          },
          "execution_count": 4,
          "metadata": {},
          "output_type": "execute_result"
        }
      ],
      "source": [
        "#Leitura da base de dados da estação IAG de São Paulo\n",
        "#print(aqm.shape)\n",
        "#print(aqm.describe())\n",
        "aqm = pd.read_csv('envcity_aqm_df.csv')\n",
        "aqm.head()"
      ]
    },
    {
      "cell_type": "code",
      "execution_count": 5,
      "metadata": {},
      "outputs": [
        {
          "data": {
            "text/html": [
              "<div>\n",
              "<style scoped>\n",
              "    .dataframe tbody tr th:only-of-type {\n",
              "        vertical-align: middle;\n",
              "    }\n",
              "\n",
              "    .dataframe tbody tr th {\n",
              "        vertical-align: top;\n",
              "    }\n",
              "\n",
              "    .dataframe thead th {\n",
              "        text-align: right;\n",
              "    }\n",
              "</style>\n",
              "<table border=\"1\" class=\"dataframe\">\n",
              "  <thead>\n",
              "    <tr style=\"text-align: right;\">\n",
              "      <th></th>\n",
              "      <th>time</th>\n",
              "      <th>e1_co</th>\n",
              "      <th>iag_co</th>\n",
              "    </tr>\n",
              "  </thead>\n",
              "  <tbody>\n",
              "    <tr>\n",
              "      <th>40939</th>\n",
              "      <td>2023-03-16 00:00:00</td>\n",
              "      <td>374.827820</td>\n",
              "      <td>1.378</td>\n",
              "    </tr>\n",
              "    <tr>\n",
              "      <th>40943</th>\n",
              "      <td>2023-03-16 00:04:00</td>\n",
              "      <td>383.092285</td>\n",
              "      <td>1.400</td>\n",
              "    </tr>\n",
              "    <tr>\n",
              "      <th>40947</th>\n",
              "      <td>2023-03-16 00:08:00</td>\n",
              "      <td>391.873291</td>\n",
              "      <td>1.420</td>\n",
              "    </tr>\n",
              "    <tr>\n",
              "      <th>40951</th>\n",
              "      <td>2023-03-16 00:12:00</td>\n",
              "      <td>366.046844</td>\n",
              "      <td>1.370</td>\n",
              "    </tr>\n",
              "    <tr>\n",
              "      <th>40954</th>\n",
              "      <td>2023-03-16 00:15:00</td>\n",
              "      <td>374.311310</td>\n",
              "      <td>1.363</td>\n",
              "    </tr>\n",
              "    <tr>\n",
              "      <th>...</th>\n",
              "      <td>...</td>\n",
              "      <td>...</td>\n",
              "      <td>...</td>\n",
              "    </tr>\n",
              "    <tr>\n",
              "      <th>134275</th>\n",
              "      <td>2023-05-19 19:36:00</td>\n",
              "      <td>672.864990</td>\n",
              "      <td>1.726</td>\n",
              "    </tr>\n",
              "    <tr>\n",
              "      <th>134279</th>\n",
              "      <td>2023-05-19 19:40:00</td>\n",
              "      <td>701.274170</td>\n",
              "      <td>1.695</td>\n",
              "    </tr>\n",
              "    <tr>\n",
              "      <th>134283</th>\n",
              "      <td>2023-05-19 19:44:00</td>\n",
              "      <td>771.005676</td>\n",
              "      <td>1.722</td>\n",
              "    </tr>\n",
              "    <tr>\n",
              "      <th>134287</th>\n",
              "      <td>2023-05-19 19:48:00</td>\n",
              "      <td>702.823792</td>\n",
              "      <td>1.728</td>\n",
              "    </tr>\n",
              "    <tr>\n",
              "      <th>134290</th>\n",
              "      <td>2023-05-19 19:51:00</td>\n",
              "      <td>728.650146</td>\n",
              "      <td>1.745</td>\n",
              "    </tr>\n",
              "  </tbody>\n",
              "</table>\n",
              "<p>22299 rows × 3 columns</p>\n",
              "</div>"
            ],
            "text/plain": [
              "                       time       e1_co  iag_co\n",
              "40939   2023-03-16 00:00:00  374.827820   1.378\n",
              "40943   2023-03-16 00:04:00  383.092285   1.400\n",
              "40947   2023-03-16 00:08:00  391.873291   1.420\n",
              "40951   2023-03-16 00:12:00  366.046844   1.370\n",
              "40954   2023-03-16 00:15:00  374.311310   1.363\n",
              "...                     ...         ...     ...\n",
              "134275  2023-05-19 19:36:00  672.864990   1.726\n",
              "134279  2023-05-19 19:40:00  701.274170   1.695\n",
              "134283  2023-05-19 19:44:00  771.005676   1.722\n",
              "134287  2023-05-19 19:48:00  702.823792   1.728\n",
              "134290  2023-05-19 19:51:00  728.650146   1.745\n",
              "\n",
              "[22299 rows x 3 columns]"
            ]
          },
          "execution_count": 5,
          "metadata": {},
          "output_type": "execute_result"
        }
      ],
      "source": [
        "#filtrando as linhas onde e1_co tem valores válidos\n",
        "df_filtrado = aqm[aqm['e1_co'].notna()][['time', 'e1_co', 'iag_co']]\n",
        "\n",
        "#remover linhas onde iag_co é NaN\n",
        "df_filtradoIAG = df_filtrado[df_filtrado['iag_co'].notna()]\n",
        "\n",
        "df_filtradoIAG "
      ]
    },
    {
      "cell_type": "code",
      "execution_count": null,
      "metadata": {},
      "outputs": [],
      "source": []
    },
    {
      "cell_type": "markdown",
      "metadata": {
        "id": "YOau6CXpWRZl"
      },
      "source": [
        "# <font color=yellow>**Parte 2**: Aplicação do algoritmo RF e DecisionTreeRegressor"
      ]
    },
    {
      "cell_type": "code",
      "execution_count": null,
      "metadata": {},
      "outputs": [],
      "source": [
        "#https://pt.stackoverflow.com/questions/428437/como-funciona-o-m%C3%A9todo-train-test-split-no-scikit-learn\n",
        "#Preparo do dataset para regressão\n",
        "labels =  ['co_we', 'co_ae']\n",
        "preffix = ['e2sp_']\n",
        "label_ref= 'iag_co'"
      ]
    },
    {
      "cell_type": "code",
      "execution_count": 43,
      "metadata": {},
      "outputs": [],
      "source": [
        "# plt.figure(figsize=(15,5))\n",
        "# plt.plot(df['Time'], df['SO2'])\n",
        "# plt.title('Variação de SO2 ao longo do tempo')\n",
        "# plt.xlabel('Data/Hora')\n",
        "# plt.ylabel('Concentração (ppb)')\n",
        "# #plt.grid()\n",
        "# #plt.show()"
      ]
    },
    {
      "cell_type": "code",
      "execution_count": 28,
      "metadata": {},
      "outputs": [],
      "source": [
        "#Boxplot \n",
        "\n",
        "# plt.figure(figsize=(10,5))\n",
        "# sns.boxplot(x='day', y='SO2', data=df)\n",
        "# plt.title('Distribuição de SO2 por dia')\n",
        "# plt.show()"
      ]
    },
    {
      "cell_type": "code",
      "execution_count": 29,
      "metadata": {},
      "outputs": [],
      "source": [
        "# #analise do horario\n",
        "\n",
        "# plt.figure(figsize=(10,5))\n",
        "# sns.lineplot(x='hour', y='SO2', data=df)\n",
        "# plt.title('Variação média de SO2 por hora')\n",
        "# plt.show()"
      ]
    },
    {
      "cell_type": "code",
      "execution_count": 30,
      "metadata": {},
      "outputs": [],
      "source": [
        "# #compara estatitisticas descritivas entre os dias\n",
        "\n",
        "# df.groupby('day')['SO2'].describe()"
      ]
    },
    {
      "cell_type": "code",
      "execution_count": 32,
      "metadata": {},
      "outputs": [],
      "source": [
        "#variação de SO2 por dia e hora\n",
        "\n",
        "# pivot = df.pivot_table(values='SO2', index='hour', columns='day')\n",
        "# plt.figure(figsize=(10,5))\n",
        "# sns.heatmap(pivot, cmap='YlOrRd')\n",
        "# plt.title('Variação de SO2 por hora e dia')\n",
        "# plt.show()"
      ]
    },
    {
      "cell_type": "code",
      "execution_count": 51,
      "metadata": {
        "id": "uSYASIgeVXND"
      },
      "outputs": [
        {
          "ename": "NameError",
          "evalue": "name 'X_train' is not defined",
          "output_type": "error",
          "traceback": [
            "\u001b[31m---------------------------------------------------------------------------\u001b[39m",
            "\u001b[31mNameError\u001b[39m                                 Traceback (most recent call last)",
            "\u001b[36mCell\u001b[39m\u001b[36m \u001b[39m\u001b[32mIn[51]\u001b[39m\u001b[32m, line 7\u001b[39m\n\u001b[32m      4\u001b[39m regressor = DecisionTreeRegressor()\n\u001b[32m      6\u001b[39m \u001b[38;5;66;03m# Ajustando o algoritmo a base de dados\u001b[39;00m\n\u001b[32m----> \u001b[39m\u001b[32m7\u001b[39m regressor.fit(\u001b[43mX_train\u001b[49m, y_train)\n\u001b[32m      9\u001b[39m \u001b[38;5;66;03m# Prevendo os resultados\u001b[39;00m\n\u001b[32m     10\u001b[39m y_pred = regressor.predict(X_test)\n",
            "\u001b[31mNameError\u001b[39m: name 'X_train' is not defined"
          ]
        }
      ],
      "source": [
        "from sklearn.tree import DecisionTreeRegressor\n",
        "\n",
        "# Criando a classe DecisionTreeRegressor()\n",
        "regressor = DecisionTreeRegressor()\n",
        "\n",
        "# Ajustando o algoritmo a base de dados\n",
        "regressor.fit(X_train, y_train)\n",
        "\n",
        "# Prevendo os resultados\n",
        "y_pred = regressor.predict(X_test)"
      ]
    },
    {
      "cell_type": "code",
      "execution_count": null,
      "metadata": {
        "colab": {
          "base_uri": "https://localhost:8080/",
          "height": 206
        },
        "id": "gN875uADVjKo",
        "outputId": "fe33075a-d954-4279-8832-0bd0bb7d3173"
      },
      "outputs": [
        {
          "ename": "NameError",
          "evalue": "name 'y_test' is not defined",
          "output_type": "error",
          "traceback": [
            "\u001b[31m---------------------------------------------------------------------------\u001b[39m",
            "\u001b[31mNameError\u001b[39m                                 Traceback (most recent call last)",
            "\u001b[36mCell\u001b[39m\u001b[36m \u001b[39m\u001b[32mIn[37]\u001b[39m\u001b[32m, line 2\u001b[39m\n\u001b[32m      1\u001b[39m \u001b[38;5;66;03m# Comparando os valores reais com os valores previstos\u001b[39;00m\n\u001b[32m----> \u001b[39m\u001b[32m2\u001b[39m df = pd.DataFrame({\u001b[33m'\u001b[39m\u001b[33mReal Values\u001b[39m\u001b[33m'\u001b[39m:\u001b[43my_test\u001b[49m, \u001b[33m'\u001b[39m\u001b[33mPredicted Values\u001b[39m\u001b[33m'\u001b[39m:y_pred})\n\u001b[32m      3\u001b[39m df.head()\n",
            "\u001b[31mNameError\u001b[39m: name 'y_test' is not defined"
          ]
        }
      ],
      "source": [
        "# Comparando os valores reais com os valores previstos\n",
        "df = pd.DataFrame({'Real Values':y_test, 'Predicted Values':y_pred})\n",
        "df.head()"
      ]
    },
    {
      "cell_type": "code",
      "execution_count": null,
      "metadata": {
        "colab": {
          "base_uri": "https://localhost:8080/",
          "height": 542
        },
        "id": "X7S-hktfRWsn",
        "outputId": "31bc57b6-d8b2-4a3a-b81c-30d2f6f2c12b"
      },
      "outputs": [],
      "source": [
        "import plotly.express as px\n",
        "\n",
        "# Plotando gráfico\n",
        "fig = px.line(df, y=['Real Values', 'Predicted Values'])\n",
        "fig.show()"
      ]
    },
    {
      "cell_type": "code",
      "execution_count": 50,
      "metadata": {},
      "outputs": [],
      "source": [
        "#dist cumulativa\n",
        "\n",
        "# plt.figure(figsize=(10,5))\n",
        "# sns.ecdfplot(data=df, x='SO2')\n",
        "# plt.title('Distribuição cumulativa de SO2')\n",
        "# plt.show()"
      ]
    },
    {
      "cell_type": "markdown",
      "metadata": {
        "id": "RFoyCgTA4emp"
      },
      "source": [
        "# <font color=yellow>**Parte 3**: Avaliação de desempenho"
      ]
    },
    {
      "cell_type": "markdown",
      "metadata": {
        "id": "ZyKt0OHw5Ym8"
      },
      "source": [
        "Principais métricas para avaliação de desempenho de um modelo de regressão:\n",
        "\n",
        "* **R² (Coeficiente de Determinação)** - varia de 0 a 1 e representa a proporção da variabilidade na variável dependente que pode ser explicada pelo modelo.\n",
        "* **MAE (Erro Absoluto Médio)** - avalia a precisão de um modelo prever os dados já observados, sendo a média das diferenças absolutas entre as previsões do modelo e os valores reais.\n",
        "* **MSE (Erro Quadrático Médio)** - também avalia a precisão do modelo, sendo calculado a partir da média das diferenças ao quadrado entre os valores previstos e os valores reais, penalizando mais erros maiores.\n",
        "* **RMSE (Raiz do Erro Quadrático Médio)** - é a raiz quadrada do MSE, tornando-se assim uma métrica mais fácil de ser interpretar, já que fica na mesma unidade que o dado original."
      ]
    },
    {
      "cell_type": "code",
      "execution_count": null,
      "metadata": {
        "colab": {
          "base_uri": "https://localhost:8080/"
        },
        "id": "mEU7ou1NZZNS",
        "outputId": "c90925eb-48f6-4be9-deee-237735cc6eba"
      },
      "outputs": [],
      "source": [
        "from sklearn.metrics import mean_absolute_error, mean_squared_error, r2_score\n",
        "import numpy as np\n",
        "\n",
        "# Calculando R²\n",
        "r2 = r2_score(y_test, y_pred)\n",
        "\n",
        "# Calculando MAE\n",
        "mae = mean_absolute_error(y_test, y_pred)\n",
        "\n",
        "# Calculando MSE\n",
        "mse = mean_squared_error(y_test, y_pred)\n",
        "\n",
        "# Calculando RMSE\n",
        "rmse = np.sqrt(mse)\n",
        "\n",
        "print('R2:', r2)\n",
        "print('MAE:', mae)\n",
        "print('MSE:', mse)\n",
        "print('RMSE:', rmse)"
      ]
    },
    {
      "cell_type": "markdown",
      "metadata": {
        "id": "KCHZrhc3xFzu"
      },
      "source": [
        "Um dos principais problemas do algoritmo da Árvore de Decisão é o **OVERFITTING**: \n",
        "- Quando na base de treino o modelo tem um bom desempenho, mas na base de teste tem um desempenho ruim\n",
        "- O modelo se ajustou de forma tão precisa aos dados de treinamento que aprende o ruído aleatório dos dados, mas não generaliza bem para novos dados.\n",
        "\n"
      ]
    },
    {
      "cell_type": "markdown",
      "metadata": {
        "id": "3CuCNyLsWXT6"
      },
      "source": [
        "# <font color=yellow>**Parte 4**: Aplicação do algoritmo RandomForest"
      ]
    },
    {
      "cell_type": "markdown",
      "metadata": {
        "id": "W4oj-glz_Jfn"
      },
      "source": [
        "Parâmetros:\n",
        "- n_estimators: número de árvores na floresta\n",
        "- max_features: número máximo de recursos considerados para dividir um nó\n",
        "- max_depth: número máximo de níveis em cada árvore de decisão\n",
        "- random_state: semente usada para gerar números aleatórios durante a execução do modelo"
      ]
    },
    {
      "cell_type": "code",
      "execution_count": null,
      "metadata": {
        "id": "hdFbN4VyS_Jg"
      },
      "outputs": [],
      "source": [
        "from sklearn.ensemble import RandomForestRegressor\n",
        "\n",
        "# Criando a classe RandomForestRegressor()\n",
        "rf_regressor = RandomForestRegressor(n_estimators = 300, max_features = 'sqrt', max_depth = 5, random_state = 18)\n",
        "\n",
        "# Ajustando o algoritmo a base de dados\n",
        "rf_regressor.fit(X_train, y_train)\n",
        "\n",
        "# Prevendo os resultados\n",
        "y_pred = rf_regressor.predict(X_test)"
      ]
    },
    {
      "cell_type": "code",
      "execution_count": null,
      "metadata": {
        "colab": {
          "base_uri": "https://localhost:8080/",
          "height": 206
        },
        "id": "oLtrRL_2V17Z",
        "outputId": "a80ad061-e2f6-4708-9375-521612ee20ab"
      },
      "outputs": [],
      "source": [
        "# Comparando os valores reais com os valores previstos\n",
        "df = pd.DataFrame({'Real Values':y_test, 'Predicted Values':y_pred})\n",
        "df.head()"
      ]
    },
    {
      "cell_type": "code",
      "execution_count": null,
      "metadata": {
        "colab": {
          "base_uri": "https://localhost:8080/",
          "height": 542
        },
        "id": "ACiWg9DUV8uc",
        "outputId": "94653772-a940-4d51-c371-c5437e1f3c46"
      },
      "outputs": [],
      "source": [
        "# Plotando gráfico\n",
        "fig = px.line(df, y=['Real Values', 'Predicted Values'])\n",
        "fig.show()"
      ]
    },
    {
      "cell_type": "markdown",
      "metadata": {
        "id": "3PgRJpTb4ttt"
      },
      "source": [
        "# <font color=yellow>**Parte 5**: Avaliação de desempenho"
      ]
    },
    {
      "cell_type": "code",
      "execution_count": null,
      "metadata": {
        "colab": {
          "base_uri": "https://localhost:8080/"
        },
        "id": "DdmUvoSzTKRZ",
        "outputId": "2125f76b-9963-4069-ee51-2ed1b912f3f1"
      },
      "outputs": [],
      "source": [
        "# Calculando R²\n",
        "r2 = r2_score(y_test, y_pred)\n",
        "\n",
        "# Calculando MAE\n",
        "mae = mean_absolute_error(y_test, y_pred)\n",
        "\n",
        "# Calculando MSE\n",
        "mse = mean_squared_error(y_test, y_pred)\n",
        "\n",
        "# Calculando RMSE\n",
        "rmse = np.sqrt(mse)\n",
        "\n",
        "print('R2:', r2)\n",
        "print('MAE:', mae)\n",
        "print('MSE:', mse)\n",
        "print('RMSE:', rmse)"
      ]
    }
  ],
  "metadata": {
    "colab": {
      "provenance": []
    },
    "kernelspec": {
      "display_name": "venv",
      "language": "python",
      "name": "python3"
    },
    "language_info": {
      "codemirror_mode": {
        "name": "ipython",
        "version": 3
      },
      "file_extension": ".py",
      "mimetype": "text/x-python",
      "name": "python",
      "nbconvert_exporter": "python",
      "pygments_lexer": "ipython3",
      "version": "3.12.3"
    }
  },
  "nbformat": 4,
  "nbformat_minor": 0
}
